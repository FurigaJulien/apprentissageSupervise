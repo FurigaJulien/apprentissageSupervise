{
  "nbformat": 4,
  "nbformat_minor": 0,
  "metadata": {
    "language_info": {
      "codemirror_mode": {
        "name": "ipython",
        "version": 3
      },
      "file_extension": ".py",
      "mimetype": "text/x-python",
      "name": "python",
      "nbconvert_exporter": "python",
      "pygments_lexer": "ipython3",
      "version": "3.8.3-final"
    },
    "orig_nbformat": 2,
    "kernelspec": {
      "name": "python3",
      "display_name": "Python 3",
      "language": "python"
    },
    "colab": {
      "name": "apprentissage_supervisé&.ipynb",
      "provenance": [],
      "collapsed_sections": []
    },
    "accelerator": "GPU"
  },
  "cells": [
    {
      "cell_type": "code",
      "metadata": {
        "id": "QaEetYw8DezH"
      },
      "source": [
        "import pandas as pd \n",
        "import matplotlib.pyplot as plt \n",
        "from sklearn.preprocessing import LabelEncoder,StandardScaler\n",
        "from sklearn.linear_model import SGDClassifier\n",
        "from sklearn.model_selection import train_test_split,cross_val_score, GridSearchCV,cross_val_predict\n",
        "\n",
        "from sklearn.metrics import mean_squared_error,r2_score,confusion_matrix,f1_score,precision_recall_curve,roc_curve,roc_auc_score\n",
        "import numpy as np\n",
        "from sklearn.base import BaseEstimator\n",
        "from sklearn.datasets import fetch_openml\n",
        "import cv2"
      ],
      "execution_count": 2,
      "outputs": []
    },
    {
      "cell_type": "markdown",
      "metadata": {
        "id": "eyGY3FBbDezO"
      },
      "source": [
        "# Preparation des données\n",
        "\n",
        "## Telechargement des données"
      ]
    },
    {
      "cell_type": "code",
      "metadata": {
        "colab": {
          "base_uri": "https://localhost:8080/"
        },
        "id": "AGE6vBCkDezO",
        "outputId": "d3844c92-8c44-46eb-d7bd-544940f47635"
      },
      "source": [
        "dataDict=fetch_openml('mnist_784', version=1)\n",
        "\n",
        "print(\"Affichage des cles du dictionnaire : \")\n",
        "for cle in dataDict.keys():\n",
        "    print(cle)"
      ],
      "execution_count": 3,
      "outputs": [
        {
          "output_type": "stream",
          "name": "stdout",
          "text": [
            "Affichage des cles du dictionnaire : \ndata\ntarget\nframe\ncategories\nfeature_names\ntarget_names\nDESCR\ndetails\nurl\n"
          ]
        }
      ]
    },
    {
      "cell_type": "markdown",
      "metadata": {
        "id": "ARXZkUAYDezQ"
      },
      "source": [
        "## Informations sur les données"
      ]
    },
    {
      "cell_type": "code",
      "metadata": {
        "colab": {
          "base_uri": "https://localhost:8080/"
        },
        "id": "83sy2RiTDezQ",
        "outputId": "c23f0e4a-919f-43db-993e-b4e60b7e37d6"
      },
      "source": [
        "print(\"Il y a {} features pour {} échantillons\".format(dataDict[\"data\"].shape[1],dataDict[\"data\"].shape[0]))\n",
        "X=dataDict['data']\n",
        "print(\"Il y a {} targets\".format(np.unique(dataDict['target']).size))\n",
        "y=dataDict['target']\n",
        "\n",
        "print(\"Les differentes valeurs sont : {}\".format(np.unique(y)))\n",
        "print(\"Description détaillée de la base de donnée :\")\n",
        "print(dataDict['DESCR'])"
      ],
      "execution_count": 4,
      "outputs": [
        {
          "output_type": "stream",
          "name": "stdout",
          "text": [
            "Il y a 784 features pour 70000 échantillons\n",
            "Il y a 10 targets\n",
            "Les differentes valeurs sont : ['0' '1' '2' '3' '4' '5' '6' '7' '8' '9']\n",
            "Description détaillée de la base de donnée :\n",
            "**Author**: Yann LeCun, Corinna Cortes, Christopher J.C. Burges  \n",
            "**Source**: [MNIST Website](http://yann.lecun.com/exdb/mnist/) - Date unknown  \n",
            "**Please cite**:  \n",
            "\n",
            "The MNIST database of handwritten digits with 784 features, raw data available at: http://yann.lecun.com/exdb/mnist/. It can be split in a training set of the first 60,000 examples, and a test set of 10,000 examples  \n",
            "\n",
            "It is a subset of a larger set available from NIST. The digits have been size-normalized and centered in a fixed-size image. It is a good database for people who want to try learning techniques and pattern recognition methods on real-world data while spending minimal efforts on preprocessing and formatting. The original black and white (bilevel) images from NIST were size normalized to fit in a 20x20 pixel box while preserving their aspect ratio. The resulting images contain grey levels as a result of the anti-aliasing technique used by the normalization algorithm. the images were centered in a 28x28 image by computing the center of mass of the pixels, and translating the image so as to position this point at the center of the 28x28 field.  \n",
            "\n",
            "With some classification methods (particularly template-based methods, such as SVM and K-nearest neighbors), the error rate improves when the digits are centered by bounding box rather than center of mass. If you do this kind of pre-processing, you should report it in your publications. The MNIST database was constructed from NIST's NIST originally designated SD-3 as their training set and SD-1 as their test set. However, SD-3 is much cleaner and easier to recognize than SD-1. The reason for this can be found on the fact that SD-3 was collected among Census Bureau employees, while SD-1 was collected among high-school students. Drawing sensible conclusions from learning experiments requires that the result be independent of the choice of training set and test among the complete set of samples. Therefore it was necessary to build a new database by mixing NIST's datasets.  \n",
            "\n",
            "The MNIST training set is composed of 30,000 patterns from SD-3 and 30,000 patterns from SD-1. Our test set was composed of 5,000 patterns from SD-3 and 5,000 patterns from SD-1. The 60,000 pattern training set contained examples from approximately 250 writers. We made sure that the sets of writers of the training set and test set were disjoint. SD-1 contains 58,527 digit images written by 500 different writers. In contrast to SD-3, where blocks of data from each writer appeared in sequence, the data in SD-1 is scrambled. Writer identities for SD-1 is available and we used this information to unscramble the writers. We then split SD-1 in two: characters written by the first 250 writers went into our new training set. The remaining 250 writers were placed in our test set. Thus we had two sets with nearly 30,000 examples each. The new training set was completed with enough examples from SD-3, starting at pattern # 0, to make a full set of 60,000 training patterns. Similarly, the new test set was completed with SD-3 examples starting at pattern # 35,000 to make a full set with 60,000 test patterns. Only a subset of 10,000 test images (5,000 from SD-1 and 5,000 from SD-3) is available on this site. The full 60,000 sample training set is available.\n",
            "\n",
            "Downloaded from openml.org.\n"
          ]
        }
      ]
    },
    {
      "cell_type": "code",
      "metadata": {
        "colab": {
          "base_uri": "https://localhost:8080/",
          "height": 282
        },
        "id": "WSg_i4ESDezR",
        "outputId": "ca9a8745-81d9-494a-a076-8c75d80debbe"
      },
      "source": [
        "plt.imshow(X[0].reshape(28,28))\n"
      ],
      "execution_count": 5,
      "outputs": [
        {
          "output_type": "execute_result",
          "data": {
            "text/plain": [
              "<matplotlib.image.AxesImage at 0x142429e4dc0>"
            ]
          },
          "metadata": {},
          "execution_count": 5
        },
        {
          "output_type": "display_data",
          "data": {
            "text/plain": "<Figure size 432x288 with 1 Axes>",
            "image/svg+xml": "<?xml version=\"1.0\" encoding=\"utf-8\" standalone=\"no\"?>\r\n<!DOCTYPE svg PUBLIC \"-//W3C//DTD SVG 1.1//EN\"\r\n  \"http://www.w3.org/Graphics/SVG/1.1/DTD/svg11.dtd\">\r\n<!-- Created with matplotlib (https://matplotlib.org/) -->\r\n<svg height=\"248.518125pt\" version=\"1.1\" viewBox=\"0 0 251.565 248.518125\" width=\"251.565pt\" xmlns=\"http://www.w3.org/2000/svg\" xmlns:xlink=\"http://www.w3.org/1999/xlink\">\r\n <defs>\r\n  <style type=\"text/css\">\r\n*{stroke-linecap:butt;stroke-linejoin:round;}\r\n  </style>\r\n </defs>\r\n <g id=\"figure_1\">\r\n  <g id=\"patch_1\">\r\n   <path d=\"M 0 248.518125 \r\nL 251.565 248.518125 \r\nL 251.565 0 \r\nL 0 0 \r\nz\r\n\" style=\"fill:none;\"/>\r\n  </g>\r\n  <g id=\"axes_1\">\r\n   <g id=\"patch_2\">\r\n    <path d=\"M 26.925 224.64 \r\nL 244.365 224.64 \r\nL 244.365 7.2 \r\nL 26.925 7.2 \r\nz\r\n\" style=\"fill:#ffffff;\"/>\r\n   </g>\r\n   <g clip-path=\"url(#pc32688b151)\">\r\n    <image height=\"218\" id=\"image9fa0a7dc50\" transform=\"scale(1 -1)translate(0 -218)\" width=\"218\" x=\"26.925\" xlink:href=\"data:image/png;base64,\r\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\" y=\"-6.64\"/>\r\n   </g>\r\n   <g id=\"matplotlib.axis_1\">\r\n    <g id=\"xtick_1\">\r\n     <g id=\"line2d_1\">\r\n      <defs>\r\n       <path d=\"M 0 0 \r\nL 0 3.5 \r\n\" id=\"m3451ed998f\" style=\"stroke:#000000;stroke-width:0.8;\"/>\r\n      </defs>\r\n      <g>\r\n       <use style=\"stroke:#000000;stroke-width:0.8;\" x=\"30.807857\" xlink:href=\"#m3451ed998f\" y=\"224.64\"/>\r\n      </g>\r\n     </g>\r\n     <g id=\"text_1\">\r\n      <!-- 0 -->\r\n      <defs>\r\n       <path d=\"M 31.78125 66.40625 \r\nQ 24.171875 66.40625 20.328125 58.90625 \r\nQ 16.5 51.421875 16.5 36.375 \r\nQ 16.5 21.390625 20.328125 13.890625 \r\nQ 24.171875 6.390625 31.78125 6.390625 \r\nQ 39.453125 6.390625 43.28125 13.890625 \r\nQ 47.125 21.390625 47.125 36.375 \r\nQ 47.125 51.421875 43.28125 58.90625 \r\nQ 39.453125 66.40625 31.78125 66.40625 \r\nz\r\nM 31.78125 74.21875 \r\nQ 44.046875 74.21875 50.515625 64.515625 \r\nQ 56.984375 54.828125 56.984375 36.375 \r\nQ 56.984375 17.96875 50.515625 8.265625 \r\nQ 44.046875 -1.421875 31.78125 -1.421875 \r\nQ 19.53125 -1.421875 13.0625 8.265625 \r\nQ 6.59375 17.96875 6.59375 36.375 \r\nQ 6.59375 54.828125 13.0625 64.515625 \r\nQ 19.53125 74.21875 31.78125 74.21875 \r\nz\r\n\" id=\"DejaVuSans-48\"/>\r\n      </defs>\r\n      <g transform=\"translate(27.626607 239.238437)scale(0.1 -0.1)\">\r\n       <use xlink:href=\"#DejaVuSans-48\"/>\r\n      </g>\r\n     </g>\r\n    </g>\r\n    <g id=\"xtick_2\">\r\n     <g id=\"line2d_2\">\r\n      <g>\r\n       <use style=\"stroke:#000000;stroke-width:0.8;\" x=\"69.636429\" xlink:href=\"#m3451ed998f\" y=\"224.64\"/>\r\n      </g>\r\n     </g>\r\n     <g id=\"text_2\">\r\n      <!-- 5 -->\r\n      <defs>\r\n       <path d=\"M 10.796875 72.90625 \r\nL 49.515625 72.90625 \r\nL 49.515625 64.59375 \r\nL 19.828125 64.59375 \r\nL 19.828125 46.734375 \r\nQ 21.96875 47.46875 24.109375 47.828125 \r\nQ 26.265625 48.1875 28.421875 48.1875 \r\nQ 40.625 48.1875 47.75 41.5 \r\nQ 54.890625 34.8125 54.890625 23.390625 \r\nQ 54.890625 11.625 47.5625 5.09375 \r\nQ 40.234375 -1.421875 26.90625 -1.421875 \r\nQ 22.3125 -1.421875 17.546875 -0.640625 \r\nQ 12.796875 0.140625 7.71875 1.703125 \r\nL 7.71875 11.625 \r\nQ 12.109375 9.234375 16.796875 8.0625 \r\nQ 21.484375 6.890625 26.703125 6.890625 \r\nQ 35.15625 6.890625 40.078125 11.328125 \r\nQ 45.015625 15.765625 45.015625 23.390625 \r\nQ 45.015625 31 40.078125 35.4375 \r\nQ 35.15625 39.890625 26.703125 39.890625 \r\nQ 22.75 39.890625 18.8125 39.015625 \r\nQ 14.890625 38.140625 10.796875 36.28125 \r\nz\r\n\" id=\"DejaVuSans-53\"/>\r\n      </defs>\r\n      <g transform=\"translate(66.455179 239.238437)scale(0.1 -0.1)\">\r\n       <use xlink:href=\"#DejaVuSans-53\"/>\r\n      </g>\r\n     </g>\r\n    </g>\r\n    <g id=\"xtick_3\">\r\n     <g id=\"line2d_3\">\r\n      <g>\r\n       <use style=\"stroke:#000000;stroke-width:0.8;\" x=\"108.465\" xlink:href=\"#m3451ed998f\" y=\"224.64\"/>\r\n      </g>\r\n     </g>\r\n     <g id=\"text_3\">\r\n      <!-- 10 -->\r\n      <defs>\r\n       <path d=\"M 12.40625 8.296875 \r\nL 28.515625 8.296875 \r\nL 28.515625 63.921875 \r\nL 10.984375 60.40625 \r\nL 10.984375 69.390625 \r\nL 28.421875 72.90625 \r\nL 38.28125 72.90625 \r\nL 38.28125 8.296875 \r\nL 54.390625 8.296875 \r\nL 54.390625 0 \r\nL 12.40625 0 \r\nz\r\n\" id=\"DejaVuSans-49\"/>\r\n      </defs>\r\n      <g transform=\"translate(102.1025 239.238437)scale(0.1 -0.1)\">\r\n       <use xlink:href=\"#DejaVuSans-49\"/>\r\n       <use x=\"63.623047\" xlink:href=\"#DejaVuSans-48\"/>\r\n      </g>\r\n     </g>\r\n    </g>\r\n    <g id=\"xtick_4\">\r\n     <g id=\"line2d_4\">\r\n      <g>\r\n       <use style=\"stroke:#000000;stroke-width:0.8;\" x=\"147.293571\" xlink:href=\"#m3451ed998f\" y=\"224.64\"/>\r\n      </g>\r\n     </g>\r\n     <g id=\"text_4\">\r\n      <!-- 15 -->\r\n      <g transform=\"translate(140.931071 239.238437)scale(0.1 -0.1)\">\r\n       <use xlink:href=\"#DejaVuSans-49\"/>\r\n       <use x=\"63.623047\" xlink:href=\"#DejaVuSans-53\"/>\r\n      </g>\r\n     </g>\r\n    </g>\r\n    <g id=\"xtick_5\">\r\n     <g id=\"line2d_5\">\r\n      <g>\r\n       <use style=\"stroke:#000000;stroke-width:0.8;\" x=\"186.122143\" xlink:href=\"#m3451ed998f\" y=\"224.64\"/>\r\n      </g>\r\n     </g>\r\n     <g id=\"text_5\">\r\n      <!-- 20 -->\r\n      <defs>\r\n       <path d=\"M 19.1875 8.296875 \r\nL 53.609375 8.296875 \r\nL 53.609375 0 \r\nL 7.328125 0 \r\nL 7.328125 8.296875 \r\nQ 12.9375 14.109375 22.625 23.890625 \r\nQ 32.328125 33.6875 34.8125 36.53125 \r\nQ 39.546875 41.84375 41.421875 45.53125 \r\nQ 43.3125 49.21875 43.3125 52.78125 \r\nQ 43.3125 58.59375 39.234375 62.25 \r\nQ 35.15625 65.921875 28.609375 65.921875 \r\nQ 23.96875 65.921875 18.8125 64.3125 \r\nQ 13.671875 62.703125 7.8125 59.421875 \r\nL 7.8125 69.390625 \r\nQ 13.765625 71.78125 18.9375 73 \r\nQ 24.125 74.21875 28.421875 74.21875 \r\nQ 39.75 74.21875 46.484375 68.546875 \r\nQ 53.21875 62.890625 53.21875 53.421875 \r\nQ 53.21875 48.921875 51.53125 44.890625 \r\nQ 49.859375 40.875 45.40625 35.40625 \r\nQ 44.1875 33.984375 37.640625 27.21875 \r\nQ 31.109375 20.453125 19.1875 8.296875 \r\nz\r\n\" id=\"DejaVuSans-50\"/>\r\n      </defs>\r\n      <g transform=\"translate(179.759643 239.238437)scale(0.1 -0.1)\">\r\n       <use xlink:href=\"#DejaVuSans-50\"/>\r\n       <use x=\"63.623047\" xlink:href=\"#DejaVuSans-48\"/>\r\n      </g>\r\n     </g>\r\n    </g>\r\n    <g id=\"xtick_6\">\r\n     <g id=\"line2d_6\">\r\n      <g>\r\n       <use style=\"stroke:#000000;stroke-width:0.8;\" x=\"224.950714\" xlink:href=\"#m3451ed998f\" y=\"224.64\"/>\r\n      </g>\r\n     </g>\r\n     <g id=\"text_6\">\r\n      <!-- 25 -->\r\n      <g transform=\"translate(218.588214 239.238437)scale(0.1 -0.1)\">\r\n       <use xlink:href=\"#DejaVuSans-50\"/>\r\n       <use x=\"63.623047\" xlink:href=\"#DejaVuSans-53\"/>\r\n      </g>\r\n     </g>\r\n    </g>\r\n   </g>\r\n   <g id=\"matplotlib.axis_2\">\r\n    <g id=\"ytick_1\">\r\n     <g id=\"line2d_7\">\r\n      <defs>\r\n       <path d=\"M 0 0 \r\nL -3.5 0 \r\n\" id=\"m04460888f5\" style=\"stroke:#000000;stroke-width:0.8;\"/>\r\n      </defs>\r\n      <g>\r\n       <use style=\"stroke:#000000;stroke-width:0.8;\" x=\"26.925\" xlink:href=\"#m04460888f5\" y=\"11.082857\"/>\r\n      </g>\r\n     </g>\r\n     <g id=\"text_7\">\r\n      <!-- 0 -->\r\n      <g transform=\"translate(13.5625 14.882076)scale(0.1 -0.1)\">\r\n       <use xlink:href=\"#DejaVuSans-48\"/>\r\n      </g>\r\n     </g>\r\n    </g>\r\n    <g id=\"ytick_2\">\r\n     <g id=\"line2d_8\">\r\n      <g>\r\n       <use style=\"stroke:#000000;stroke-width:0.8;\" x=\"26.925\" xlink:href=\"#m04460888f5\" y=\"49.911429\"/>\r\n      </g>\r\n     </g>\r\n     <g id=\"text_8\">\r\n      <!-- 5 -->\r\n      <g transform=\"translate(13.5625 53.710647)scale(0.1 -0.1)\">\r\n       <use xlink:href=\"#DejaVuSans-53\"/>\r\n      </g>\r\n     </g>\r\n    </g>\r\n    <g id=\"ytick_3\">\r\n     <g id=\"line2d_9\">\r\n      <g>\r\n       <use style=\"stroke:#000000;stroke-width:0.8;\" x=\"26.925\" xlink:href=\"#m04460888f5\" y=\"88.74\"/>\r\n      </g>\r\n     </g>\r\n     <g id=\"text_9\">\r\n      <!-- 10 -->\r\n      <g transform=\"translate(7.2 92.539219)scale(0.1 -0.1)\">\r\n       <use xlink:href=\"#DejaVuSans-49\"/>\r\n       <use x=\"63.623047\" xlink:href=\"#DejaVuSans-48\"/>\r\n      </g>\r\n     </g>\r\n    </g>\r\n    <g id=\"ytick_4\">\r\n     <g id=\"line2d_10\">\r\n      <g>\r\n       <use style=\"stroke:#000000;stroke-width:0.8;\" x=\"26.925\" xlink:href=\"#m04460888f5\" y=\"127.568571\"/>\r\n      </g>\r\n     </g>\r\n     <g id=\"text_10\">\r\n      <!-- 15 -->\r\n      <g transform=\"translate(7.2 131.36779)scale(0.1 -0.1)\">\r\n       <use xlink:href=\"#DejaVuSans-49\"/>\r\n       <use x=\"63.623047\" xlink:href=\"#DejaVuSans-53\"/>\r\n      </g>\r\n     </g>\r\n    </g>\r\n    <g id=\"ytick_5\">\r\n     <g id=\"line2d_11\">\r\n      <g>\r\n       <use style=\"stroke:#000000;stroke-width:0.8;\" x=\"26.925\" xlink:href=\"#m04460888f5\" y=\"166.397143\"/>\r\n      </g>\r\n     </g>\r\n     <g id=\"text_11\">\r\n      <!-- 20 -->\r\n      <g transform=\"translate(7.2 170.196362)scale(0.1 -0.1)\">\r\n       <use xlink:href=\"#DejaVuSans-50\"/>\r\n       <use x=\"63.623047\" xlink:href=\"#DejaVuSans-48\"/>\r\n      </g>\r\n     </g>\r\n    </g>\r\n    <g id=\"ytick_6\">\r\n     <g id=\"line2d_12\">\r\n      <g>\r\n       <use style=\"stroke:#000000;stroke-width:0.8;\" x=\"26.925\" xlink:href=\"#m04460888f5\" y=\"205.225714\"/>\r\n      </g>\r\n     </g>\r\n     <g id=\"text_12\">\r\n      <!-- 25 -->\r\n      <g transform=\"translate(7.2 209.024933)scale(0.1 -0.1)\">\r\n       <use xlink:href=\"#DejaVuSans-50\"/>\r\n       <use x=\"63.623047\" xlink:href=\"#DejaVuSans-53\"/>\r\n      </g>\r\n     </g>\r\n    </g>\r\n   </g>\r\n   <g id=\"patch_3\">\r\n    <path d=\"M 26.925 224.64 \r\nL 26.925 7.2 \r\n\" style=\"fill:none;stroke:#000000;stroke-linecap:square;stroke-linejoin:miter;stroke-width:0.8;\"/>\r\n   </g>\r\n   <g id=\"patch_4\">\r\n    <path d=\"M 244.365 224.64 \r\nL 244.365 7.2 \r\n\" style=\"fill:none;stroke:#000000;stroke-linecap:square;stroke-linejoin:miter;stroke-width:0.8;\"/>\r\n   </g>\r\n   <g id=\"patch_5\">\r\n    <path d=\"M 26.925 224.64 \r\nL 244.365 224.64 \r\n\" style=\"fill:none;stroke:#000000;stroke-linecap:square;stroke-linejoin:miter;stroke-width:0.8;\"/>\r\n   </g>\r\n   <g id=\"patch_6\">\r\n    <path d=\"M 26.925 7.2 \r\nL 244.365 7.2 \r\n\" style=\"fill:none;stroke:#000000;stroke-linecap:square;stroke-linejoin:miter;stroke-width:0.8;\"/>\r\n   </g>\r\n  </g>\r\n </g>\r\n <defs>\r\n  <clipPath id=\"pc32688b151\">\r\n   <rect height=\"217.44\" width=\"217.44\" x=\"26.925\" y=\"7.2\"/>\r\n  </clipPath>\r\n </defs>\r\n</svg>\r\n",
            "image/png": "[encoded data removed]"
          },
          "metadata": {
            "needs_background": "light"
          }
        }
      ]
    },
    {
      "cell_type": "code",
      "metadata": {
        "colab": {
          "base_uri": "https://localhost:8080/"
        },
        "id": "CmsIpxDBDezR",
        "outputId": "67bd0b7c-fa61-4875-a95e-2c31049d3f5b"
      },
      "source": [
        "print(\"La premiere image est un : {}\".format(y[0]))"
      ],
      "execution_count": 6,
      "outputs": [
        {
          "output_type": "stream",
          "name": "stdout",
          "text": [
            "La premiere image est un : 5\n"
          ]
        }
      ]
    },
    {
      "cell_type": "code",
      "metadata": {
        "colab": {
          "base_uri": "https://localhost:8080/"
        },
        "id": "bwdETDnBDezR",
        "outputId": "f1c62b28-a381-4156-8197-56cbf6b1889a"
      },
      "source": [
        "print(\"Type du 1er label : {}\".format(type(y[0])))"
      ],
      "execution_count": 7,
      "outputs": [
        {
          "output_type": "stream",
          "name": "stdout",
          "text": [
            "Type du 1er label : <class 'str'>\n"
          ]
        }
      ]
    },
    {
      "cell_type": "markdown",
      "metadata": {
        "id": "cO1r5tFIDezS"
      },
      "source": [
        "Nos valeurs sont donc des Strings"
      ]
    },
    {
      "cell_type": "code",
      "metadata": {
        "colab": {
          "base_uri": "https://localhost:8080/"
        },
        "id": "MhlwyNxxDezS",
        "outputId": "68431604-5e65-4173-d269-5a4941cafc93"
      },
      "source": [
        "print(\"Casting des valeurs en Int :\")\n",
        "y=y.astype(int)\n",
        "print(\"Type du 1er label : {}\".format(type(y[0])))"
      ],
      "execution_count": 8,
      "outputs": [
        {
          "output_type": "stream",
          "name": "stdout",
          "text": [
            "Casting des valeurs en Int :\nType du 1er label : <class 'numpy.int32'>\n"
          ]
        }
      ]
    },
    {
      "cell_type": "markdown",
      "metadata": {
        "id": "xey1Bh9pDezS"
      },
      "source": [
        "## Repartition des données :"
      ]
    },
    {
      "cell_type": "code",
      "metadata": {
        "colab": {
          "base_uri": "https://localhost:8080/"
        },
        "id": "JS7kKbA5DezT",
        "outputId": "5fc7270d-32eb-49c0-f7c7-a0742a9796d9"
      },
      "source": [
        "x_train, x_test, y_train, y_test = train_test_split(X,y,test_size=1/7,shuffle=False)\n",
        "print(\"Il y a bien {} valeurs dans notre base d'apprentissage\".format(x_train.shape[0]))\n"
      ],
      "execution_count": 9,
      "outputs": [
        {
          "output_type": "stream",
          "name": "stdout",
          "text": [
            "Il y a bien 60000 valeurs dans notre base d'apprentissage\n"
          ]
        }
      ]
    },
    {
      "cell_type": "code",
      "metadata": {
        "id": "uHTm2IVuDezT"
      },
      "source": [],
      "execution_count": null,
      "outputs": []
    },
    {
      "cell_type": "markdown",
      "metadata": {
        "id": "D8AUJesxDezT"
      },
      "source": [
        "# Apprentissage d'un classificateur binaire\n",
        "## Apprentissage des données"
      ]
    },
    {
      "cell_type": "code",
      "metadata": {
        "id": "fEZ5EpgEDezT"
      },
      "source": [
        "y_train_5=y_train==5\n",
        "y_test_5=y_test==5\n",
        "\n"
      ],
      "execution_count": 10,
      "outputs": []
    },
    {
      "cell_type": "markdown",
      "metadata": {
        "id": "kqpXpG1iDezU"
      },
      "source": [
        "Utilisation du SGDClassifier\n",
        "\n"
      ]
    },
    {
      "cell_type": "code",
      "metadata": {
        "id": "gc4G1cleDezU"
      },
      "source": [
        "clf=SGDClassifier()\n",
        "clf.fit(x_train,y_train_5)\n",
        "y_pred=clf.predict(x_test)\n"
      ],
      "execution_count": 11,
      "outputs": []
    },
    {
      "cell_type": "code",
      "metadata": {
        "colab": {
          "base_uri": "https://localhost:8080/"
        },
        "id": "PDGPpNW6DezU",
        "outputId": "7d57e6de-b092-45c5-fa16-52a91c34d42a"
      },
      "source": [
        "y_pred[0]"
      ],
      "execution_count": 12,
      "outputs": [
        {
          "output_type": "execute_result",
          "data": {
            "text/plain": [
              "False"
            ]
          },
          "metadata": {},
          "execution_count": 12
        }
      ]
    },
    {
      "cell_type": "code",
      "metadata": {
        "colab": {
          "base_uri": "https://localhost:8080/"
        },
        "id": "DdIWkQfbDezU",
        "outputId": "a9478677-197f-4b43-b56e-aa2d9274fc56"
      },
      "source": [
        "regScore=cross_val_score(clf,x_train,y_train_5,cv=3,scoring='accuracy')\n",
        "print(\"Valeur de l'accuracy pour chaque fold :\\n\")\n",
        "for i in range(len(regScore)):\n",
        "    print(\"Accuracy fold {} = {}\".format(i+1,regScore[i]))\n",
        "\n",
        "print(\"\\nValeur moyenne de l'accuracy :\")\n",
        "print(regScore.mean())"
      ],
      "execution_count": 13,
      "outputs": [
        {
          "output_type": "stream",
          "name": "stdout",
          "text": [
            "Valeur de l'accuracy pour chaque fold :\n\nAccuracy fold 1 = 0.9499\nAccuracy fold 2 = 0.96455\nAccuracy fold 3 = 0.9672\n\nValeur moyenne de l'accuracy :\n0.96055\n"
          ]
        }
      ]
    },
    {
      "cell_type": "code",
      "metadata": {
        "id": "w0RLobW0DezV"
      },
      "source": [
        "class Never5Classifier(BaseEstimator):\n",
        "\n",
        "    def __init__(self):\n",
        "        super().__init__()\n",
        "\n",
        "    def fit(self,data,labels):\n",
        "        pass\n",
        "    def predict(self,data):\n",
        "        return np.zeros((data.shape[0],),dtype=bool)"
      ],
      "execution_count": 14,
      "outputs": []
    },
    {
      "cell_type": "code",
      "metadata": {
        "colab": {
          "base_uri": "https://localhost:8080/"
        },
        "id": "gAAMrMqUDezV",
        "outputId": "1a5bafca-b088-4394-f1cf-194cbe470c1e"
      },
      "source": [
        "classifier=Never5Classifier()\n",
        "\n",
        "regScore=cross_val_score(classifier,x_train,y_train_5,cv=3,scoring='accuracy')\n",
        "print(\"Valeur de l'accuracy pour chaque fold :\\n\")\n",
        "for i in range(len(regScore)):\n",
        "    print(\"Accuracy fold {} = {}\".format(i+1,regScore[i]))\n",
        "\n",
        "print(\"\\nValeur moyenne de l'accuracy :\")\n",
        "print(regScore.mean())"
      ],
      "execution_count": 15,
      "outputs": [
        {
          "output_type": "stream",
          "name": "stdout",
          "text": [
            "Valeur de l'accuracy pour chaque fold :\n\nAccuracy fold 1 = 0.91125\nAccuracy fold 2 = 0.90855\nAccuracy fold 3 = 0.90915\n\nValeur moyenne de l'accuracy :\n0.90965\n"
          ]
        }
      ]
    },
    {
      "cell_type": "code",
      "metadata": {
        "colab": {
          "base_uri": "https://localhost:8080/"
        },
        "id": "H33ESOYNDezV",
        "outputId": "07087d56-7fd1-42bb-f1e3-cd4d4e93f0fc"
      },
      "source": [
        "classifier.predict(x_train)"
      ],
      "execution_count": 16,
      "outputs": [
        {
          "output_type": "execute_result",
          "data": {
            "text/plain": [
              "array([False, False, False, ..., False, False, False])"
            ]
          },
          "metadata": {},
          "execution_count": 16
        }
      ]
    },
    {
      "cell_type": "markdown",
      "metadata": {
        "id": "Kgb_loLvDezW"
      },
      "source": [
        "En definissant ce classifier qui renvoie tout le temps faux, on constate une accuracy de 90%\n",
        "On ne peut donc pas donner de crédit a cette valeur.\n",
        "\n",
        "## Matrice de confusion"
      ]
    },
    {
      "cell_type": "code",
      "metadata": {
        "id": "czaS52AgDezW"
      },
      "source": [
        "clf=SGDClassifier()\n",
        "y_pred = cross_val_predict(clf,x_train,y_train_5,cv=3)\n"
      ],
      "execution_count": 17,
      "outputs": []
    },
    {
      "cell_type": "markdown",
      "metadata": {
        "id": "cA7WK4zmDezW"
      },
      "source": [
        "### Matrice de confusion"
      ]
    },
    {
      "cell_type": "code",
      "metadata": {
        "colab": {
          "base_uri": "https://localhost:8080/"
        },
        "id": "JkEAST-xDezW",
        "outputId": "1ce7b1dc-7d93-426f-cf9d-b4199cc48b70"
      },
      "source": [
        "confusionMatrix=confusion_matrix(y_train_5,y_pred)\n",
        "TN, FP, FN, TP = confusionMatrix.ravel()\n",
        "\n",
        "# print classification accuracy\n",
        "\n",
        "classification_accuracy = (TP + TN) / float(TP + TN + FP + FN)\n",
        "\n",
        "print('Classification accuracy : {0:0.4f}'.format(classification_accuracy))\n",
        "classification_error = (FP + FN) / float(TP + TN + FP + FN)\n",
        "print('Classification error : {0:0.4f}'.format(classification_error))\n",
        "precision = TP / float(TP + FP)\n",
        "print('Precision : {0:0.4f}'.format(precision))\n",
        "recall = TP / float(TP + FN)\n",
        "print('Recall or Sensitivity : {0:0.4f}'.format(recall))\n",
        "specificity = TN / (TN + FP)\n",
        "print('Specificity : {0:0.4f}'.format(specificity))\n",
        "print(\"Score F1 : {}\".format(f1_score(y_train_5,y_pred)))"
      ],
      "execution_count": 18,
      "outputs": [
        {
          "output_type": "stream",
          "name": "stdout",
          "text": [
            "Classification accuracy : 0.9429\nClassification error : 0.0571\nPrecision : 0.6636\nRecall or Sensitivity : 0.7464\nSpecificity : 0.9624\nScore F1 : 0.7025525264802917\n"
          ]
        }
      ]
    },
    {
      "cell_type": "code",
      "metadata": {
        "id": "QWe5Z01qDezX"
      },
      "source": [
        "y_pred = cross_val_predict(clf,x_train,y_train_5,cv=3,method=\"decision_function\")"
      ],
      "execution_count": 19,
      "outputs": []
    },
    {
      "cell_type": "code",
      "metadata": {
        "colab": {
          "base_uri": "https://localhost:8080/",
          "height": 296
        },
        "id": "dXpbrhV9DezX",
        "outputId": "7d1dfc04-bdaf-46a8-ec0a-283b5bc39da2"
      },
      "source": [
        "precision, recall,thresholds=precision_recall_curve(y_train_5,y_pred)\n",
        "plt.plot(recall,precision)\n",
        "plt.xlabel(\"rappel\")\n",
        "plt.ylabel(\"précisions\")"
      ],
      "execution_count": 20,
      "outputs": [
        {
          "output_type": "execute_result",
          "data": {
            "text/plain": [
              "Text(0, 0.5, 'précisions')"
            ]
          },
          "metadata": {},
          "execution_count": 20
        },
        {
          "output_type": "display_data",
          "data": {
            "text/plain": "<Figure size 432x288 with 1 Axes>",
            "image/svg+xml": "<?xml version=\"1.0\" encoding=\"utf-8\" standalone=\"no\"?>\r\n<!DOCTYPE svg PUBLIC \"-//W3C//DTD SVG 1.1//EN\"\r\n  \"http://www.w3.org/Graphics/SVG/1.1/DTD/svg11.dtd\">\r\n<!-- Created with matplotlib (https://matplotlib.org/) -->\r\n<svg height=\"262.19625pt\" version=\"1.1\" viewBox=\"0 0 386.18125 262.19625\" width=\"386.18125pt\" xmlns=\"http://www.w3.org/2000/svg\" xmlns:xlink=\"http://www.w3.org/1999/xlink\">\r\n <defs>\r\n  <style type=\"text/css\">\r\n*{stroke-linecap:butt;stroke-linejoin:round;}\r\n  </style>\r\n </defs>\r\n <g id=\"figure_1\">\r\n  <g id=\"patch_1\">\r\n   <path d=\"M 0 262.19625 \r\nL 386.18125 262.19625 \r\nL 386.18125 0 \r\nL 0 0 \r\nz\r\n\" style=\"fill:none;\"/>\r\n  </g>\r\n  <g id=\"axes_1\">\r\n   <g id=\"patch_2\">\r\n    <path d=\"M 44.18125 224.64 \r\nL 378.98125 224.64 \r\nL 378.98125 7.2 \r\nL 44.18125 7.2 \r\nz\r\n\" style=\"fill:#ffffff;\"/>\r\n   </g>\r\n   <g id=\"matplotlib.axis_1\">\r\n    <g id=\"xtick_1\">\r\n     <g id=\"line2d_1\">\r\n      <defs>\r\n       <path d=\"M 0 0 \r\nL 0 3.5 \r\n\" id=\"mcbebea7fc4\" style=\"stroke:#000000;stroke-width:0.8;\"/>\r\n      </defs>\r\n      <g>\r\n       <use style=\"stroke:#000000;stroke-width:0.8;\" x=\"59.399432\" xlink:href=\"#mcbebea7fc4\" y=\"224.64\"/>\r\n      </g>\r\n     </g>\r\n     <g id=\"text_1\">\r\n      <!-- 0.0 -->\r\n      <defs>\r\n       <path d=\"M 31.78125 66.40625 \r\nQ 24.171875 66.40625 20.328125 58.90625 \r\nQ 16.5 51.421875 16.5 36.375 \r\nQ 16.5 21.390625 20.328125 13.890625 \r\nQ 24.171875 6.390625 31.78125 6.390625 \r\nQ 39.453125 6.390625 43.28125 13.890625 \r\nQ 47.125 21.390625 47.125 36.375 \r\nQ 47.125 51.421875 43.28125 58.90625 \r\nQ 39.453125 66.40625 31.78125 66.40625 \r\nz\r\nM 31.78125 74.21875 \r\nQ 44.046875 74.21875 50.515625 64.515625 \r\nQ 56.984375 54.828125 56.984375 36.375 \r\nQ 56.984375 17.96875 50.515625 8.265625 \r\nQ 44.046875 -1.421875 31.78125 -1.421875 \r\nQ 19.53125 -1.421875 13.0625 8.265625 \r\nQ 6.59375 17.96875 6.59375 36.375 \r\nQ 6.59375 54.828125 13.0625 64.515625 \r\nQ 19.53125 74.21875 31.78125 74.21875 \r\nz\r\n\" id=\"DejaVuSans-48\"/>\r\n       <path d=\"M 10.6875 12.40625 \r\nL 21 12.40625 \r\nL 21 0 \r\nL 10.6875 0 \r\nz\r\n\" id=\"DejaVuSans-46\"/>\r\n      </defs>\r\n      <g transform=\"translate(51.447869 239.238437)scale(0.1 -0.1)\">\r\n       <use xlink:href=\"#DejaVuSans-48\"/>\r\n       <use x=\"63.623047\" xlink:href=\"#DejaVuSans-46\"/>\r\n       <use x=\"95.410156\" xlink:href=\"#DejaVuSans-48\"/>\r\n      </g>\r\n     </g>\r\n    </g>\r\n    <g id=\"xtick_2\">\r\n     <g id=\"line2d_2\">\r\n      <g>\r\n       <use style=\"stroke:#000000;stroke-width:0.8;\" x=\"120.272159\" xlink:href=\"#mcbebea7fc4\" y=\"224.64\"/>\r\n      </g>\r\n     </g>\r\n     <g id=\"text_2\">\r\n      <!-- 0.2 -->\r\n      <defs>\r\n       <path d=\"M 19.1875 8.296875 \r\nL 53.609375 8.296875 \r\nL 53.609375 0 \r\nL 7.328125 0 \r\nL 7.328125 8.296875 \r\nQ 12.9375 14.109375 22.625 23.890625 \r\nQ 32.328125 33.6875 34.8125 36.53125 \r\nQ 39.546875 41.84375 41.421875 45.53125 \r\nQ 43.3125 49.21875 43.3125 52.78125 \r\nQ 43.3125 58.59375 39.234375 62.25 \r\nQ 35.15625 65.921875 28.609375 65.921875 \r\nQ 23.96875 65.921875 18.8125 64.3125 \r\nQ 13.671875 62.703125 7.8125 59.421875 \r\nL 7.8125 69.390625 \r\nQ 13.765625 71.78125 18.9375 73 \r\nQ 24.125 74.21875 28.421875 74.21875 \r\nQ 39.75 74.21875 46.484375 68.546875 \r\nQ 53.21875 62.890625 53.21875 53.421875 \r\nQ 53.21875 48.921875 51.53125 44.890625 \r\nQ 49.859375 40.875 45.40625 35.40625 \r\nQ 44.1875 33.984375 37.640625 27.21875 \r\nQ 31.109375 20.453125 19.1875 8.296875 \r\nz\r\n\" id=\"DejaVuSans-50\"/>\r\n      </defs>\r\n      <g transform=\"translate(112.320597 239.238437)scale(0.1 -0.1)\">\r\n       <use xlink:href=\"#DejaVuSans-48\"/>\r\n       <use x=\"63.623047\" xlink:href=\"#DejaVuSans-46\"/>\r\n       <use x=\"95.410156\" xlink:href=\"#DejaVuSans-50\"/>\r\n      </g>\r\n     </g>\r\n    </g>\r\n    <g id=\"xtick_3\">\r\n     <g id=\"line2d_3\">\r\n      <g>\r\n       <use style=\"stroke:#000000;stroke-width:0.8;\" x=\"181.144886\" xlink:href=\"#mcbebea7fc4\" y=\"224.64\"/>\r\n      </g>\r\n     </g>\r\n     <g id=\"text_3\">\r\n      <!-- 0.4 -->\r\n      <defs>\r\n       <path d=\"M 37.796875 64.3125 \r\nL 12.890625 25.390625 \r\nL 37.796875 25.390625 \r\nz\r\nM 35.203125 72.90625 \r\nL 47.609375 72.90625 \r\nL 47.609375 25.390625 \r\nL 58.015625 25.390625 \r\nL 58.015625 17.1875 \r\nL 47.609375 17.1875 \r\nL 47.609375 0 \r\nL 37.796875 0 \r\nL 37.796875 17.1875 \r\nL 4.890625 17.1875 \r\nL 4.890625 26.703125 \r\nz\r\n\" id=\"DejaVuSans-52\"/>\r\n      </defs>\r\n      <g transform=\"translate(173.193324 239.238437)scale(0.1 -0.1)\">\r\n       <use xlink:href=\"#DejaVuSans-48\"/>\r\n       <use x=\"63.623047\" xlink:href=\"#DejaVuSans-46\"/>\r\n       <use x=\"95.410156\" xlink:href=\"#DejaVuSans-52\"/>\r\n      </g>\r\n     </g>\r\n    </g>\r\n    <g id=\"xtick_4\">\r\n     <g id=\"line2d_4\">\r\n      <g>\r\n       <use style=\"stroke:#000000;stroke-width:0.8;\" x=\"242.017614\" xlink:href=\"#mcbebea7fc4\" y=\"224.64\"/>\r\n      </g>\r\n     </g>\r\n     <g id=\"text_4\">\r\n      <!-- 0.6 -->\r\n      <defs>\r\n       <path d=\"M 33.015625 40.375 \r\nQ 26.375 40.375 22.484375 35.828125 \r\nQ 18.609375 31.296875 18.609375 23.390625 \r\nQ 18.609375 15.53125 22.484375 10.953125 \r\nQ 26.375 6.390625 33.015625 6.390625 \r\nQ 39.65625 6.390625 43.53125 10.953125 \r\nQ 47.40625 15.53125 47.40625 23.390625 \r\nQ 47.40625 31.296875 43.53125 35.828125 \r\nQ 39.65625 40.375 33.015625 40.375 \r\nz\r\nM 52.59375 71.296875 \r\nL 52.59375 62.3125 \r\nQ 48.875 64.0625 45.09375 64.984375 \r\nQ 41.3125 65.921875 37.59375 65.921875 \r\nQ 27.828125 65.921875 22.671875 59.328125 \r\nQ 17.53125 52.734375 16.796875 39.40625 \r\nQ 19.671875 43.65625 24.015625 45.921875 \r\nQ 28.375 48.1875 33.59375 48.1875 \r\nQ 44.578125 48.1875 50.953125 41.515625 \r\nQ 57.328125 34.859375 57.328125 23.390625 \r\nQ 57.328125 12.15625 50.6875 5.359375 \r\nQ 44.046875 -1.421875 33.015625 -1.421875 \r\nQ 20.359375 -1.421875 13.671875 8.265625 \r\nQ 6.984375 17.96875 6.984375 36.375 \r\nQ 6.984375 53.65625 15.1875 63.9375 \r\nQ 23.390625 74.21875 37.203125 74.21875 \r\nQ 40.921875 74.21875 44.703125 73.484375 \r\nQ 48.484375 72.75 52.59375 71.296875 \r\nz\r\n\" id=\"DejaVuSans-54\"/>\r\n      </defs>\r\n      <g transform=\"translate(234.066051 239.238437)scale(0.1 -0.1)\">\r\n       <use xlink:href=\"#DejaVuSans-48\"/>\r\n       <use x=\"63.623047\" xlink:href=\"#DejaVuSans-46\"/>\r\n       <use x=\"95.410156\" xlink:href=\"#DejaVuSans-54\"/>\r\n      </g>\r\n     </g>\r\n    </g>\r\n    <g id=\"xtick_5\">\r\n     <g id=\"line2d_5\">\r\n      <g>\r\n       <use style=\"stroke:#000000;stroke-width:0.8;\" x=\"302.890341\" xlink:href=\"#mcbebea7fc4\" y=\"224.64\"/>\r\n      </g>\r\n     </g>\r\n     <g id=\"text_5\">\r\n      <!-- 0.8 -->\r\n      <defs>\r\n       <path d=\"M 31.78125 34.625 \r\nQ 24.75 34.625 20.71875 30.859375 \r\nQ 16.703125 27.09375 16.703125 20.515625 \r\nQ 16.703125 13.921875 20.71875 10.15625 \r\nQ 24.75 6.390625 31.78125 6.390625 \r\nQ 38.8125 6.390625 42.859375 10.171875 \r\nQ 46.921875 13.96875 46.921875 20.515625 \r\nQ 46.921875 27.09375 42.890625 30.859375 \r\nQ 38.875 34.625 31.78125 34.625 \r\nz\r\nM 21.921875 38.8125 \r\nQ 15.578125 40.375 12.03125 44.71875 \r\nQ 8.5 49.078125 8.5 55.328125 \r\nQ 8.5 64.0625 14.71875 69.140625 \r\nQ 20.953125 74.21875 31.78125 74.21875 \r\nQ 42.671875 74.21875 48.875 69.140625 \r\nQ 55.078125 64.0625 55.078125 55.328125 \r\nQ 55.078125 49.078125 51.53125 44.71875 \r\nQ 48 40.375 41.703125 38.8125 \r\nQ 48.828125 37.15625 52.796875 32.3125 \r\nQ 56.78125 27.484375 56.78125 20.515625 \r\nQ 56.78125 9.90625 50.3125 4.234375 \r\nQ 43.84375 -1.421875 31.78125 -1.421875 \r\nQ 19.734375 -1.421875 13.25 4.234375 \r\nQ 6.78125 9.90625 6.78125 20.515625 \r\nQ 6.78125 27.484375 10.78125 32.3125 \r\nQ 14.796875 37.15625 21.921875 38.8125 \r\nz\r\nM 18.3125 54.390625 \r\nQ 18.3125 48.734375 21.84375 45.5625 \r\nQ 25.390625 42.390625 31.78125 42.390625 \r\nQ 38.140625 42.390625 41.71875 45.5625 \r\nQ 45.3125 48.734375 45.3125 54.390625 \r\nQ 45.3125 60.0625 41.71875 63.234375 \r\nQ 38.140625 66.40625 31.78125 66.40625 \r\nQ 25.390625 66.40625 21.84375 63.234375 \r\nQ 18.3125 60.0625 18.3125 54.390625 \r\nz\r\n\" id=\"DejaVuSans-56\"/>\r\n      </defs>\r\n      <g transform=\"translate(294.938778 239.238437)scale(0.1 -0.1)\">\r\n       <use xlink:href=\"#DejaVuSans-48\"/>\r\n       <use x=\"63.623047\" xlink:href=\"#DejaVuSans-46\"/>\r\n       <use x=\"95.410156\" xlink:href=\"#DejaVuSans-56\"/>\r\n      </g>\r\n     </g>\r\n    </g>\r\n    <g id=\"xtick_6\">\r\n     <g id=\"line2d_6\">\r\n      <g>\r\n       <use style=\"stroke:#000000;stroke-width:0.8;\" x=\"363.763068\" xlink:href=\"#mcbebea7fc4\" y=\"224.64\"/>\r\n      </g>\r\n     </g>\r\n     <g id=\"text_6\">\r\n      <!-- 1.0 -->\r\n      <defs>\r\n       <path d=\"M 12.40625 8.296875 \r\nL 28.515625 8.296875 \r\nL 28.515625 63.921875 \r\nL 10.984375 60.40625 \r\nL 10.984375 69.390625 \r\nL 28.421875 72.90625 \r\nL 38.28125 72.90625 \r\nL 38.28125 8.296875 \r\nL 54.390625 8.296875 \r\nL 54.390625 0 \r\nL 12.40625 0 \r\nz\r\n\" id=\"DejaVuSans-49\"/>\r\n      </defs>\r\n      <g transform=\"translate(355.811506 239.238437)scale(0.1 -0.1)\">\r\n       <use xlink:href=\"#DejaVuSans-49\"/>\r\n       <use x=\"63.623047\" xlink:href=\"#DejaVuSans-46\"/>\r\n       <use x=\"95.410156\" xlink:href=\"#DejaVuSans-48\"/>\r\n      </g>\r\n     </g>\r\n    </g>\r\n    <g id=\"text_7\">\r\n     <!-- rappel -->\r\n     <defs>\r\n      <path d=\"M 41.109375 46.296875 \r\nQ 39.59375 47.171875 37.8125 47.578125 \r\nQ 36.03125 48 33.890625 48 \r\nQ 26.265625 48 22.1875 43.046875 \r\nQ 18.109375 38.09375 18.109375 28.8125 \r\nL 18.109375 0 \r\nL 9.078125 0 \r\nL 9.078125 54.6875 \r\nL 18.109375 54.6875 \r\nL 18.109375 46.1875 \r\nQ 20.953125 51.171875 25.484375 53.578125 \r\nQ 30.03125 56 36.53125 56 \r\nQ 37.453125 56 38.578125 55.875 \r\nQ 39.703125 55.765625 41.0625 55.515625 \r\nz\r\n\" id=\"DejaVuSans-114\"/>\r\n      <path d=\"M 34.28125 27.484375 \r\nQ 23.390625 27.484375 19.1875 25 \r\nQ 14.984375 22.515625 14.984375 16.5 \r\nQ 14.984375 11.71875 18.140625 8.90625 \r\nQ 21.296875 6.109375 26.703125 6.109375 \r\nQ 34.1875 6.109375 38.703125 11.40625 \r\nQ 43.21875 16.703125 43.21875 25.484375 \r\nL 43.21875 27.484375 \r\nz\r\nM 52.203125 31.203125 \r\nL 52.203125 0 \r\nL 43.21875 0 \r\nL 43.21875 8.296875 \r\nQ 40.140625 3.328125 35.546875 0.953125 \r\nQ 30.953125 -1.421875 24.3125 -1.421875 \r\nQ 15.921875 -1.421875 10.953125 3.296875 \r\nQ 6 8.015625 6 15.921875 \r\nQ 6 25.140625 12.171875 29.828125 \r\nQ 18.359375 34.515625 30.609375 34.515625 \r\nL 43.21875 34.515625 \r\nL 43.21875 35.40625 \r\nQ 43.21875 41.609375 39.140625 45 \r\nQ 35.0625 48.390625 27.6875 48.390625 \r\nQ 23 48.390625 18.546875 47.265625 \r\nQ 14.109375 46.140625 10.015625 43.890625 \r\nL 10.015625 52.203125 \r\nQ 14.9375 54.109375 19.578125 55.046875 \r\nQ 24.21875 56 28.609375 56 \r\nQ 40.484375 56 46.34375 49.84375 \r\nQ 52.203125 43.703125 52.203125 31.203125 \r\nz\r\n\" id=\"DejaVuSans-97\"/>\r\n      <path d=\"M 18.109375 8.203125 \r\nL 18.109375 -20.796875 \r\nL 9.078125 -20.796875 \r\nL 9.078125 54.6875 \r\nL 18.109375 54.6875 \r\nL 18.109375 46.390625 \r\nQ 20.953125 51.265625 25.265625 53.625 \r\nQ 29.59375 56 35.59375 56 \r\nQ 45.5625 56 51.78125 48.09375 \r\nQ 58.015625 40.1875 58.015625 27.296875 \r\nQ 58.015625 14.40625 51.78125 6.484375 \r\nQ 45.5625 -1.421875 35.59375 -1.421875 \r\nQ 29.59375 -1.421875 25.265625 0.953125 \r\nQ 20.953125 3.328125 18.109375 8.203125 \r\nz\r\nM 48.6875 27.296875 \r\nQ 48.6875 37.203125 44.609375 42.84375 \r\nQ 40.53125 48.484375 33.40625 48.484375 \r\nQ 26.265625 48.484375 22.1875 42.84375 \r\nQ 18.109375 37.203125 18.109375 27.296875 \r\nQ 18.109375 17.390625 22.1875 11.75 \r\nQ 26.265625 6.109375 33.40625 6.109375 \r\nQ 40.53125 6.109375 44.609375 11.75 \r\nQ 48.6875 17.390625 48.6875 27.296875 \r\nz\r\n\" id=\"DejaVuSans-112\"/>\r\n      <path d=\"M 56.203125 29.59375 \r\nL 56.203125 25.203125 \r\nL 14.890625 25.203125 \r\nQ 15.484375 15.921875 20.484375 11.0625 \r\nQ 25.484375 6.203125 34.421875 6.203125 \r\nQ 39.59375 6.203125 44.453125 7.46875 \r\nQ 49.3125 8.734375 54.109375 11.28125 \r\nL 54.109375 2.78125 \r\nQ 49.265625 0.734375 44.1875 -0.34375 \r\nQ 39.109375 -1.421875 33.890625 -1.421875 \r\nQ 20.796875 -1.421875 13.15625 6.1875 \r\nQ 5.515625 13.8125 5.515625 26.8125 \r\nQ 5.515625 40.234375 12.765625 48.109375 \r\nQ 20.015625 56 32.328125 56 \r\nQ 43.359375 56 49.78125 48.890625 \r\nQ 56.203125 41.796875 56.203125 29.59375 \r\nz\r\nM 47.21875 32.234375 \r\nQ 47.125 39.59375 43.09375 43.984375 \r\nQ 39.0625 48.390625 32.421875 48.390625 \r\nQ 24.90625 48.390625 20.390625 44.140625 \r\nQ 15.875 39.890625 15.1875 32.171875 \r\nz\r\n\" id=\"DejaVuSans-101\"/>\r\n      <path d=\"M 9.421875 75.984375 \r\nL 18.40625 75.984375 \r\nL 18.40625 0 \r\nL 9.421875 0 \r\nz\r\n\" id=\"DejaVuSans-108\"/>\r\n     </defs>\r\n     <g transform=\"translate(195.647656 252.916562)scale(0.1 -0.1)\">\r\n      <use xlink:href=\"#DejaVuSans-114\"/>\r\n      <use x=\"41.113281\" xlink:href=\"#DejaVuSans-97\"/>\r\n      <use x=\"102.392578\" xlink:href=\"#DejaVuSans-112\"/>\r\n      <use x=\"165.869141\" xlink:href=\"#DejaVuSans-112\"/>\r\n      <use x=\"229.345703\" xlink:href=\"#DejaVuSans-101\"/>\r\n      <use x=\"290.869141\" xlink:href=\"#DejaVuSans-108\"/>\r\n     </g>\r\n    </g>\r\n   </g>\r\n   <g id=\"matplotlib.axis_2\">\r\n    <g id=\"ytick_1\">\r\n     <g id=\"line2d_7\">\r\n      <defs>\r\n       <path d=\"M 0 0 \r\nL -3.5 0 \r\n\" id=\"m1113a704fe\" style=\"stroke:#000000;stroke-width:0.8;\"/>\r\n      </defs>\r\n      <g>\r\n       <use style=\"stroke:#000000;stroke-width:0.8;\" x=\"44.18125\" xlink:href=\"#m1113a704fe\" y=\"190.938495\"/>\r\n      </g>\r\n     </g>\r\n     <g id=\"text_8\">\r\n      <!-- 0.2 -->\r\n      <g transform=\"translate(21.278125 194.737713)scale(0.1 -0.1)\">\r\n       <use xlink:href=\"#DejaVuSans-48\"/>\r\n       <use x=\"63.623047\" xlink:href=\"#DejaVuSans-46\"/>\r\n       <use x=\"95.410156\" xlink:href=\"#DejaVuSans-50\"/>\r\n      </g>\r\n     </g>\r\n    </g>\r\n    <g id=\"ytick_2\">\r\n     <g id=\"line2d_8\">\r\n      <g>\r\n       <use style=\"stroke:#000000;stroke-width:0.8;\" x=\"44.18125\" xlink:href=\"#m1113a704fe\" y=\"147.47478\"/>\r\n      </g>\r\n     </g>\r\n     <g id=\"text_9\">\r\n      <!-- 0.4 -->\r\n      <g transform=\"translate(21.278125 151.273999)scale(0.1 -0.1)\">\r\n       <use xlink:href=\"#DejaVuSans-48\"/>\r\n       <use x=\"63.623047\" xlink:href=\"#DejaVuSans-46\"/>\r\n       <use x=\"95.410156\" xlink:href=\"#DejaVuSans-52\"/>\r\n      </g>\r\n     </g>\r\n    </g>\r\n    <g id=\"ytick_3\">\r\n     <g id=\"line2d_9\">\r\n      <g>\r\n       <use style=\"stroke:#000000;stroke-width:0.8;\" x=\"44.18125\" xlink:href=\"#m1113a704fe\" y=\"104.011065\"/>\r\n      </g>\r\n     </g>\r\n     <g id=\"text_10\">\r\n      <!-- 0.6 -->\r\n      <g transform=\"translate(21.278125 107.810284)scale(0.1 -0.1)\">\r\n       <use xlink:href=\"#DejaVuSans-48\"/>\r\n       <use x=\"63.623047\" xlink:href=\"#DejaVuSans-46\"/>\r\n       <use x=\"95.410156\" xlink:href=\"#DejaVuSans-54\"/>\r\n      </g>\r\n     </g>\r\n    </g>\r\n    <g id=\"ytick_4\">\r\n     <g id=\"line2d_10\">\r\n      <g>\r\n       <use style=\"stroke:#000000;stroke-width:0.8;\" x=\"44.18125\" xlink:href=\"#m1113a704fe\" y=\"60.547351\"/>\r\n      </g>\r\n     </g>\r\n     <g id=\"text_11\">\r\n      <!-- 0.8 -->\r\n      <g transform=\"translate(21.278125 64.34657)scale(0.1 -0.1)\">\r\n       <use xlink:href=\"#DejaVuSans-48\"/>\r\n       <use x=\"63.623047\" xlink:href=\"#DejaVuSans-46\"/>\r\n       <use x=\"95.410156\" xlink:href=\"#DejaVuSans-56\"/>\r\n      </g>\r\n     </g>\r\n    </g>\r\n    <g id=\"ytick_5\">\r\n     <g id=\"line2d_11\">\r\n      <g>\r\n       <use style=\"stroke:#000000;stroke-width:0.8;\" x=\"44.18125\" xlink:href=\"#m1113a704fe\" y=\"17.083636\"/>\r\n      </g>\r\n     </g>\r\n     <g id=\"text_12\">\r\n      <!-- 1.0 -->\r\n      <g transform=\"translate(21.278125 20.882855)scale(0.1 -0.1)\">\r\n       <use xlink:href=\"#DejaVuSans-49\"/>\r\n       <use x=\"63.623047\" xlink:href=\"#DejaVuSans-46\"/>\r\n       <use x=\"95.410156\" xlink:href=\"#DejaVuSans-48\"/>\r\n      </g>\r\n     </g>\r\n    </g>\r\n    <g id=\"text_13\">\r\n     <!-- précisions -->\r\n     <defs>\r\n      <path d=\"M 56.203125 29.59375 \r\nL 56.203125 25.203125 \r\nL 14.890625 25.203125 \r\nQ 15.484375 15.921875 20.484375 11.0625 \r\nQ 25.484375 6.203125 34.421875 6.203125 \r\nQ 39.59375 6.203125 44.453125 7.46875 \r\nQ 49.3125 8.734375 54.109375 11.28125 \r\nL 54.109375 2.78125 \r\nQ 49.265625 0.734375 44.1875 -0.34375 \r\nQ 39.109375 -1.421875 33.890625 -1.421875 \r\nQ 20.796875 -1.421875 13.15625 6.1875 \r\nQ 5.515625 13.8125 5.515625 26.8125 \r\nQ 5.515625 40.234375 12.765625 48.109375 \r\nQ 20.015625 56 32.328125 56 \r\nQ 43.359375 56 49.78125 48.890625 \r\nQ 56.203125 41.796875 56.203125 29.59375 \r\nz\r\nM 47.21875 32.234375 \r\nQ 47.125 39.59375 43.09375 43.984375 \r\nQ 39.0625 48.390625 32.421875 48.390625 \r\nQ 24.90625 48.390625 20.390625 44.140625 \r\nQ 15.875 39.890625 15.1875 32.171875 \r\nz\r\nM 38.578125 79.984375 \r\nL 48.296875 79.984375 \r\nL 32.375 61.625 \r\nL 24.90625 61.625 \r\nz\r\n\" id=\"DejaVuSans-233\"/>\r\n      <path d=\"M 48.78125 52.59375 \r\nL 48.78125 44.1875 \r\nQ 44.96875 46.296875 41.140625 47.34375 \r\nQ 37.3125 48.390625 33.40625 48.390625 \r\nQ 24.65625 48.390625 19.8125 42.84375 \r\nQ 14.984375 37.3125 14.984375 27.296875 \r\nQ 14.984375 17.28125 19.8125 11.734375 \r\nQ 24.65625 6.203125 33.40625 6.203125 \r\nQ 37.3125 6.203125 41.140625 7.25 \r\nQ 44.96875 8.296875 48.78125 10.40625 \r\nL 48.78125 2.09375 \r\nQ 45.015625 0.34375 40.984375 -0.53125 \r\nQ 36.96875 -1.421875 32.421875 -1.421875 \r\nQ 20.0625 -1.421875 12.78125 6.34375 \r\nQ 5.515625 14.109375 5.515625 27.296875 \r\nQ 5.515625 40.671875 12.859375 48.328125 \r\nQ 20.21875 56 33.015625 56 \r\nQ 37.15625 56 41.109375 55.140625 \r\nQ 45.0625 54.296875 48.78125 52.59375 \r\nz\r\n\" id=\"DejaVuSans-99\"/>\r\n      <path d=\"M 9.421875 54.6875 \r\nL 18.40625 54.6875 \r\nL 18.40625 0 \r\nL 9.421875 0 \r\nz\r\nM 9.421875 75.984375 \r\nL 18.40625 75.984375 \r\nL 18.40625 64.59375 \r\nL 9.421875 64.59375 \r\nz\r\n\" id=\"DejaVuSans-105\"/>\r\n      <path d=\"M 44.28125 53.078125 \r\nL 44.28125 44.578125 \r\nQ 40.484375 46.53125 36.375 47.5 \r\nQ 32.28125 48.484375 27.875 48.484375 \r\nQ 21.1875 48.484375 17.84375 46.4375 \r\nQ 14.5 44.390625 14.5 40.28125 \r\nQ 14.5 37.15625 16.890625 35.375 \r\nQ 19.28125 33.59375 26.515625 31.984375 \r\nL 29.59375 31.296875 \r\nQ 39.15625 29.25 43.1875 25.515625 \r\nQ 47.21875 21.78125 47.21875 15.09375 \r\nQ 47.21875 7.46875 41.1875 3.015625 \r\nQ 35.15625 -1.421875 24.609375 -1.421875 \r\nQ 20.21875 -1.421875 15.453125 -0.5625 \r\nQ 10.6875 0.296875 5.421875 2 \r\nL 5.421875 11.28125 \r\nQ 10.40625 8.6875 15.234375 7.390625 \r\nQ 20.0625 6.109375 24.8125 6.109375 \r\nQ 31.15625 6.109375 34.5625 8.28125 \r\nQ 37.984375 10.453125 37.984375 14.40625 \r\nQ 37.984375 18.0625 35.515625 20.015625 \r\nQ 33.0625 21.96875 24.703125 23.78125 \r\nL 21.578125 24.515625 \r\nQ 13.234375 26.265625 9.515625 29.90625 \r\nQ 5.8125 33.546875 5.8125 39.890625 \r\nQ 5.8125 47.609375 11.28125 51.796875 \r\nQ 16.75 56 26.8125 56 \r\nQ 31.78125 56 36.171875 55.265625 \r\nQ 40.578125 54.546875 44.28125 53.078125 \r\nz\r\n\" id=\"DejaVuSans-115\"/>\r\n      <path d=\"M 30.609375 48.390625 \r\nQ 23.390625 48.390625 19.1875 42.75 \r\nQ 14.984375 37.109375 14.984375 27.296875 \r\nQ 14.984375 17.484375 19.15625 11.84375 \r\nQ 23.34375 6.203125 30.609375 6.203125 \r\nQ 37.796875 6.203125 41.984375 11.859375 \r\nQ 46.1875 17.53125 46.1875 27.296875 \r\nQ 46.1875 37.015625 41.984375 42.703125 \r\nQ 37.796875 48.390625 30.609375 48.390625 \r\nz\r\nM 30.609375 56 \r\nQ 42.328125 56 49.015625 48.375 \r\nQ 55.71875 40.765625 55.71875 27.296875 \r\nQ 55.71875 13.875 49.015625 6.21875 \r\nQ 42.328125 -1.421875 30.609375 -1.421875 \r\nQ 18.84375 -1.421875 12.171875 6.21875 \r\nQ 5.515625 13.875 5.515625 27.296875 \r\nQ 5.515625 40.765625 12.171875 48.375 \r\nQ 18.84375 56 30.609375 56 \r\nz\r\n\" id=\"DejaVuSans-111\"/>\r\n      <path d=\"M 54.890625 33.015625 \r\nL 54.890625 0 \r\nL 45.90625 0 \r\nL 45.90625 32.71875 \r\nQ 45.90625 40.484375 42.875 44.328125 \r\nQ 39.84375 48.1875 33.796875 48.1875 \r\nQ 26.515625 48.1875 22.3125 43.546875 \r\nQ 18.109375 38.921875 18.109375 30.90625 \r\nL 18.109375 0 \r\nL 9.078125 0 \r\nL 9.078125 54.6875 \r\nL 18.109375 54.6875 \r\nL 18.109375 46.1875 \r\nQ 21.34375 51.125 25.703125 53.5625 \r\nQ 30.078125 56 35.796875 56 \r\nQ 45.21875 56 50.046875 50.171875 \r\nQ 54.890625 44.34375 54.890625 33.015625 \r\nz\r\n\" id=\"DejaVuSans-110\"/>\r\n     </defs>\r\n     <g transform=\"translate(15.198438 141.078594)rotate(-90)scale(0.1 -0.1)\">\r\n      <use xlink:href=\"#DejaVuSans-112\"/>\r\n      <use x=\"63.476562\" xlink:href=\"#DejaVuSans-114\"/>\r\n      <use x=\"102.339844\" xlink:href=\"#DejaVuSans-233\"/>\r\n      <use x=\"163.863281\" xlink:href=\"#DejaVuSans-99\"/>\r\n      <use x=\"218.84375\" xlink:href=\"#DejaVuSans-105\"/>\r\n      <use x=\"246.626953\" xlink:href=\"#DejaVuSans-115\"/>\r\n      <use x=\"298.726562\" xlink:href=\"#DejaVuSans-105\"/>\r\n      <use x=\"326.509766\" xlink:href=\"#DejaVuSans-111\"/>\r\n      <use x=\"387.691406\" xlink:href=\"#DejaVuSans-110\"/>\r\n      <use x=\"451.070312\" xlink:href=\"#DejaVuSans-115\"/>\r\n     </g>\r\n    </g>\r\n   </g>\r\n   <g id=\"line2d_12\">\r\n    <path clip-path=\"url(#pa3508149da)\" d=\"M 363.763068 214.753067 \r\nL 363.594632 214.671798 \r\nL 363.594632 214.65194 \r\nL 363.538487 214.539305 \r\nL 363.370051 214.513392 \r\nL 363.370051 214.438135 \r\nL 363.313906 214.26448 \r\nL 363.257761 214.267856 \r\nL 363.257761 214.156601 \r\nL 363.201615 214.093921 \r\nL 362.977034 214.059749 \r\nL 362.977034 213.996514 \r\nL 362.920889 213.963375 \r\nL 362.864743 213.9668 \r\nL 362.864743 213.855629 \r\nL 362.808598 213.740887 \r\nL 362.696308 213.714685 \r\nL 362.696308 213.636742 \r\nL 362.640162 213.175378 \r\nL 362.584017 213.178925 \r\nL 362.584017 213.067804 \r\nL 362.584017 212.978222 \r\nL 362.527872 212.978279 \r\nL 362.471726 212.981856 \r\nL 362.471726 212.87059 \r\nL 362.415581 212.660684 \r\nL 362.359436 212.664309 \r\nL 362.359436 212.553333 \r\nL 362.303291 212.500251 \r\nL 362.247145 212.503902 \r\nL 362.247145 212.392889 \r\nL 362.191 212.307779 \r\nL 362.134855 212.311459 \r\nL 362.134855 212.200122 \r\nL 362.078709 212.043683 \r\nL 361.966419 212.013523 \r\nL 361.966419 211.940093 \r\nL 361.910273 211.592522 \r\nL 361.797983 211.5654 \r\nL 361.797983 211.488954 \r\nL 361.741838 211.183676 \r\nL 361.517256 211.184339 \r\nL 361.517256 211.088057 \r\nL 361.461111 210.528849 \r\nL 361.404966 210.532799 \r\nL 361.404966 210.421644 \r\nL 361.348821 210.17411 \r\nL 361.180385 210.151429 \r\nL 361.180385 210.075165 \r\nL 361.124239 209.542804 \r\nL 361.068094 209.5469 \r\nL 361.068094 209.435828 \r\nL 361.011949 209.234913 \r\nL 360.899658 209.179032 \r\nL 360.899658 209.13206 \r\nL 360.843513 209.133483 \r\nL 360.843513 209.105543 \r\nL 360.731222 209.027494 \r\nL 360.731222 209.002628 \r\nL 360.675077 208.53359 \r\nL 360.562786 208.532903 \r\nL 360.562786 208.430887 \r\nL 360.506641 208.336423 \r\nL 360.450496 208.3407 \r\nL 360.450496 208.229481 \r\nL 360.394351 207.821217 \r\nL 360.338205 207.825569 \r\nL 360.338205 207.714138 \r\nL 360.28206 207.466086 \r\nL 360.225915 207.470489 \r\nL 360.225915 207.359152 \r\nL 360.169769 206.505068 \r\nL 360.057479 206.449169 \r\nL 360.057479 206.402764 \r\nL 360.001334 206.05884 \r\nL 359.889043 205.975945 \r\nL 359.889043 205.957175 \r\nL 359.832898 205.198269 \r\nL 359.776752 205.202994 \r\nL 359.776752 205.091841 \r\nL 359.720607 204.534865 \r\nL 359.608316 204.520696 \r\nL 359.608316 204.433611 \r\nL 359.552171 203.885133 \r\nL 359.496026 203.89004 \r\nL 359.496026 203.779031 \r\nL 359.439881 203.474925 \r\nL 359.383735 203.479889 \r\nL 359.383735 203.369145 \r\nL 359.32759 202.970038 \r\nL 359.159154 202.928891 \r\nL 359.159154 202.874157 \r\nL 359.103009 200.893253 \r\nL 358.990718 200.81169 \r\nL 358.990718 200.793192 \r\nL 358.934573 199.68148 \r\nL 358.878428 199.686948 \r\nL 358.878428 199.575347 \r\nL 358.822282 199.518994 \r\nL 358.653846 199.441808 \r\nL 358.653846 199.423861 \r\nL 358.597701 198.657567 \r\nL 358.485411 198.636761 \r\nL 358.485411 198.558136 \r\nL 358.429265 198.323573 \r\nL 358.37312 198.329223 \r\nL 358.37312 198.217556 \r\nL 358.316975 197.12399 \r\nL 358.260829 197.129791 \r\nL 358.260829 197.018976 \r\nL 358.204684 196.520402 \r\nL 358.092394 196.453847 \r\nL 358.092394 196.421434 \r\nL 358.036248 195.706525 \r\nL 357.980103 195.712504 \r\nL 357.980103 195.600793 \r\nL 357.923958 195.288986 \r\nL 357.867812 195.295018 \r\nL 357.867812 195.183499 \r\nL 357.811667 194.862013 \r\nL 357.643231 194.823361 \r\nL 357.643231 194.769008 \r\nL 357.587086 193.994026 \r\nL 357.474795 193.944086 \r\nL 357.474795 193.895791 \r\nL 357.41865 193.766461 \r\nL 357.306359 193.708662 \r\nL 357.306359 193.668411 \r\nL 357.250214 193.220747 \r\nL 357.194069 193.227039 \r\nL 357.194069 193.116428 \r\nL 357.137924 192.809875 \r\nL 357.025633 192.763949 \r\nL 357.025633 192.711208 \r\nL 356.969488 192.373804 \r\nL 356.913342 192.380201 \r\nL 356.913342 192.269503 \r\nL 356.857197 191.979446 \r\nL 356.801052 191.98589 \r\nL 356.801052 191.874631 \r\nL 356.744906 191.017138 \r\nL 356.688761 191.023695 \r\nL 356.688761 190.912212 \r\nL 356.632616 190.468787 \r\nL 356.576471 190.475408 \r\nL 356.576471 190.364414 \r\nL 356.520325 190.36599 \r\nL 356.520325 190.355871 \r\nL 356.408035 190.36071 \r\nL 356.408035 190.257549 \r\nL 356.351889 190.169077 \r\nL 356.239599 190.100559 \r\nL 356.239599 190.071501 \r\nL 356.183454 189.740416 \r\nL 356.127308 189.747129 \r\nL 356.127308 189.635735 \r\nL 356.071163 189.306728 \r\nL 355.958872 189.30963 \r\nL 355.958872 189.208434 \r\nL 355.902727 189.016858 \r\nL 355.790436 188.945963 \r\nL 355.790436 188.91893 \r\nL 355.734291 188.57324 \r\nL 355.678146 188.580093 \r\nL 355.678146 188.469974 \r\nL 355.622001 188.049816 \r\nL 355.565855 188.056728 \r\nL 355.565855 187.945917 \r\nL 355.50971 187.175782 \r\nL 355.453565 187.182791 \r\nL 355.453565 187.071622 \r\nL 355.397419 186.170184 \r\nL 355.228984 186.112248 \r\nL 355.228984 186.079642 \r\nL 355.172838 185.882004 \r\nL 355.116693 185.889158 \r\nL 355.116693 185.777871 \r\nL 355.060548 185.454407 \r\nL 355.004402 185.461609 \r\nL 355.004402 185.350409 \r\nL 354.948257 184.811219 \r\nL 354.835967 184.737483 \r\nL 354.835967 184.713744 \r\nL 354.779821 184.567277 \r\nL 354.667531 184.551456 \r\nL 354.667531 184.470872 \r\nL 354.611385 184.131155 \r\nL 354.55524 184.138505 \r\nL 354.55524 184.027689 \r\nL 354.499095 183.697436 \r\nL 354.386804 183.709979 \r\nL 354.386804 183.601721 \r\nL 354.330659 182.709832 \r\nL 354.218368 182.66626 \r\nL 354.218368 182.614606 \r\nL 354.162223 181.856614 \r\nL 354.106078 181.864203 \r\nL 354.106078 181.752657 \r\nL 354.049932 180.915933 \r\nL 353.993787 180.923617 \r\nL 353.993787 180.81303 \r\nL 353.937642 180.666668 \r\nL 353.825351 180.682091 \r\nL 353.825351 180.570438 \r\nL 353.769206 180.007724 \r\nL 353.713061 180.015502 \r\nL 353.713061 179.903622 \r\nL 353.656915 178.652496 \r\nL 353.544625 178.580871 \r\nL 353.544625 178.556229 \r\nL 353.488479 178.305487 \r\nL 353.320044 178.260148 \r\nL 353.320044 178.218559 \r\nL 353.263898 177.702872 \r\nL 353.151608 177.636819 \r\nL 353.151608 177.608464 \r\nL 353.095462 177.242442 \r\nL 353.039317 177.250495 \r\nL 353.039317 177.141081 \r\nL 352.983172 176.267517 \r\nL 352.927027 176.275662 \r\nL 352.927027 176.165421 \r\nL 352.870881 175.640418 \r\nL 352.758591 175.568554 \r\nL 352.758591 175.547208 \r\nL 352.702445 174.867245 \r\nL 352.6463 174.87552 \r\nL 352.6463 174.766056 \r\nL 352.590155 174.399164 \r\nL 352.534009 174.407483 \r\nL 352.534009 174.296246 \r\nL 352.477864 174.064836 \r\nL 352.365574 174.071909 \r\nL 352.365574 173.972243 \r\nL 352.309428 173.802979 \r\nL 352.253283 173.811356 \r\nL 352.253283 173.701038 \r\nL 352.197138 173.191496 \r\nL 352.084847 173.138867 \r\nL 352.084847 173.099086 \r\nL 352.028702 172.747188 \r\nL 351.972557 172.755661 \r\nL 351.972557 172.64472 \r\nL 351.916411 172.443702 \r\nL 351.860266 172.452204 \r\nL 351.860266 172.340123 \r\nL 351.804121 172.016853 \r\nL 351.747975 172.025394 \r\nL 351.747975 171.915169 \r\nL 351.69183 171.080975 \r\nL 351.635685 171.089595 \r\nL 351.635685 170.979547 \r\nL 351.579539 170.774109 \r\nL 351.523394 170.782756 \r\nL 351.523394 170.671596 \r\nL 351.467249 170.601136 \r\nL 351.354958 170.586048 \r\nL 351.354958 170.506666 \r\nL 351.298813 169.906304 \r\nL 351.186522 169.875864 \r\nL 351.186522 169.813131 \r\nL 351.130377 169.681208 \r\nL 351.074232 169.689955 \r\nL 351.074232 169.578485 \r\nL 351.018087 169.359414 \r\nL 350.961941 169.368189 \r\nL 350.961941 169.259324 \r\nL 350.905796 168.935541 \r\nL 350.849651 168.944352 \r\nL 350.849651 168.834019 \r\nL 350.793505 168.409383 \r\nL 350.73736 168.418238 \r\nL 350.73736 168.306079 \r\nL 350.681215 167.831073 \r\nL 350.625069 167.839975 \r\nL 350.625069 167.72974 \r\nL 350.568924 167.294068 \r\nL 350.400488 167.208857 \r\nL 350.344343 167.065158 \r\nL 350.288198 167.074126 \r\nL 350.288198 166.965247 \r\nL 350.232052 166.297048 \r\nL 350.175907 166.306076 \r\nL 350.175907 166.194653 \r\nL 350.119762 165.975601 \r\nL 349.951326 166.002768 \r\nL 349.951326 165.890262 \r\nL 349.895181 165.513207 \r\nL 349.839035 165.522301 \r\nL 349.839035 165.412398 \r\nL 349.78289 164.935481 \r\nL 349.726745 164.94462 \r\nL 349.726745 164.83282 \r\nL 349.726745 164.699049 \r\nL 349.670599 164.699559 \r\nL 349.614454 164.708717 \r\nL 349.614454 164.60045 \r\nL 349.558309 164.278434 \r\nL 349.446018 164.253012 \r\nL 349.446018 164.187202 \r\nL 349.389873 163.176216 \r\nL 349.333728 163.185487 \r\nL 349.333728 163.076856 \r\nL 349.277582 162.826821 \r\nL 349.221437 162.836118 \r\nL 349.221437 162.726375 \r\nL 349.165292 161.779757 \r\nL 349.109147 161.789126 \r\nL 349.109147 161.680819 \r\nL 349.053001 160.501575 \r\nL 348.996856 160.511029 \r\nL 348.996856 160.398829 \r\nL 348.940711 160.084445 \r\nL 348.884565 160.093929 \r\nL 348.884565 159.985356 \r\nL 348.82842 159.482311 \r\nL 348.772275 159.491834 \r\nL 348.772275 159.381451 \r\nL 348.71613 159.335672 \r\nL 348.659984 159.345208 \r\nL 348.659984 159.234348 \r\nL 348.603839 157.567288 \r\nL 348.435403 157.495905 \r\nL 348.435403 157.48533 \r\nL 348.379258 156.892772 \r\nL 348.323112 156.90246 \r\nL 348.323112 156.794896 \r\nL 348.266967 156.147446 \r\nL 348.210822 156.157179 \r\nL 348.210822 156.047493 \r\nL 348.154677 155.347928 \r\nL 348.042386 155.33393 \r\nL 348.042386 155.255512 \r\nL 347.986241 153.937041 \r\nL 347.930095 153.9469 \r\nL 347.930095 153.836624 \r\nL 347.87395 153.302352 \r\nL 347.76166 153.269099 \r\nL 347.76166 153.210081 \r\nL 347.705514 152.941455 \r\nL 347.649369 152.951373 \r\nL 347.649369 152.844201 \r\nL 347.593224 151.986529 \r\nL 347.480933 151.896727 \r\nL 347.424788 151.631084 \r\nL 347.312497 151.620331 \r\nL 347.312497 151.540313 \r\nL 347.256352 151.470142 \r\nL 347.200207 151.480145 \r\nL 347.200207 151.36889 \r\nL 347.200207 151.282152 \r\nL 347.144061 151.285964 \r\nL 347.031771 151.293591 \r\nL 347.031771 151.194208 \r\nL 347.031771 150.907155 \r\nL 346.975625 150.91093 \r\nL 346.863335 150.931009 \r\nL 346.863335 150.818143 \r\nL 346.80719 150.626791 \r\nL 346.638754 150.562241 \r\nL 346.638754 150.549594 \r\nL 346.582608 149.37318 \r\nL 346.526463 149.3833 \r\nL 346.526463 149.27259 \r\nL 346.470318 148.18636 \r\nL 346.301882 148.116435 \r\nL 346.301882 148.109731 \r\nL 346.245737 147.877849 \r\nL 346.189591 147.888043 \r\nL 346.189591 147.780027 \r\nL 346.133446 147.307651 \r\nL 346.077301 147.317871 \r\nL 346.077301 147.208383 \r\nL 346.077301 146.496907 \r\nL 346.021155 146.500195 \r\nL 345.96501 146.51045 \r\nL 345.96501 146.398877 \r\nL 345.908865 145.882359 \r\nL 345.85272 145.892641 \r\nL 345.85272 145.786531 \r\nL 345.796574 145.269618 \r\nL 345.684284 145.196976 \r\nL 345.684284 145.182611 \r\nL 345.628138 145.185742 \r\nL 345.628138 144.592702 \r\nL 345.571993 144.603039 \r\nL 345.571993 144.493705 \r\nL 345.515848 143.997683 \r\nL 345.459702 144.008044 \r\nL 345.459702 143.897213 \r\nL 345.403557 143.056322 \r\nL 345.291267 142.986581 \r\nL 345.291267 142.971475 \r\nL 345.235121 142.243204 \r\nL 345.122831 142.171852 \r\nL 345.122831 142.156466 \r\nL 345.066685 141.912297 \r\nL 344.954395 141.894487 \r\nL 344.954395 141.824752 \r\nL 344.89825 141.664299 \r\nL 344.785959 141.622913 \r\nL 344.785959 141.576133 \r\nL 344.729814 141.218528 \r\nL 344.673668 141.229003 \r\nL 344.673668 141.118804 \r\nL 344.617523 140.916025 \r\nL 344.561378 140.926512 \r\nL 344.561378 140.815552 \r\nL 344.505232 140.595365 \r\nL 344.449087 140.605865 \r\nL 344.449087 140.494098 \r\nL 344.392942 139.941764 \r\nL 344.224506 139.92478 \r\nL 344.224506 139.868071 \r\nL 344.168361 139.438842 \r\nL 344.05607 139.435379 \r\nL 344.05607 139.353454 \r\nL 343.999925 138.869485 \r\nL 343.94378 138.880047 \r\nL 343.94378 138.772225 \r\nL 343.887634 138.349068 \r\nL 343.775344 138.353468 \r\nL 343.775344 138.261186 \r\nL 343.719198 138.019195 \r\nL 343.550763 137.983405 \r\nL 343.550763 137.941124 \r\nL 343.494617 137.67174 \r\nL 343.438472 137.682348 \r\nL 343.438472 137.571607 \r\nL 343.382327 137.342841 \r\nL 343.326181 137.353461 \r\nL 343.326181 137.241921 \r\nL 343.270036 137.243954 \r\nL 343.270036 137.054579 \r\nL 343.157745 137.041331 \r\nL 343.157745 136.963594 \r\nL 343.1016 136.722904 \r\nL 342.933164 136.650468 \r\nL 342.933164 136.641761 \r\nL 342.877019 136.512881 \r\nL 342.708583 136.483688 \r\nL 342.708583 136.439951 \r\nL 342.652438 136.178575 \r\nL 342.596293 136.189246 \r\nL 342.596293 136.083536 \r\nL 342.596293 135.959921 \r\nL 342.540147 135.961756 \r\nL 342.427857 135.956583 \r\nL 342.427857 135.876899 \r\nL 342.371711 135.10161 \r\nL 342.315566 135.112311 \r\nL 342.315566 135.004162 \r\nL 342.259421 134.516161 \r\nL 342.14713 134.537593 \r\nL 342.14713 134.428122 \r\nL 342.090985 134.164117 \r\nL 341.978694 134.185572 \r\nL 341.978694 134.075262 \r\nL 341.922549 133.910842 \r\nL 341.866404 133.921579 \r\nL 341.866404 133.810642 \r\nL 341.810258 133.700927 \r\nL 341.697968 133.610974 \r\nL 341.641823 133.313982 \r\nL 341.585677 133.324739 \r\nL 341.585677 133.212368 \r\nL 341.585677 132.977458 \r\nL 341.529532 132.988221 \r\nL 341.417241 132.972067 \r\nL 341.417241 132.90605 \r\nL 341.361096 132.328334 \r\nL 341.248805 132.273466 \r\nL 341.248805 132.244775 \r\nL 341.19266 131.377564 \r\nL 341.136515 131.388361 \r\nL 341.136515 131.281207 \r\nL 341.08037 131.194402 \r\nL 341.024224 131.205204 \r\nL 341.024224 131.097626 \r\nL 340.968079 130.794201 \r\nL 340.911934 130.805012 \r\nL 340.911934 130.696553 \r\nL 340.855788 130.608573 \r\nL 340.799643 130.61939 \r\nL 340.799643 130.510499 \r\nL 340.743498 129.145746 \r\nL 340.687353 129.156578 \r\nL 340.687353 129.04455 \r\nL 340.631207 128.820373 \r\nL 340.518917 128.760064 \r\nL 340.518917 128.729286 \r\nL 340.518917 128.667675 \r\nL 340.462771 128.668243 \r\nL 340.350481 128.6591 \r\nL 340.350481 128.576777 \r\nL 340.294335 128.319194 \r\nL 340.182045 128.3202 \r\nL 340.182045 128.237299 \r\nL 340.1259 127.821251 \r\nL 339.957464 127.780618 \r\nL 339.957464 127.749203 \r\nL 339.901318 127.297189 \r\nL 339.845173 127.308062 \r\nL 339.845173 127.202301 \r\nL 339.789028 127.022279 \r\nL 339.732883 127.033158 \r\nL 339.732883 126.92681 \r\nL 339.676737 126.692289 \r\nL 339.564447 126.660562 \r\nL 339.564447 126.607012 \r\nL 339.508301 126.39241 \r\nL 339.396011 126.328045 \r\nL 339.396011 126.306486 \r\nL 339.339865 125.590158 \r\nL 339.227575 125.513522 \r\nL 339.227575 125.502574 \r\nL 339.17143 125.13993 \r\nL 339.115284 125.150834 \r\nL 339.115284 125.040479 \r\nL 339.059139 124.863269 \r\nL 339.002994 124.874176 \r\nL 339.002994 124.763217 \r\nL 338.946848 124.495741 \r\nL 338.834558 124.417001 \r\nL 338.834558 124.405816 \r\nL 338.778413 123.616714 \r\nL 338.722267 123.627629 \r\nL 338.722267 123.525386 \r\nL 338.666122 122.96483 \r\nL 338.497686 122.940114 \r\nL 338.497686 122.894093 \r\nL 338.441541 122.65122 \r\nL 338.385395 122.662144 \r\nL 338.385395 122.557985 \r\nL 338.32925 122.021792 \r\nL 338.273105 122.032716 \r\nL 338.273105 121.927337 \r\nL 338.21696 121.773944 \r\nL 337.992378 121.747094 \r\nL 337.992378 121.711776 \r\nL 337.992378 121.428426 \r\nL 337.936233 121.439359 \r\nL 337.823943 121.366463 \r\nL 337.823943 121.354606 \r\nL 337.767797 121.258716 \r\nL 337.599361 121.184511 \r\nL 337.599361 121.136875 \r\nL 337.543216 121.147821 \r\nL 337.487071 121.15877 \r\nL 337.487071 121.051441 \r\nL 337.487071 120.764235 \r\nL 337.430926 120.775182 \r\nL 337.318635 120.797083 \r\nL 337.318635 120.689002 \r\nL 337.26249 120.398646 \r\nL 337.150199 120.420553 \r\nL 337.150199 120.311688 \r\nL 337.094054 120.092131 \r\nL 336.925618 120.015487 \r\nL 336.869473 119.573984 \r\nL 336.757182 119.522193 \r\nL 336.757182 119.485302 \r\nL 336.757182 119.189315 \r\nL 336.701037 119.200274 \r\nL 336.588746 119.172718 \r\nL 336.588746 119.110806 \r\nL 336.532601 118.43632 \r\nL 336.476456 118.447278 \r\nL 336.476456 118.334335 \r\nL 336.42031 117.992499 \r\nL 336.364165 118.003456 \r\nL 336.364165 117.902261 \r\nL 336.364165 117.876935 \r\nL 336.30802 117.887892 \r\nL 336.195729 117.909813 \r\nL 336.195729 117.808394 \r\nL 336.139584 117.514033 \r\nL 335.971148 117.457563 \r\nL 335.971148 117.444786 \r\nL 335.915003 117.404617 \r\nL 335.858857 117.415585 \r\nL 335.858857 117.313178 \r\nL 335.802712 117.118792 \r\nL 335.690421 117.063533 \r\nL 335.690421 117.037778 \r\nL 335.634276 115.917349 \r\nL 335.578131 115.928302 \r\nL 335.578131 115.823168 \r\nL 335.521986 115.728798 \r\nL 335.409695 115.711163 \r\nL 335.409695 115.645194 \r\nL 335.35355 115.338472 \r\nL 335.185114 115.318225 \r\nL 335.185114 115.265063 \r\nL 335.128968 114.835605 \r\nL 334.960533 114.841672 \r\nL 334.960533 114.761205 \r\nL 334.904387 114.570516 \r\nL 334.848242 114.581472 \r\nL 334.848242 114.473647 \r\nL 334.792097 113.683342 \r\nL 334.623661 113.702499 \r\nL 334.623661 113.606694 \r\nL 334.567516 113.150123 \r\nL 334.455225 113.089118 \r\nL 334.455225 113.061465 \r\nL 334.39908 112.947808 \r\nL 334.230644 112.925172 \r\nL 334.230644 112.869659 \r\nL 334.230644 112.688889 \r\nL 334.174498 112.69983 \r\nL 334.118353 112.710772 \r\nL 334.118353 112.599256 \r\nL 334.062208 112.302467 \r\nL 334.006063 112.313404 \r\nL 334.006063 112.201112 \r\nL 333.949917 111.944521 \r\nL 333.893772 111.955453 \r\nL 333.893772 111.842456 \r\nL 333.837627 111.555767 \r\nL 333.781481 111.566694 \r\nL 333.781481 111.467163 \r\nL 333.725336 111.121291 \r\nL 333.669191 111.132211 \r\nL 333.669191 111.031933 \r\nL 333.613046 110.769838 \r\nL 333.500755 110.705197 \r\nL 333.500755 110.690773 \r\nL 333.44461 110.586176 \r\nL 333.332319 110.521228 \r\nL 333.332319 110.506753 \r\nL 333.276174 110.459733 \r\nL 333.220028 110.470652 \r\nL 333.220028 110.369128 \r\nL 333.163883 110.132787 \r\nL 333.107738 110.143701 \r\nL 333.107738 110.041598 \r\nL 333.051593 109.789183 \r\nL 332.995447 109.800091 \r\nL 332.995447 109.69738 \r\nL 332.939302 109.487617 \r\nL 332.770866 109.446596 \r\nL 332.770866 109.417077 \r\nL 332.714721 108.685416 \r\nL 332.60243 108.707192 \r\nL 332.60243 108.602521 \r\nL 332.546285 108.192963 \r\nL 332.49014 108.20384 \r\nL 332.49014 108.098285 \r\nL 332.433994 108.033655 \r\nL 332.321704 108.01006 \r\nL 332.321704 107.949542 \r\nL 332.265558 107.656948 \r\nL 332.209413 107.667818 \r\nL 332.209413 107.561255 \r\nL 332.153268 107.266657 \r\nL 332.040977 107.242432 \r\nL 332.040977 107.181113 \r\nL 331.984832 106.822805 \r\nL 331.928687 106.833658 \r\nL 331.928687 106.725575 \r\nL 331.872541 106.504194 \r\nL 331.816396 106.515039 \r\nL 331.816396 106.406371 \r\nL 331.760251 106.261648 \r\nL 331.704106 106.272489 \r\nL 331.704106 106.163363 \r\nL 331.64796 105.861375 \r\nL 331.53567 105.788885 \r\nL 331.53567 105.77318 \r\nL 331.479524 105.532189 \r\nL 331.311089 105.485765 \r\nL 331.311089 105.454176 \r\nL 331.254943 105.22758 \r\nL 331.086507 105.180708 \r\nL 331.086507 105.148943 \r\nL 331.030362 105.127986 \r\nL 330.805781 105.075854 \r\nL 330.805781 105.059931 \r\nL 330.749636 104.943234 \r\nL 330.69349 104.954065 \r\nL 330.69349 104.842265 \r\nL 330.637345 104.564709 \r\nL 330.5812 104.575529 \r\nL 330.5812 104.463028 \r\nL 330.525054 104.296656 \r\nL 330.468909 104.30747 \r\nL 330.468909 104.194457 \r\nL 330.412764 103.653518 \r\nL 330.356619 103.664309 \r\nL 330.356619 103.566452 \r\nL 330.356619 103.468447 \r\nL 330.300473 103.479233 \r\nL 330.244328 103.490022 \r\nL 330.244328 103.391862 \r\nL 330.188183 103.353512 \r\nL 330.132037 103.3643 \r\nL 330.132037 103.265911 \r\nL 330.075892 103.227445 \r\nL 329.851311 103.188426 \r\nL 329.851311 103.171977 \r\nL 329.795166 103.00155 \r\nL 329.73902 103.012339 \r\nL 329.73902 102.913276 \r\nL 329.682875 102.35985 \r\nL 329.62673 102.370615 \r\nL 329.62673 102.27054 \r\nL 329.570584 102.047194 \r\nL 329.458294 102.051951 \r\nL 329.458294 101.968111 \r\nL 329.402149 101.878114 \r\nL 329.177567 101.820221 \r\nL 329.121422 101.493435 \r\nL 329.065277 101.504182 \r\nL 329.065277 101.402578 \r\nL 329.009131 101.141606 \r\nL 328.952986 101.152341 \r\nL 328.952986 101.050155 \r\nL 328.896841 100.599086 \r\nL 328.840696 100.6098 \r\nL 328.840696 100.506737 \r\nL 328.78455 100.36255 \r\nL 328.67226 100.349492 \r\nL 328.67226 100.280491 \r\nL 328.616114 99.806167 \r\nL 328.559969 99.816853 \r\nL 328.559969 99.712456 \r\nL 328.503824 99.531314 \r\nL 328.447679 99.541991 \r\nL 328.447679 99.437123 \r\nL 328.391533 99.079453 \r\nL 328.223097 99.023426 \r\nL 328.223097 99.00581 \r\nL 328.166952 98.680877 \r\nL 328.054661 98.59584 \r\nL 327.998516 98.375511 \r\nL 327.773935 98.329013 \r\nL 327.773935 98.311186 \r\nL 327.71779 98.018038 \r\nL 327.605499 97.967616 \r\nL 327.605499 97.931745 \r\nL 327.549354 97.365834 \r\nL 327.212482 97.357049 \r\nL 327.212482 97.320803 \r\nL 327.156337 96.821926 \r\nL 327.100191 96.832512 \r\nL 327.100191 96.722837 \r\nL 327.100191 96.557995 \r\nL 327.044046 96.568569 \r\nL 326.819465 96.500749 \r\nL 326.76332 96.456189 \r\nL 326.707174 96.466771 \r\nL 326.707174 96.356349 \r\nL 326.651029 95.23412 \r\nL 326.426448 95.163743 \r\nL 326.370303 94.96761 \r\nL 326.314157 94.978121 \r\nL 326.314157 94.865135 \r\nL 326.258012 94.592358 \r\nL 326.201867 94.602851 \r\nL 326.201867 94.508162 \r\nL 326.201867 94.299393 \r\nL 326.145721 94.30987 \r\nL 326.033431 94.292801 \r\nL 326.033431 94.235714 \r\nL 325.977286 93.499767 \r\nL 325.80885 93.434796 \r\nL 325.752704 93.3102 \r\nL 325.471978 93.304426 \r\nL 325.471978 93.265754 \r\nL 325.415833 93.121282 \r\nL 325.359687 93.131717 \r\nL 325.359687 93.034717 \r\nL 325.303542 92.831265 \r\nL 325.022816 92.805436 \r\nL 325.022816 92.785933 \r\nL 324.96667 92.405131 \r\nL 324.910525 92.415537 \r\nL 324.910525 92.317385 \r\nL 324.85438 91.716164 \r\nL 324.742089 91.657584 \r\nL 324.742089 91.637742 \r\nL 324.685944 91.27003 \r\nL 324.573653 91.250798 \r\nL 324.573653 91.190877 \r\nL 324.517508 91.12124 \r\nL 324.405217 91.061843 \r\nL 324.405217 91.041809 \r\nL 324.405217 90.981675 \r\nL 324.349072 90.992008 \r\nL 324.236782 90.952488 \r\nL 324.236782 90.912328 \r\nL 324.236782 90.367966 \r\nL 324.180636 90.378265 \r\nL 324.124491 90.388566 \r\nL 324.124491 90.287291 \r\nL 324.124491 90.185873 \r\nL 324.068346 90.196163 \r\nL 323.89991 90.206745 \r\nL 323.89991 90.125462 \r\nL 323.843764 90.095078 \r\nL 323.731474 90.054602 \r\nL 323.731474 90.01386 \r\nL 323.675329 89.758753 \r\nL 323.563038 89.67696 \r\nL 323.506893 89.54369 \r\nL 323.450747 89.55396 \r\nL 323.450747 89.451245 \r\nL 323.394602 89.338051 \r\nL 323.338457 89.34831 \r\nL 323.338457 89.24526 \r\nL 323.282312 89.110987 \r\nL 323.170021 89.110811 \r\nL 323.170021 89.028059 \r\nL 323.113876 88.789465 \r\nL 323.05773 88.799696 \r\nL 323.05773 88.695753 \r\nL 323.001585 88.476766 \r\nL 322.889294 88.392751 \r\nL 322.833149 88.214576 \r\nL 322.664713 88.203244 \r\nL 322.664713 88.14029 \r\nL 322.608568 87.708261 \r\nL 322.327842 87.716871 \r\nL 322.327842 87.653417 \r\nL 322.271696 87.60008 \r\nL 322.159406 87.514439 \r\nL 322.10326 87.418456 \r\nL 321.878679 87.374086 \r\nL 321.878679 87.352806 \r\nL 321.822534 87.235155 \r\nL 321.766389 87.24532 \r\nL 321.766389 87.138623 \r\nL 321.710243 87.106058 \r\nL 321.654098 87.116218 \r\nL 321.654098 87.009287 \r\nL 321.597953 86.719186 \r\nL 321.541807 86.729321 \r\nL 321.541807 86.621781 \r\nL 321.485662 86.502647 \r\nL 321.317226 86.446701 \r\nL 321.317226 86.425105 \r\nL 321.261081 86.132194 \r\nL 321.14879 86.109003 \r\nL 321.14879 86.043857 \r\nL 321.092645 85.923483 \r\nL 321.0365 85.933576 \r\nL 321.0365 85.824664 \r\nL 320.980354 85.44131 \r\nL 320.811919 85.405703 \r\nL 320.811919 85.361809 \r\nL 320.811919 85.207978 \r\nL 320.755773 85.218024 \r\nL 320.699628 85.228074 \r\nL 320.699628 85.117982 \r\nL 320.643483 84.951526 \r\nL 320.587337 84.961559 \r\nL 320.587337 84.851026 \r\nL 320.531192 84.639477 \r\nL 320.306611 84.612917 \r\nL 320.306611 84.568469 \r\nL 320.306611 84.412694 \r\nL 320.250466 84.422695 \r\nL 319.857449 84.425884 \r\nL 319.857449 84.381248 \r\nL 319.801303 84.167667 \r\nL 319.632867 84.108031 \r\nL 319.632867 84.085602 \r\nL 319.632867 83.61305 \r\nL 319.576722 83.623011 \r\nL 319.464432 83.642942 \r\nL 319.464432 83.552572 \r\nL 319.408286 83.426765 \r\nL 319.295996 83.42402 \r\nL 319.295996 83.356012 \r\nL 319.295996 83.265239 \r\nL 319.23985 83.275184 \r\nL 319.12756 83.249643 \r\nL 319.12756 83.204177 \r\nL 319.12756 83.181433 \r\nL 319.071415 83.191377 \r\nL 319.015269 83.201324 \r\nL 319.015269 83.110267 \r\nL 319.015269 83.087485 \r\nL 318.959124 83.097426 \r\nL 318.846833 83.048912 \r\nL 318.846833 83.026097 \r\nL 318.790688 82.990385 \r\nL 318.622252 82.974523 \r\nL 318.622252 82.928802 \r\nL 318.566107 82.433942 \r\nL 318.509962 82.443843 \r\nL 318.509962 82.351692 \r\nL 318.453816 82.292395 \r\nL 318.28538 82.229705 \r\nL 318.229235 81.961762 \r\nL 318.116945 81.935098 \r\nL 318.116945 81.888657 \r\nL 318.060799 81.572616 \r\nL 317.555492 81.567887 \r\nL 317.499346 81.530981 \r\nL 317.274765 81.500217 \r\nL 317.274765 81.476791 \r\nL 317.274765 81.429917 \r\nL 317.21862 81.43978 \r\nL 317.050184 81.398998 \r\nL 317.050184 81.37552 \r\nL 317.050184 81.281538 \r\nL 316.994039 81.291396 \r\nL 316.825603 81.297468 \r\nL 316.825603 81.226858 \r\nL 316.769457 81.071697 \r\nL 316.601022 81.006773 \r\nL 316.544876 80.756167 \r\nL 316.432586 80.728371 \r\nL 316.432586 80.680882 \r\nL 316.37644 80.381288 \r\nL 316.26415 80.329302 \r\nL 316.26415 80.305422 \r\nL 316.26415 80.114116 \r\nL 316.208005 80.123899 \r\nL 316.039569 80.081377 \r\nL 316.039569 80.057399 \r\nL 315.983423 79.85103 \r\nL 315.927278 79.860799 \r\nL 315.927278 79.764527 \r\nL 315.871133 79.460545 \r\nL 315.814987 79.470283 \r\nL 315.814987 79.37348 \r\nL 315.758842 79.262027 \r\nL 315.590406 79.218383 \r\nL 315.590406 79.194094 \r\nL 315.534261 79.130897 \r\nL 315.365825 79.087054 \r\nL 315.365825 79.062702 \r\nL 315.30968 78.926137 \r\nL 315.141244 78.882005 \r\nL 315.141244 78.857568 \r\nL 315.085099 78.744961 \r\nL 315.028953 78.754661 \r\nL 315.028953 78.656662 \r\nL 315.028953 78.632143 \r\nL 314.972808 78.641834 \r\nL 314.860517 78.587601 \r\nL 314.860517 78.563043 \r\nL 314.804372 78.523592 \r\nL 314.748227 78.533282 \r\nL 314.748227 78.434895 \r\nL 314.748227 78.410279 \r\nL 314.692082 78.41996 \r\nL 314.523646 78.375097 \r\nL 314.523646 78.35044 \r\nL 314.4675 78.063606 \r\nL 314.411355 78.073264 \r\nL 314.411355 77.974165 \r\nL 314.35521 77.611037 \r\nL 314.186774 77.540163 \r\nL 314.186774 77.515209 \r\nL 314.130629 77.524824 \r\nL 314.018338 77.519094 \r\nL 314.018338 77.444138 \r\nL 313.962193 77.378718 \r\nL 313.906048 77.388328 \r\nL 313.906048 77.28816 \r\nL 313.849902 76.971299 \r\nL 313.737612 76.914906 \r\nL 313.737612 76.889708 \r\nL 313.681466 76.646829 \r\nL 313.456885 76.583794 \r\nL 313.40074 76.415832 \r\nL 313.120013 76.387305 \r\nL 313.120013 76.361876 \r\nL 313.063868 76.193168 \r\nL 312.895432 76.145216 \r\nL 312.895432 76.119687 \r\nL 312.839287 75.924659 \r\nL 312.726996 75.841181 \r\nL 312.670851 75.490865 \r\nL 312.44627 75.425613 \r\nL 312.44627 75.244782 \r\nL 312.390125 75.254234 \r\nL 312.333979 75.26369 \r\nL 312.333979 75.160151 \r\nL 312.277834 74.701956 \r\nL 312.165543 74.668623 \r\nL 312.165543 74.616448 \r\nL 312.109398 74.364432 \r\nL 311.940962 74.392561 \r\nL 311.940962 74.287723 \r\nL 311.884817 74.086982 \r\nL 311.547945 74.090496 \r\nL 311.547945 74.037814 \r\nL 311.4918 73.915303 \r\nL 311.154928 73.892165 \r\nL 311.154928 73.865721 \r\nL 311.154928 73.653862 \r\nL 311.098783 73.663195 \r\nL 310.930347 73.638139 \r\nL 310.930347 73.585029 \r\nL 310.874202 73.194874 \r\nL 310.64962 73.125159 \r\nL 310.593475 72.732223 \r\nL 310.481185 72.723843 \r\nL 310.481185 72.643112 \r\nL 310.425039 72.463653 \r\nL 310.200458 72.392519 \r\nL 310.144313 72.320588 \r\nL 309.807441 72.294694 \r\nL 309.807441 72.267576 \r\nL 309.807441 72.24045 \r\nL 309.751296 72.24968 \r\nL 309.414424 72.223626 \r\nL 309.414424 72.196442 \r\nL 309.358279 72.069611 \r\nL 309.133698 71.997469 \r\nL 309.077552 71.651166 \r\nL 309.021407 71.660357 \r\nL 309.021407 71.550637 \r\nL 309.021407 71.495722 \r\nL 308.965262 71.504898 \r\nL 308.74068 71.459143 \r\nL 308.74068 71.431628 \r\nL 308.74068 71.404104 \r\nL 308.684535 71.41328 \r\nL 308.403809 71.431653 \r\nL 308.403809 71.348941 \r\nL 308.347663 71.220067 \r\nL 308.179228 71.136933 \r\nL 308.123082 70.952077 \r\nL 308.010792 70.942613 \r\nL 308.010792 70.859272 \r\nL 307.954646 70.673598 \r\nL 307.67392 70.635555 \r\nL 307.67392 70.607641 \r\nL 307.617775 70.477041 \r\nL 307.449339 70.420406 \r\nL 307.449339 70.392395 \r\nL 307.393193 70.289346 \r\nL 306.944031 70.249804 \r\nL 306.887886 70.174493 \r\nL 306.831741 70.183596 \r\nL 306.831741 70.099078 \r\nL 306.831741 69.845001 \r\nL 306.775595 69.854068 \r\nL 306.663305 69.787315 \r\nL 306.663305 69.730668 \r\nL 306.607159 69.739728 \r\nL 306.438723 69.738576 \r\nL 306.438723 69.681844 \r\nL 306.438723 69.653463 \r\nL 306.382578 69.662522 \r\nL 305.708835 69.686145 \r\nL 305.708835 69.629209 \r\nL 305.652689 69.638292 \r\nL 305.484253 69.608558 \r\nL 305.484253 69.580042 \r\nL 305.428108 69.30339 \r\nL 305.147382 69.348697 \r\nL 305.147382 69.262731 \r\nL 305.147382 69.205371 \r\nL 305.091236 69.214425 \r\nL 305.035091 69.223482 \r\nL 305.035091 69.137346 \r\nL 305.035091 69.079873 \r\nL 304.978946 69.088916 \r\nL 304.698219 69.04783 \r\nL 304.642074 68.883896 \r\nL 304.473638 68.824347 \r\nL 304.417493 68.601815 \r\nL 304.361348 68.610824 \r\nL 304.361348 68.523809 \r\nL 304.305202 68.212936 \r\nL 304.136766 68.152357 \r\nL 304.080621 68.073734 \r\nL 304.024476 68.08269 \r\nL 304.024476 67.995 \r\nL 304.024476 67.907217 \r\nL 303.968331 67.916155 \r\nL 303.799895 67.884387 \r\nL 303.799895 67.855071 \r\nL 303.799895 67.825744 \r\nL 303.743749 67.83468 \r\nL 303.519168 67.811738 \r\nL 303.519168 67.782362 \r\nL 303.519168 67.752976 \r\nL 303.463023 67.761914 \r\nL 303.182296 67.718365 \r\nL 303.182296 67.629985 \r\nL 303.126151 67.63892 \r\nL 302.845425 67.654141 \r\nL 302.845425 67.595105 \r\nL 302.789279 67.278559 \r\nL 302.564698 67.284535 \r\nL 302.564698 67.225169 \r\nL 302.508553 67.115201 \r\nL 302.452408 67.124097 \r\nL 302.452408 67.034819 \r\nL 302.452408 66.855976 \r\nL 302.396262 66.864841 \r\nL 302.283972 66.882582 \r\nL 302.283972 66.792984 \r\nL 302.283972 66.763096 \r\nL 302.227826 66.771956 \r\nL 301.890955 66.79526 \r\nL 301.890955 66.735379 \r\nL 301.834809 66.654337 \r\nL 301.778664 66.6632 \r\nL 301.778664 66.573179 \r\nL 301.722519 66.401679 \r\nL 301.610228 66.419352 \r\nL 301.610228 66.329007 \r\nL 301.554083 66.187025 \r\nL 301.497938 66.195839 \r\nL 301.497938 66.105211 \r\nL 301.497938 66.044738 \r\nL 301.441792 66.053536 \r\nL 301.273356 66.019401 \r\nL 301.273356 65.989111 \r\nL 301.217211 65.906963 \r\nL 300.880339 65.868639 \r\nL 300.824194 65.81663 \r\nL 300.768049 65.825424 \r\nL 300.768049 65.73412 \r\nL 300.768049 65.703664 \r\nL 300.711904 65.712445 \r\nL 300.543468 65.647324 \r\nL 300.487322 65.533959 \r\nL 300.318886 65.468514 \r\nL 300.262741 65.416043 \r\nL 300.150451 65.402927 \r\nL 300.150451 65.341607 \r\nL 300.150451 65.280242 \r\nL 300.094305 65.28899 \r\nL 299.982015 65.275786 \r\nL 299.982015 65.21433 \r\nL 299.925869 65.100015 \r\nL 299.757434 65.033775 \r\nL 299.701288 64.888178 \r\nL 299.420562 64.838986 \r\nL 299.364416 64.630763 \r\nL 299.308271 64.639456 \r\nL 299.308271 64.546299 \r\nL 299.252126 64.492813 \r\nL 298.915254 64.482665 \r\nL 298.915254 64.451516 \r\nL 298.859109 64.366672 \r\nL 298.578382 64.316389 \r\nL 298.522237 64.199965 \r\nL 298.353801 64.131987 \r\nL 298.353801 64.069273 \r\nL 298.297656 64.077927 \r\nL 297.904639 64.044339 \r\nL 297.848494 63.769564 \r\nL 297.455476 63.73528 \r\nL 297.399331 63.30016 \r\nL 297.062459 63.256252 \r\nL 297.006314 63.137367 \r\nL 296.950169 63.145945 \r\nL 296.950169 63.0502 \r\nL 296.894024 62.86693 \r\nL 296.725588 62.796454 \r\nL 296.669442 62.548113 \r\nL 296.501007 62.509283 \r\nL 296.501007 62.477081 \r\nL 296.501007 62.444867 \r\nL 296.444861 62.453368 \r\nL 296.276425 62.414391 \r\nL 296.276425 62.382123 \r\nL 296.276425 62.317551 \r\nL 296.22028 62.326042 \r\nL 296.107989 62.310717 \r\nL 296.107989 62.246046 \r\nL 296.107989 62.213691 \r\nL 296.051844 62.222174 \r\nL 295.995699 62.230661 \r\nL 295.995699 62.133499 \r\nL 295.939554 61.849788 \r\nL 295.827263 61.769025 \r\nL 295.771118 61.647075 \r\nL 295.658827 61.66391 \r\nL 295.658827 61.565968 \r\nL 295.602682 61.37813 \r\nL 295.321955 61.321723 \r\nL 295.321955 61.256088 \r\nL 295.26581 61.264465 \r\nL 294.872793 61.257434 \r\nL 294.872793 61.224536 \r\nL 294.816648 61.13414 \r\nL 294.760502 61.142518 \r\nL 294.760502 61.043606 \r\nL 294.704357 60.820708 \r\nL 294.648212 60.829045 \r\nL 294.648212 60.729728 \r\nL 294.592067 60.605435 \r\nL 294.255195 60.555663 \r\nL 294.199049 60.49745 \r\nL 293.918323 60.439066 \r\nL 293.862178 60.180216 \r\nL 293.806032 60.188492 \r\nL 293.806032 60.08808 \r\nL 293.749887 59.962262 \r\nL 293.413015 59.944618 \r\nL 293.413015 59.911011 \r\nL 293.35687 59.851998 \r\nL 293.132289 59.783947 \r\nL 293.076144 59.724747 \r\nL 292.795417 59.698417 \r\nL 292.795417 59.664626 \r\nL 292.739272 59.368103 \r\nL 292.121674 59.356449 \r\nL 292.121674 59.322426 \r\nL 292.065528 59.330637 \r\nL 292.009383 59.338852 \r\nL 292.009383 59.236675 \r\nL 291.953238 59.176683 \r\nL 291.279494 59.172669 \r\nL 291.279494 59.138451 \r\nL 291.223349 59.146665 \r\nL 290.998768 59.076742 \r\nL 290.942622 58.913313 \r\nL 290.718041 58.877308 \r\nL 290.718041 58.842892 \r\nL 290.661896 58.782197 \r\nL 290.437315 58.711457 \r\nL 290.437315 58.676934 \r\nL 290.38117 58.685108 \r\nL 290.268879 58.632349 \r\nL 290.268879 58.597769 \r\nL 290.268879 58.459313 \r\nL 290.212734 58.467461 \r\nL 290.044298 58.387876 \r\nL 290.044298 58.353166 \r\nL 289.988152 58.361306 \r\nL 289.875862 58.273336 \r\nL 289.819717 58.142244 \r\nL 289.482845 58.086329 \r\nL 289.482845 58.051415 \r\nL 289.4267 58.059529 \r\nL 289.314409 58.075767 \r\nL 289.314409 57.970894 \r\nL 289.258264 57.663584 \r\nL 288.977537 57.633631 \r\nL 288.977537 57.59846 \r\nL 288.977537 57.387141 \r\nL 288.921392 57.395171 \r\nL 288.47223 57.353532 \r\nL 288.416084 57.290829 \r\nL 288.247648 57.20867 \r\nL 288.247648 57.173217 \r\nL 288.191503 57.18124 \r\nL 288.079212 57.090801 \r\nL 288.079212 57.055275 \r\nL 288.023067 57.063286 \r\nL 287.910777 57.043759 \r\nL 287.910777 56.972602 \r\nL 287.854631 56.873746 \r\nL 287.686195 56.790688 \r\nL 287.686195 56.64777 \r\nL 287.63005 56.655731 \r\nL 287.237033 56.60407 \r\nL 287.180888 56.540307 \r\nL 287.068597 56.520333 \r\nL 287.068597 56.448491 \r\nL 287.068597 56.412548 \r\nL 287.012452 56.420493 \r\nL 286.956307 56.428442 \r\nL 286.956307 56.320491 \r\nL 286.956307 56.284479 \r\nL 286.900161 56.292408 \r\nL 286.619435 56.259964 \r\nL 286.619435 56.223874 \r\nL 286.619435 56.151649 \r\nL 286.56329 56.159569 \r\nL 286.507144 56.167492 \r\nL 286.507144 56.05901 \r\nL 286.507144 56.022821 \r\nL 286.450999 56.030724 \r\nL 286.282563 55.981983 \r\nL 286.282563 55.945726 \r\nL 286.282563 55.909455 \r\nL 286.226418 55.917348 \r\nL 286.001837 55.839962 \r\nL 286.001837 55.767228 \r\nL 285.945691 55.775108 \r\nL 285.889546 55.782991 \r\nL 285.889546 55.673744 \r\nL 285.889546 55.527873 \r\nL 285.833401 55.535719 \r\nL 285.384238 55.488882 \r\nL 285.384238 55.37903 \r\nL 285.328093 55.386869 \r\nL 285.103512 55.308182 \r\nL 285.103512 55.234723 \r\nL 285.047367 55.242549 \r\nL 284.878931 55.22927 \r\nL 284.878931 55.155672 \r\nL 284.822785 55.089823 \r\nL 284.205187 55.065118 \r\nL 284.205187 54.991165 \r\nL 284.149042 54.998982 \r\nL 283.924461 54.993255 \r\nL 283.924461 54.91915 \r\nL 283.924461 54.882074 \r\nL 283.868315 54.889884 \r\nL 283.419153 54.878171 \r\nL 283.419153 54.840995 \r\nL 283.363008 54.699932 \r\nL 283.138427 54.656565 \r\nL 283.138427 54.61925 \r\nL 283.082281 54.552356 \r\nL 282.689264 54.532081 \r\nL 282.689264 54.49464 \r\nL 282.633119 54.502429 \r\nL 282.464683 54.450836 \r\nL 282.464683 54.375793 \r\nL 282.408538 54.383571 \r\nL 282.352393 54.391351 \r\nL 282.352393 54.316222 \r\nL 282.352393 54.278633 \r\nL 282.296247 54.286398 \r\nL 282.127811 54.309713 \r\nL 282.127811 54.234439 \r\nL 282.127811 54.121411 \r\nL 282.071666 54.129158 \r\nL 281.959375 54.069192 \r\nL 281.959375 53.99366 \r\nL 281.90323 54.001391 \r\nL 281.678649 53.956691 \r\nL 281.678649 53.918838 \r\nL 281.622504 53.926567 \r\nL 281.566358 53.934299 \r\nL 281.566358 53.85852 \r\nL 281.566358 53.820606 \r\nL 281.510213 53.828323 \r\nL 281.285632 53.783282 \r\nL 281.229487 53.676955 \r\nL 280.94876 53.677428 \r\nL 280.94876 53.639332 \r\nL 280.94876 53.563093 \r\nL 280.892615 53.570788 \r\nL 280.668034 53.601598 \r\nL 280.668034 53.52523 \r\nL 280.611888 53.418236 \r\nL 280.387307 53.372389 \r\nL 280.331162 53.265038 \r\nL 280.050435 53.264989 \r\nL 280.050435 53.226564 \r\nL 280.050435 53.188122 \r\nL 279.99429 53.195785 \r\nL 279.713564 53.157134 \r\nL 279.713564 53.080057 \r\nL 279.657418 53.087713 \r\nL 279.432837 53.04116 \r\nL 279.432837 52.963886 \r\nL 279.376692 52.971532 \r\nL 279.208256 52.9558 \r\nL 279.208256 52.917096 \r\nL 279.152111 52.847269 \r\nL 278.92753 52.839043 \r\nL 278.92753 52.800239 \r\nL 278.92753 52.722581 \r\nL 278.871384 52.730203 \r\nL 278.815239 52.737828 \r\nL 278.815239 52.660077 \r\nL 278.815239 52.621177 \r\nL 278.759094 52.628785 \r\nL 278.702948 52.636396 \r\nL 278.702948 52.558519 \r\nL 278.702948 52.480575 \r\nL 278.646803 52.488163 \r\nL 278.534513 52.464331 \r\nL 278.534513 52.425297 \r\nL 278.534513 52.308094 \r\nL 278.478367 52.315657 \r\nL 278.029205 52.297944 \r\nL 277.97306 52.070053 \r\nL 277.804624 52.014022 \r\nL 277.748478 51.863995 \r\nL 277.636188 51.879026 \r\nL 277.636188 51.800114 \r\nL 277.636188 51.681618 \r\nL 277.580043 51.689104 \r\nL 277.355461 51.679511 \r\nL 277.355461 51.639926 \r\nL 277.355461 51.600324 \r\nL 277.299316 51.607805 \r\nL 277.187026 51.622776 \r\nL 277.187026 51.543479 \r\nL 277.13088 51.392128 \r\nL 276.794008 51.357286 \r\nL 276.737863 51.285057 \r\nL 276.513282 51.274966 \r\nL 276.513282 51.235051 \r\nL 276.457137 51.122627 \r\nL 276.232556 51.112336 \r\nL 276.232556 51.072299 \r\nL 276.17641 50.959487 \r\nL 276.120265 50.966895 \r\nL 276.120265 50.886635 \r\nL 276.06412 50.813686 \r\nL 276.007974 50.821072 \r\nL 276.007974 50.740642 \r\nL 276.007974 50.700401 \r\nL 275.951829 50.707768 \r\nL 275.727248 50.656661 \r\nL 275.671103 50.542964 \r\nL 275.390376 50.498877 \r\nL 275.334231 50.222564 \r\nL 275.10965 50.170533 \r\nL 275.053504 49.93356 \r\nL 274.828923 49.962624 \r\nL 274.828923 49.880996 \r\nL 274.828923 49.758417 \r\nL 274.772778 49.765654 \r\nL 274.604342 49.705515 \r\nL 274.604342 49.541559 \r\nL 274.548197 49.548764 \r\nL 274.323616 49.495453 \r\nL 274.26747 49.420408 \r\nL 273.930598 49.381205 \r\nL 273.930598 49.257445 \r\nL 273.874453 49.26462 \r\nL 273.706017 49.244845 \r\nL 273.706017 49.203506 \r\nL 273.649872 49.045107 \r\nL 273.20071 49.06086 \r\nL 273.20071 49.019341 \r\nL 273.144564 48.818583 \r\nL 272.863838 48.770842 \r\nL 272.863838 48.729127 \r\nL 272.807693 48.73624 \r\nL 272.24624 48.723888 \r\nL 272.24624 48.682031 \r\nL 272.190094 48.689156 \r\nL 272.021659 48.71055 \r\nL 272.021659 48.626716 \r\nL 272.021659 48.584771 \r\nL 271.965513 48.591885 \r\nL 271.460206 48.571951 \r\nL 271.460206 48.48777 \r\nL 271.40406 48.494885 \r\nL 271.29177 48.424818 \r\nL 271.235624 48.220789 \r\nL 271.011043 48.206778 \r\nL 271.011043 48.164442 \r\nL 270.954898 48.044362 \r\nL 270.44959 48.022899 \r\nL 270.393445 47.859679 \r\nL 270.168864 47.802501 \r\nL 270.112719 47.724113 \r\nL 270.000428 47.652618 \r\nL 270.000428 47.567012 \r\nL 269.944283 47.574 \r\nL 269.38283 47.558195 \r\nL 269.38283 47.47225 \r\nL 269.326684 47.479241 \r\nL 268.652941 47.477141 \r\nL 268.596796 47.311405 \r\nL 268.316069 47.259786 \r\nL 268.259924 47.049929 \r\nL 267.754616 47.069056 \r\nL 267.754616 47.025531 \r\nL 267.754616 46.938419 \r\nL 267.698471 46.945361 \r\nL 267.417744 46.892821 \r\nL 267.361599 46.724897 \r\nL 267.137018 46.752566 \r\nL 267.137018 46.664941 \r\nL 267.080873 46.452384 \r\nL 266.575565 46.426228 \r\nL 266.575565 46.33806 \r\nL 266.51942 46.344922 \r\nL 266.182548 46.29779 \r\nL 266.182548 46.253572 \r\nL 266.126403 46.26043 \r\nL 266.070257 46.267292 \r\nL 266.070257 46.178758 \r\nL 266.070257 46.045801 \r\nL 266.014112 46.052622 \r\nL 265.621095 46.056027 \r\nL 265.621095 46.011575 \r\nL 265.56495 45.840347 \r\nL 265.228078 45.791914 \r\nL 265.228078 45.747251 \r\nL 265.171933 45.75404 \r\nL 264.891206 45.788034 \r\nL 264.891206 45.698537 \r\nL 264.891206 45.653757 \r\nL 264.835061 45.660539 \r\nL 264.61048 45.64285 \r\nL 264.61048 45.597982 \r\nL 264.61048 45.553093 \r\nL 264.554334 45.559863 \r\nL 264.329753 45.542021 \r\nL 264.329753 45.497043 \r\nL 264.329753 45.361983 \r\nL 264.273608 45.368724 \r\nL 264.161317 45.337124 \r\nL 264.161317 45.292012 \r\nL 264.161317 45.246879 \r\nL 264.105172 45.253602 \r\nL 263.712155 45.210275 \r\nL 263.712155 45.165003 \r\nL 263.65601 45.171724 \r\nL 263.487574 45.101224 \r\nL 263.487574 45.010454 \r\nL 263.431429 45.017151 \r\nL 262.982266 45.070843 \r\nL 262.982266 44.979819 \r\nL 262.926121 44.804176 \r\nL 262.196232 44.799628 \r\nL 262.196232 44.61626 \r\nL 262.140087 44.622919 \r\nL 261.578634 44.597654 \r\nL 261.578634 44.551607 \r\nL 261.522489 44.558273 \r\nL 260.90489 44.539415 \r\nL 260.90489 44.493186 \r\nL 260.848745 44.499862 \r\nL 260.680309 44.427305 \r\nL 260.680309 44.334611 \r\nL 260.624164 44.341261 \r\nL 260.343437 44.281659 \r\nL 260.343437 44.235174 \r\nL 260.287292 44.241815 \r\nL 259.894275 44.195194 \r\nL 259.894275 44.148563 \r\nL 259.83813 44.1552 \r\nL 259.613549 44.088351 \r\nL 259.613549 44.041602 \r\nL 259.557403 44.048226 \r\nL 259.220532 44.041195 \r\nL 259.220532 43.994331 \r\nL 259.164386 43.907141 \r\nL 258.88366 43.893231 \r\nL 258.88366 43.846215 \r\nL 258.88366 43.799176 \r\nL 258.827515 43.805772 \r\nL 258.602933 43.737942 \r\nL 258.546788 43.650173 \r\nL 258.097626 43.655575 \r\nL 258.097626 43.608255 \r\nL 258.097626 43.560912 \r\nL 258.04148 43.567483 \r\nL 257.816899 43.498944 \r\nL 257.760754 43.220307 \r\nL 257.592318 43.239846 \r\nL 257.592318 43.144527 \r\nL 257.592318 43.049113 \r\nL 257.536173 43.055592 \r\nL 257.255446 43.040228 \r\nL 257.255446 42.992399 \r\nL 257.255446 42.944547 \r\nL 257.199301 42.951013 \r\nL 256.918575 42.887495 \r\nL 256.918575 42.791498 \r\nL 256.862429 42.797942 \r\nL 256.581703 42.733995 \r\nL 256.581703 42.68585 \r\nL 256.525557 42.692282 \r\nL 255.851814 42.67309 \r\nL 255.851814 42.624735 \r\nL 255.795669 42.631178 \r\nL 255.346506 42.634366 \r\nL 255.346506 42.585866 \r\nL 255.290361 42.495223 \r\nL 254.616618 42.475189 \r\nL 254.616618 42.426427 \r\nL 254.560472 42.432868 \r\nL 254.11131 42.386716 \r\nL 254.11131 42.337782 \r\nL 254.055165 42.34422 \r\nL 253.942874 42.357105 \r\nL 253.942874 42.259097 \r\nL 253.886729 42.118292 \r\nL 253.662148 42.045529 \r\nL 253.662148 41.996308 \r\nL 253.606002 42.002684 \r\nL 253.381421 41.929595 \r\nL 253.381421 41.880243 \r\nL 253.325276 41.886602 \r\nL 252.988404 41.825895 \r\nL 252.988404 41.776389 \r\nL 252.932259 41.782739 \r\nL 252.258515 41.75981 \r\nL 252.258515 41.710083 \r\nL 252.20237 41.716441 \r\nL 251.584772 41.686801 \r\nL 251.584772 41.636862 \r\nL 251.528626 41.643226 \r\nL 251.2479 41.675097 \r\nL 251.2479 41.575005 \r\nL 251.2479 41.474809 \r\nL 251.191755 41.481148 \r\nL 250.181139 41.495075 \r\nL 250.181139 41.343775 \r\nL 250.124994 41.350119 \r\nL 249.900413 41.274415 \r\nL 249.844268 41.128848 \r\nL 249.731977 41.040014 \r\nL 249.731977 40.938459 \r\nL 249.675832 40.944725 \r\nL 249.170524 40.89937 \r\nL 249.170524 40.848381 \r\nL 249.114379 40.854645 \r\nL 249.058233 40.860912 \r\nL 249.058233 40.758807 \r\nL 249.002088 40.662816 \r\nL 248.833652 40.579089 \r\nL 248.833652 40.52784 \r\nL 248.777507 40.53404 \r\nL 248.047618 40.512033 \r\nL 248.047618 40.460535 \r\nL 247.991473 40.466745 \r\nL 247.598456 40.407041 \r\nL 247.598456 40.355364 \r\nL 247.542311 40.361565 \r\nL 246.756276 40.344923 \r\nL 246.756276 40.292981 \r\nL 246.700131 40.299195 \r\nL 246.194823 40.251057 \r\nL 246.194823 40.14673 \r\nL 246.138678 40.152929 \r\nL 245.464935 40.122805 \r\nL 245.408789 39.971631 \r\nL 245.128063 39.897383 \r\nL 245.128063 39.739377 \r\nL 245.071918 39.745514 \r\nL 244.510465 39.701303 \r\nL 244.510465 39.59543 \r\nL 244.454319 39.601552 \r\nL 243.780576 39.56896 \r\nL 243.780576 39.515756 \r\nL 243.724431 39.521883 \r\nL 243.387559 39.452041 \r\nL 243.387559 39.39866 \r\nL 243.331414 39.404772 \r\nL 242.826106 39.35282 \r\nL 242.769961 39.198013 \r\nL 242.489234 39.174698 \r\nL 242.489234 39.120901 \r\nL 242.489234 39.067075 \r\nL 242.433089 39.073136 \r\nL 242.152362 38.995592 \r\nL 242.096217 38.893601 \r\nL 241.759345 38.875693 \r\nL 241.759345 38.821515 \r\nL 241.7032 38.664787 \r\nL 241.254038 38.603918 \r\nL 241.254038 38.549439 \r\nL 241.197892 38.555413 \r\nL 240.917166 38.476123 \r\nL 240.917166 38.421471 \r\nL 240.861021 38.427425 \r\nL 240.636439 38.341742 \r\nL 240.636439 38.177215 \r\nL 240.580294 38.183117 \r\nL 240.355713 38.151786 \r\nL 240.355713 38.096783 \r\nL 240.355713 38.041749 \r\nL 240.299568 38.047627 \r\nL 239.962696 38.027798 \r\nL 239.962696 37.972605 \r\nL 239.906551 37.867972 \r\nL 239.738115 37.830186 \r\nL 239.738115 37.774813 \r\nL 239.738115 37.71941 \r\nL 239.681969 37.725226 \r\nL 239.176662 37.666538 \r\nL 239.176662 37.55523 \r\nL 239.120516 37.561023 \r\nL 238.166046 37.54806 \r\nL 238.166046 37.49204 \r\nL 238.109901 37.497849 \r\nL 238.053756 37.503662 \r\nL 238.053756 37.447581 \r\nL 237.997611 37.284907 \r\nL 237.436158 37.286307 \r\nL 237.380012 37.179227 \r\nL 237.323867 37.184982 \r\nL 237.323867 37.128489 \r\nL 237.323867 37.071964 \r\nL 237.267722 37.077692 \r\nL 236.818559 37.066953 \r\nL 236.818559 37.010232 \r\nL 236.762414 37.015961 \r\nL 236.257107 37.010772 \r\nL 236.257107 36.89687 \r\nL 236.200961 36.902588 \r\nL 234.909619 36.977664 \r\nL 234.909619 36.920274 \r\nL 234.853474 36.926042 \r\nL 234.572748 36.897418 \r\nL 234.572748 36.83987 \r\nL 234.516602 36.845628 \r\nL 234.460457 36.85139 \r\nL 234.460457 36.793778 \r\nL 234.460457 36.736133 \r\nL 234.404312 36.741867 \r\nL 233.955149 36.730049 \r\nL 233.955149 36.614316 \r\nL 233.899004 36.620035 \r\nL 233.11297 36.642308 \r\nL 233.11297 36.52591 \r\nL 233.056825 36.531633 \r\nL 232.495372 36.530632 \r\nL 232.439227 36.419401 \r\nL 232.214645 36.383687 \r\nL 232.214645 36.32505 \r\nL 232.1585 36.330749 \r\nL 232.04621 36.342158 \r\nL 232.04621 36.283439 \r\nL 231.990064 36.171558 \r\nL 231.653192 36.146669 \r\nL 231.653192 36.0877 \r\nL 231.597047 36.093354 \r\nL 231.540902 36.099011 \r\nL 231.540902 36.039975 \r\nL 231.484757 35.92741 \r\nL 230.923304 35.983727 \r\nL 230.923304 35.924409 \r\nL 230.923304 35.865056 \r\nL 230.867158 35.870674 \r\nL 230.417996 35.915741 \r\nL 230.417996 35.856207 \r\nL 230.417996 35.796637 \r\nL 230.361851 35.802253 \r\nL 229.519671 35.827036 \r\nL 229.519671 35.767134 \r\nL 229.463526 35.772771 \r\nL 229.407381 35.778412 \r\nL 229.407381 35.718442 \r\nL 229.351235 35.483757 \r\nL 228.677492 35.490401 \r\nL 228.677492 35.429996 \r\nL 228.621347 35.435569 \r\nL 228.452911 35.391801 \r\nL 228.452911 35.331256 \r\nL 228.396765 35.336809 \r\nL 228.172184 35.29839 \r\nL 228.172184 35.237688 \r\nL 228.116039 35.243224 \r\nL 227.610731 35.232297 \r\nL 227.610731 35.110368 \r\nL 227.554586 35.115888 \r\nL 226.768552 35.132241 \r\nL 226.768552 35.070927 \r\nL 226.712407 35.076464 \r\nL 226.207099 35.06492 \r\nL 226.150954 34.947277 \r\nL 225.589501 35.002651 \r\nL 225.589501 34.940821 \r\nL 225.589501 34.878954 \r\nL 225.533355 34.884475 \r\nL 225.252629 34.850122 \r\nL 225.252629 34.788072 \r\nL 225.196484 34.793579 \r\nL 224.971903 34.815641 \r\nL 224.971903 34.753464 \r\nL 224.971903 34.691249 \r\nL 224.915757 34.696738 \r\nL 224.578885 34.667363 \r\nL 224.52274 34.547949 \r\nL 224.41045 34.49633 \r\nL 224.354304 34.37653 \r\nL 224.185868 34.33006 \r\nL 224.185868 34.267283 \r\nL 224.129723 34.272676 \r\nL 223.512125 34.269195 \r\nL 223.512125 34.206121 \r\nL 223.45598 34.211519 \r\nL 223.175253 34.175337 \r\nL 223.175253 34.112074 \r\nL 223.119108 34.117456 \r\nL 222.950672 34.070246 \r\nL 222.950672 34.00683 \r\nL 222.894527 34.012189 \r\nL 222.108493 34.023837 \r\nL 222.052347 33.901602 \r\nL 221.996202 33.90696 \r\nL 221.996202 33.843067 \r\nL 221.996202 33.779134 \r\nL 221.940057 33.784458 \r\nL 221.041732 33.805809 \r\nL 221.041732 33.741474 \r\nL 220.985587 33.746819 \r\nL 219.694245 33.805854 \r\nL 219.694245 33.611101 \r\nL 219.6381 33.616451 \r\nL 218.964356 33.615673 \r\nL 218.908211 33.424974 \r\nL 218.571339 33.456953 \r\nL 218.571339 33.391392 \r\nL 218.571339 33.325788 \r\nL 218.515194 33.331091 \r\nL 217.72916 33.33975 \r\nL 217.72916 33.207733 \r\nL 217.673014 33.213028 \r\nL 217.111561 33.199879 \r\nL 217.111561 33.067159 \r\nL 217.055416 33.072433 \r\nL 215.483348 33.154497 \r\nL 215.427203 32.89126 \r\nL 215.034186 32.860863 \r\nL 215.034186 32.793413 \r\nL 214.97804 32.798672 \r\nL 214.472733 32.778461 \r\nL 214.416587 32.648147 \r\nL 213.181391 32.695814 \r\nL 213.181391 32.627439 \r\nL 213.125246 32.63271 \r\nL 212.732229 32.601114 \r\nL 212.732229 32.532474 \r\nL 212.676083 32.53773 \r\nL 212.283066 32.505766 \r\nL 212.283066 32.43686 \r\nL 212.226921 32.442102 \r\nL 212.00234 32.463105 \r\nL 212.00234 32.394042 \r\nL 212.00234 32.324932 \r\nL 211.946194 32.330148 \r\nL 209.981109 32.445032 \r\nL 209.981109 32.304979 \r\nL 209.924964 32.310259 \r\nL 209.756528 32.32612 \r\nL 209.756528 32.25593 \r\nL 209.700383 32.120631 \r\nL 209.082784 32.178364 \r\nL 209.082784 32.107756 \r\nL 209.082784 32.037097 \r\nL 209.026639 32.042322 \r\nL 208.29675 32.039549 \r\nL 208.29675 31.96847 \r\nL 208.240605 31.9737 \r\nL 207.398426 31.981093 \r\nL 207.398426 31.909541 \r\nL 207.34228 31.914784 \r\nL 206.836973 31.890296 \r\nL 206.780827 31.751675 \r\nL 206.331665 31.721274 \r\nL 206.331665 31.649017 \r\nL 206.27552 31.654211 \r\nL 205.714067 31.633788 \r\nL 205.714067 31.561163 \r\nL 205.657922 31.56635 \r\nL 205.489486 31.509161 \r\nL 205.489486 31.363456 \r\nL 205.43334 31.368586 \r\nL 204.703452 31.36233 \r\nL 204.703452 31.289004 \r\nL 204.647306 31.294136 \r\nL 203.636691 31.313299 \r\nL 203.636691 31.239395 \r\nL 203.580546 31.244548 \r\nL 203.019093 31.222052 \r\nL 203.019093 30.999022 \r\nL 202.962947 31.004116 \r\nL 201.840042 31.031785 \r\nL 201.840042 30.806486 \r\nL 201.783896 30.811555 \r\nL 200.324119 30.86877 \r\nL 200.324119 30.716766 \r\nL 200.267973 30.721858 \r\nL 198.583615 30.79951 \r\nL 198.583615 30.722534 \r\nL 198.527469 30.727692 \r\nL 198.022162 30.696987 \r\nL 198.022162 30.61962 \r\nL 197.966016 30.624763 \r\nL 197.516854 30.588374 \r\nL 197.516854 30.510642 \r\nL 197.460709 30.515765 \r\nL 195.77635 30.592629 \r\nL 195.77635 30.435125 \r\nL 195.720205 30.440286 \r\nL 194.316572 30.49103 \r\nL 194.316572 30.411377 \r\nL 194.260427 30.416585 \r\nL 193.418248 30.415016 \r\nL 193.362102 30.259644 \r\nL 193.02523 30.290842 \r\nL 193.02523 30.210262 \r\nL 193.02523 30.129617 \r\nL 192.969085 30.134772 \r\nL 191.95847 30.146974 \r\nL 191.95847 30.06563 \r\nL 191.902325 30.070802 \r\nL 191.790034 30.081159 \r\nL 191.790034 29.999658 \r\nL 191.790034 29.918093 \r\nL 191.733889 29.923217 \r\nL 190.274111 29.975416 \r\nL 190.274111 29.892886 \r\nL 190.217966 29.898059 \r\nL 189.544222 29.877462 \r\nL 189.544222 29.79439 \r\nL 189.488077 29.799554 \r\nL 187.916009 29.861825 \r\nL 187.916009 29.777687 \r\nL 187.859863 29.782911 \r\nL 186.512376 29.824559 \r\nL 186.512376 29.73946 \r\nL 186.456231 29.744727 \r\nL 185.838633 29.71738 \r\nL 185.782488 29.465423 \r\nL 184.996454 29.452105 \r\nL 184.996454 29.365665 \r\nL 184.940308 29.370847 \r\nL 184.378855 29.336019 \r\nL 184.378855 29.249053 \r\nL 184.32271 29.254214 \r\nL 183.143659 29.363624 \r\nL 183.143659 29.275813 \r\nL 183.143659 29.187927 \r\nL 183.087514 29.193115 \r\nL 182.076898 29.19863 \r\nL 182.076898 29.109913 \r\nL 182.020753 29.115114 \r\nL 181.908462 29.036628 \r\nL 181.908462 28.947649 \r\nL 181.852317 28.952791 \r\nL 180.50483 28.98759 \r\nL 180.448685 28.812546 \r\nL 179.213488 28.835793 \r\nL 179.213488 28.744633 \r\nL 179.157343 28.749806 \r\nL 177.866001 28.777909 \r\nL 177.866001 28.68566 \r\nL 177.809856 28.690867 \r\nL 177.472984 28.629603 \r\nL 177.472984 28.536912 \r\nL 177.416839 28.542074 \r\nL 176.406224 28.542252 \r\nL 176.406224 28.448637 \r\nL 176.350078 28.453807 \r\nL 175.564044 28.432385 \r\nL 175.507899 28.248627 \r\nL 174.497284 28.246228 \r\nL 174.497284 28.150786 \r\nL 174.441138 28.155912 \r\nL 173.879685 28.111441 \r\nL 173.879685 28.015358 \r\nL 173.82354 28.020452 \r\nL 173.037506 27.995456 \r\nL 173.037506 27.898551 \r\nL 172.981361 27.903631 \r\nL 172.139181 27.882714 \r\nL 172.139181 27.78493 \r\nL 172.083036 27.789999 \r\nL 170.903985 27.798722 \r\nL 170.903985 27.699774 \r\nL 170.84784 27.70486 \r\nL 169.668788 27.712777 \r\nL 169.668788 27.612637 \r\nL 169.612643 27.617741 \r\nL 169.331917 27.643334 \r\nL 169.331917 27.542819 \r\nL 169.331917 27.442206 \r\nL 169.275771 27.447247 \r\nL 168.714318 27.3967 \r\nL 168.714318 27.295375 \r\nL 168.658173 27.300376 \r\nL 164.447276 27.689932 \r\nL 164.447276 27.584788 \r\nL 164.447276 27.479538 \r\nL 164.391131 27.484831 \r\nL 162.650627 27.544624 \r\nL 162.594481 27.228176 \r\nL 161.30314 27.24191 \r\nL 161.30314 27.024076 \r\nL 161.246994 27.029305 \r\nL 160.685541 26.972206 \r\nL 160.685541 26.862397 \r\nL 160.629396 26.867576 \r\nL 159.674926 26.84554 \r\nL 159.674926 26.734488 \r\nL 159.618781 26.739654 \r\nL 158.43973 26.737007 \r\nL 158.43973 26.624452 \r\nL 158.383584 26.629626 \r\nL 156.979952 26.760824 \r\nL 156.979952 26.64661 \r\nL 156.923807 26.651873 \r\nL 155.800901 26.758364 \r\nL 155.800901 26.527006 \r\nL 155.744756 26.53227 \r\nL 155.014867 26.601238 \r\nL 155.014867 26.484496 \r\nL 154.958721 26.48978 \r\nL 153.442799 26.634738 \r\nL 153.442799 26.516082 \r\nL 153.386653 26.521472 \r\nL 151.926876 26.663805 \r\nL 151.926876 26.543238 \r\nL 151.87073 26.548731 \r\nL 151.140841 26.62073 \r\nL 151.140841 26.499078 \r\nL 151.084696 26.504594 \r\nL 150.410953 26.571291 \r\nL 150.410953 26.448604 \r\nL 150.354807 26.454136 \r\nL 149.175756 26.571828 \r\nL 149.175756 26.447453 \r\nL 149.119611 26.45306 \r\nL 149.063466 26.458674 \r\nL 149.063466 26.334007 \r\nL 149.00732 26.339556 \r\nL 148.726594 26.367402 \r\nL 148.726594 26.242155 \r\nL 148.670449 26.247673 \r\nL 148.389722 26.275358 \r\nL 148.389722 26.023541 \r\nL 148.333577 26.028953 \r\nL 147.94056 26.067018 \r\nL 147.94056 25.940294 \r\nL 147.884414 25.945684 \r\nL 147.715979 25.961895 \r\nL 147.715979 25.83472 \r\nL 147.659833 25.840062 \r\nL 146.536927 25.9483 \r\nL 146.536927 25.819386 \r\nL 146.480782 25.824792 \r\nL 144.23497 26.046649 \r\nL 144.178825 25.787432 \r\nL 143.224355 25.882525 \r\nL 143.224355 25.748428 \r\nL 143.16821 25.754004 \r\nL 141.989159 25.872776 \r\nL 141.989159 25.73666 \r\nL 141.933013 25.742312 \r\nL 140.978543 25.839537 \r\nL 140.922398 25.569272 \r\nL 140.753962 25.586153 \r\nL 140.753962 25.447589 \r\nL 140.697817 25.453143 \r\nL 140.641672 25.458704 \r\nL 140.641672 25.319779 \r\nL 140.585526 25.325259 \r\nL 140.529381 25.330746 \r\nL 140.529381 25.191458 \r\nL 140.473236 25.196863 \r\nL 139.967928 25.245836 \r\nL 139.967928 25.105463 \r\nL 139.911783 25.11085 \r\nL 139.631056 25.137896 \r\nL 139.631056 24.996787 \r\nL 139.574911 25.002127 \r\nL 136.59921 25.295815 \r\nL 136.59921 25.149382 \r\nL 136.543065 25.155034 \r\nL 135.925467 25.217735 \r\nL 135.925467 25.069902 \r\nL 135.869322 25.07555 \r\nL 134.128818 25.254689 \r\nL 134.128818 25.103352 \r\nL 134.072672 25.109159 \r\nL 133.7358 25.14418 \r\nL 133.7358 24.991881 \r\nL 133.679655 24.997641 \r\nL 133.062057 25.061558 \r\nL 133.062057 24.907744 \r\nL 133.005912 24.913497 \r\nL 132.107587 25.006709 \r\nL 132.107587 24.850793 \r\nL 132.051442 24.856581 \r\nL 131.433843 24.92082 \r\nL 131.433843 24.763315 \r\nL 131.377698 24.769094 \r\nL 129.80563 24.934499 \r\nL 129.80563 24.77337 \r\nL 129.749485 24.77929 \r\nL 127.672109 25.004916 \r\nL 127.672109 24.838859 \r\nL 127.615963 24.845014 \r\nL 127.559818 24.851179 \r\nL 127.559818 24.684604 \r\nL 127.503673 24.690651 \r\nL 126.661493 24.782523 \r\nL 126.661493 24.613611 \r\nL 126.605348 24.619684 \r\nL 125.931605 24.693326 \r\nL 125.931605 24.522414 \r\nL 125.875459 24.528481 \r\nL 121.327691 25.055147 \r\nL 121.327691 24.872152 \r\nL 121.271545 24.878966 \r\nL 120.597802 24.961675 \r\nL 120.597802 24.776329 \r\nL 120.541656 24.783143 \r\nL 118.071264 25.095381 \r\nL 118.071264 24.902294 \r\nL 118.015118 24.909513 \r\nL 117.790537 24.938525 \r\nL 117.790537 24.744217 \r\nL 117.734392 24.75133 \r\nL 116.106178 24.963508 \r\nL 116.106178 24.763471 \r\nL 116.050033 24.770813 \r\nL 114.141093 25.029078 \r\nL 114.141093 24.821983 \r\nL 114.084948 24.829645 \r\nL 111.782991 25.157391 \r\nL 111.782991 24.941229 \r\nL 111.726845 24.949355 \r\nL 111.446119 24.990237 \r\nL 111.446119 24.772327 \r\nL 111.389974 24.780336 \r\nL 111.333828 24.788362 \r\nL 111.333828 24.569558 \r\nL 111.277683 24.57738 \r\nL 110.210922 24.729173 \r\nL 110.154777 24.288851 \r\nL 108.245837 24.560746 \r\nL 108.245837 24.327589 \r\nL 108.189692 24.335647 \r\nL 106.729914 24.551629 \r\nL 106.729914 24.310974 \r\nL 106.673769 24.319272 \r\nL 106.393043 24.361048 \r\nL 106.393043 24.118226 \r\nL 106.336897 24.126368 \r\nL 104.259521 24.44146 \r\nL 104.259521 24.18727 \r\nL 104.203376 24.195881 \r\nL 102.126 24.529831 \r\nL 102.126 24.263157 \r\nL 102.069855 24.272291 \r\nL 101.564547 24.355558 \r\nL 101.564547 24.084879 \r\nL 101.508402 24.093913 \r\nL 100.666223 24.232274 \r\nL 100.666223 23.95537 \r\nL 100.610077 23.964436 \r\nL 97.465941 24.513331 \r\nL 97.465941 24.213918 \r\nL 97.409796 24.224104 \r\nL 94.883257 24.71467 \r\nL 94.883257 24.394047 \r\nL 94.827112 24.405242 \r\nL 91.62683 25.105463 \r\nL 91.62683 24.753704 \r\nL 91.570685 24.766616 \r\nL 88.988002 25.411538 \r\nL 88.988002 25.029471 \r\nL 88.931856 25.044024 \r\nL 88.707275 25.102772 \r\nL 88.707275 24.715897 \r\nL 88.65113 24.730031 \r\nL 86.74219 25.24382 \r\nL 86.74219 24.829645 \r\nL 86.686044 24.845014 \r\nL 85.956156 25.050509 \r\nL 85.956156 24.62326 \r\nL 85.90001 24.638679 \r\nL 83.148891 25.480036 \r\nL 83.148891 25.004131 \r\nL 83.092746 25.022214 \r\nL 82.419002 25.245836 \r\nL 82.419002 24.753704 \r\nL 82.362857 24.771793 \r\nL 82.306712 24.789969 \r\nL 82.306712 24.293257 \r\nL 82.250566 24.310382 \r\nL 79.667883 25.196863 \r\nL 79.667883 24.63749 \r\nL 79.611737 24.657742 \r\nL 77.702798 25.417387 \r\nL 77.702798 24.799089 \r\nL 77.646652 24.821983 \r\nL 76.916763 25.132472 \r\nL 76.916763 24.484578 \r\nL 76.860618 24.507563 \r\nL 76.35531 24.72103 \r\nL 76.35531 24.048975 \r\nL 76.299165 24.071372 \r\nL 74.165644 25.044024 \r\nL 73.772627 25.253508 \r\nL 73.772627 24.464267 \r\nL 73.716482 24.492224 \r\nL 72.705866 25.034316 \r\nL 72.705866 24.179753 \r\nL 72.649721 24.208835 \r\nL 70.965362 25.207695 \r\nL 70.235473 25.733132 \r\nL 70.235473 24.689786 \r\nL 70.179328 24.728008 \r\nL 68.831841 25.776379 \r\nL 68.831841 24.57738 \r\nL 68.775696 24.620697 \r\nL 67.540499 25.718811 \r\nL 66.473739 26.961753 \r\nL 65.912286 27.771435 \r\nL 65.912286 26.063743 \r\nL 65.856141 26.138577 \r\nL 64.957816 27.531645 \r\nL 64.171782 29.15689 \r\nL 63.441893 31.195232 \r\nL 62.768149 33.80045 \r\nL 62.262842 36.48708 \r\nL 62.262842 32.888623 \r\nL 62.206696 33.181308 \r\nL 61.701389 36.400843 \r\nL 61.308372 39.959276 \r\nL 61.308372 34.704061 \r\nL 61.252227 35.193517 \r\nL 61.196081 35.710943 \r\nL 61.196081 29.867082 \r\nL 61.139936 30.254459 \r\nL 60.746919 33.80045 \r\nL 60.410047 38.815494 \r\nL 60.241611 42.650527 \r\nL 60.241611 30.666047 \r\nL 60.185466 31.571541 \r\nL 59.960885 36.83987 \r\nL 59.736304 48.129147 \r\nL 59.567868 71.41328 \r\nL 59.511722 89.523161 \r\nL 59.511722 17.083636 \r\nL 59.455577 17.083636 \r\nL 59.399432 17.083636 \r\nL 59.399432 17.083636 \r\n\" style=\"fill:none;stroke:#1f77b4;stroke-linecap:square;stroke-width:1.5;\"/>\r\n   </g>\r\n   <g id=\"patch_3\">\r\n    <path d=\"M 44.18125 224.64 \r\nL 44.18125 7.2 \r\n\" style=\"fill:none;stroke:#000000;stroke-linecap:square;stroke-linejoin:miter;stroke-width:0.8;\"/>\r\n   </g>\r\n   <g id=\"patch_4\">\r\n    <path d=\"M 378.98125 224.64 \r\nL 378.98125 7.2 \r\n\" style=\"fill:none;stroke:#000000;stroke-linecap:square;stroke-linejoin:miter;stroke-width:0.8;\"/>\r\n   </g>\r\n   <g id=\"patch_5\">\r\n    <path d=\"M 44.18125 224.64 \r\nL 378.98125 224.64 \r\n\" style=\"fill:none;stroke:#000000;stroke-linecap:square;stroke-linejoin:miter;stroke-width:0.8;\"/>\r\n   </g>\r\n   <g id=\"patch_6\">\r\n    <path d=\"M 44.18125 7.2 \r\nL 378.98125 7.2 \r\n\" style=\"fill:none;stroke:#000000;stroke-linecap:square;stroke-linejoin:miter;stroke-width:0.8;\"/>\r\n   </g>\r\n  </g>\r\n </g>\r\n <defs>\r\n  <clipPath id=\"pa3508149da\">\r\n   <rect height=\"217.44\" width=\"334.8\" x=\"44.18125\" y=\"7.2\"/>\r\n  </clipPath>\r\n </defs>\r\n</svg>\r\n",
            "image/png": "[encoded data removed]"
          },
          "metadata": {
            "needs_background": "light"
          }
        }
      ]
    },
    {
      "cell_type": "markdown",
      "metadata": {
        "id": "lWvOc06XDezX"
      },
      "source": [
        "Interpretation :\n",
        "Jusqu'a un certain stade, le rappel ne modifie pas la précision. A partir d'un valeur de rappel de 0.6, on constate une grosse influence de ce dernier sur la precision\n",
        "## Courbe ROC"
      ]
    },
    {
      "cell_type": "code",
      "metadata": {
        "colab": {
          "base_uri": "https://localhost:8080/",
          "height": 279
        },
        "id": "X_PAqaPNDezX",
        "outputId": "351a255e-8d1a-4ef7-84bb-ea54f0c28aa5"
      },
      "source": [
        "tfp, tvp, thresholds = roc_curve(y_train_5, y_pred)\n",
        "plt.plot(tfp,tvp)\n",
        "plt.xlabel(\"Taux de faux positif\")\n",
        "plt.ylabel(\"Taux de vrai positif\")\n",
        "plt.grid()"
      ],
      "execution_count": 21,
      "outputs": [
        {
          "output_type": "display_data",
          "data": {
            "text/plain": "<Figure size 432x288 with 1 Axes>",
            "image/svg+xml": "<?xml version=\"1.0\" encoding=\"utf-8\" standalone=\"no\"?>\r\n<!DOCTYPE svg PUBLIC \"-//W3C//DTD SVG 1.1//EN\"\r\n  \"http://www.w3.org/Graphics/SVG/1.1/DTD/svg11.dtd\">\r\n<!-- Created with matplotlib (https://matplotlib.org/) -->\r\n<svg height=\"262.19625pt\" version=\"1.1\" viewBox=\"0 0 385.78125 262.19625\" width=\"385.78125pt\" xmlns=\"http://www.w3.org/2000/svg\" xmlns:xlink=\"http://www.w3.org/1999/xlink\">\r\n <defs>\r\n  <style type=\"text/css\">\r\n*{stroke-linecap:butt;stroke-linejoin:round;}\r\n  </style>\r\n </defs>\r\n <g id=\"figure_1\">\r\n  <g id=\"patch_1\">\r\n   <path d=\"M 0 262.19625 \r\nL 385.78125 262.19625 \r\nL 385.78125 0 \r\nL 0 0 \r\nz\r\n\" style=\"fill:none;\"/>\r\n  </g>\r\n  <g id=\"axes_1\">\r\n   <g id=\"patch_2\">\r\n    <path d=\"M 43.78125 224.64 \r\nL 378.58125 224.64 \r\nL 378.58125 7.2 \r\nL 43.78125 7.2 \r\nz\r\n\" style=\"fill:#ffffff;\"/>\r\n   </g>\r\n   <g id=\"matplotlib.axis_1\">\r\n    <g id=\"xtick_1\">\r\n     <g id=\"line2d_1\">\r\n      <path clip-path=\"url(#p4bc15ce474)\" d=\"M 58.999432 224.64 \r\nL 58.999432 7.2 \r\n\" style=\"fill:none;stroke:#b0b0b0;stroke-linecap:square;stroke-width:0.8;\"/>\r\n     </g>\r\n     <g id=\"line2d_2\">\r\n      <defs>\r\n       <path d=\"M 0 0 \r\nL 0 3.5 \r\n\" id=\"maf5f66bffd\" style=\"stroke:#000000;stroke-width:0.8;\"/>\r\n      </defs>\r\n      <g>\r\n       <use style=\"stroke:#000000;stroke-width:0.8;\" x=\"58.999432\" xlink:href=\"#maf5f66bffd\" y=\"224.64\"/>\r\n      </g>\r\n     </g>\r\n     <g id=\"text_1\">\r\n      <!-- 0.0 -->\r\n      <defs>\r\n       <path d=\"M 31.78125 66.40625 \r\nQ 24.171875 66.40625 20.328125 58.90625 \r\nQ 16.5 51.421875 16.5 36.375 \r\nQ 16.5 21.390625 20.328125 13.890625 \r\nQ 24.171875 6.390625 31.78125 6.390625 \r\nQ 39.453125 6.390625 43.28125 13.890625 \r\nQ 47.125 21.390625 47.125 36.375 \r\nQ 47.125 51.421875 43.28125 58.90625 \r\nQ 39.453125 66.40625 31.78125 66.40625 \r\nz\r\nM 31.78125 74.21875 \r\nQ 44.046875 74.21875 50.515625 64.515625 \r\nQ 56.984375 54.828125 56.984375 36.375 \r\nQ 56.984375 17.96875 50.515625 8.265625 \r\nQ 44.046875 -1.421875 31.78125 -1.421875 \r\nQ 19.53125 -1.421875 13.0625 8.265625 \r\nQ 6.59375 17.96875 6.59375 36.375 \r\nQ 6.59375 54.828125 13.0625 64.515625 \r\nQ 19.53125 74.21875 31.78125 74.21875 \r\nz\r\n\" id=\"DejaVuSans-48\"/>\r\n       <path d=\"M 10.6875 12.40625 \r\nL 21 12.40625 \r\nL 21 0 \r\nL 10.6875 0 \r\nz\r\n\" id=\"DejaVuSans-46\"/>\r\n      </defs>\r\n      <g transform=\"translate(51.047869 239.238437)scale(0.1 -0.1)\">\r\n       <use xlink:href=\"#DejaVuSans-48\"/>\r\n       <use x=\"63.623047\" xlink:href=\"#DejaVuSans-46\"/>\r\n       <use x=\"95.410156\" xlink:href=\"#DejaVuSans-48\"/>\r\n      </g>\r\n     </g>\r\n    </g>\r\n    <g id=\"xtick_2\">\r\n     <g id=\"line2d_3\">\r\n      <path clip-path=\"url(#p4bc15ce474)\" d=\"M 119.872159 224.64 \r\nL 119.872159 7.2 \r\n\" style=\"fill:none;stroke:#b0b0b0;stroke-linecap:square;stroke-width:0.8;\"/>\r\n     </g>\r\n     <g id=\"line2d_4\">\r\n      <g>\r\n       <use style=\"stroke:#000000;stroke-width:0.8;\" x=\"119.872159\" xlink:href=\"#maf5f66bffd\" y=\"224.64\"/>\r\n      </g>\r\n     </g>\r\n     <g id=\"text_2\">\r\n      <!-- 0.2 -->\r\n      <defs>\r\n       <path d=\"M 19.1875 8.296875 \r\nL 53.609375 8.296875 \r\nL 53.609375 0 \r\nL 7.328125 0 \r\nL 7.328125 8.296875 \r\nQ 12.9375 14.109375 22.625 23.890625 \r\nQ 32.328125 33.6875 34.8125 36.53125 \r\nQ 39.546875 41.84375 41.421875 45.53125 \r\nQ 43.3125 49.21875 43.3125 52.78125 \r\nQ 43.3125 58.59375 39.234375 62.25 \r\nQ 35.15625 65.921875 28.609375 65.921875 \r\nQ 23.96875 65.921875 18.8125 64.3125 \r\nQ 13.671875 62.703125 7.8125 59.421875 \r\nL 7.8125 69.390625 \r\nQ 13.765625 71.78125 18.9375 73 \r\nQ 24.125 74.21875 28.421875 74.21875 \r\nQ 39.75 74.21875 46.484375 68.546875 \r\nQ 53.21875 62.890625 53.21875 53.421875 \r\nQ 53.21875 48.921875 51.53125 44.890625 \r\nQ 49.859375 40.875 45.40625 35.40625 \r\nQ 44.1875 33.984375 37.640625 27.21875 \r\nQ 31.109375 20.453125 19.1875 8.296875 \r\nz\r\n\" id=\"DejaVuSans-50\"/>\r\n      </defs>\r\n      <g transform=\"translate(111.920597 239.238437)scale(0.1 -0.1)\">\r\n       <use xlink:href=\"#DejaVuSans-48\"/>\r\n       <use x=\"63.623047\" xlink:href=\"#DejaVuSans-46\"/>\r\n       <use x=\"95.410156\" xlink:href=\"#DejaVuSans-50\"/>\r\n      </g>\r\n     </g>\r\n    </g>\r\n    <g id=\"xtick_3\">\r\n     <g id=\"line2d_5\">\r\n      <path clip-path=\"url(#p4bc15ce474)\" d=\"M 180.744886 224.64 \r\nL 180.744886 7.2 \r\n\" style=\"fill:none;stroke:#b0b0b0;stroke-linecap:square;stroke-width:0.8;\"/>\r\n     </g>\r\n     <g id=\"line2d_6\">\r\n      <g>\r\n       <use style=\"stroke:#000000;stroke-width:0.8;\" x=\"180.744886\" xlink:href=\"#maf5f66bffd\" y=\"224.64\"/>\r\n      </g>\r\n     </g>\r\n     <g id=\"text_3\">\r\n      <!-- 0.4 -->\r\n      <defs>\r\n       <path d=\"M 37.796875 64.3125 \r\nL 12.890625 25.390625 \r\nL 37.796875 25.390625 \r\nz\r\nM 35.203125 72.90625 \r\nL 47.609375 72.90625 \r\nL 47.609375 25.390625 \r\nL 58.015625 25.390625 \r\nL 58.015625 17.1875 \r\nL 47.609375 17.1875 \r\nL 47.609375 0 \r\nL 37.796875 0 \r\nL 37.796875 17.1875 \r\nL 4.890625 17.1875 \r\nL 4.890625 26.703125 \r\nz\r\n\" id=\"DejaVuSans-52\"/>\r\n      </defs>\r\n      <g transform=\"translate(172.793324 239.238437)scale(0.1 -0.1)\">\r\n       <use xlink:href=\"#DejaVuSans-48\"/>\r\n       <use x=\"63.623047\" xlink:href=\"#DejaVuSans-46\"/>\r\n       <use x=\"95.410156\" xlink:href=\"#DejaVuSans-52\"/>\r\n      </g>\r\n     </g>\r\n    </g>\r\n    <g id=\"xtick_4\">\r\n     <g id=\"line2d_7\">\r\n      <path clip-path=\"url(#p4bc15ce474)\" d=\"M 241.617614 224.64 \r\nL 241.617614 7.2 \r\n\" style=\"fill:none;stroke:#b0b0b0;stroke-linecap:square;stroke-width:0.8;\"/>\r\n     </g>\r\n     <g id=\"line2d_8\">\r\n      <g>\r\n       <use style=\"stroke:#000000;stroke-width:0.8;\" x=\"241.617614\" xlink:href=\"#maf5f66bffd\" y=\"224.64\"/>\r\n      </g>\r\n     </g>\r\n     <g id=\"text_4\">\r\n      <!-- 0.6 -->\r\n      <defs>\r\n       <path d=\"M 33.015625 40.375 \r\nQ 26.375 40.375 22.484375 35.828125 \r\nQ 18.609375 31.296875 18.609375 23.390625 \r\nQ 18.609375 15.53125 22.484375 10.953125 \r\nQ 26.375 6.390625 33.015625 6.390625 \r\nQ 39.65625 6.390625 43.53125 10.953125 \r\nQ 47.40625 15.53125 47.40625 23.390625 \r\nQ 47.40625 31.296875 43.53125 35.828125 \r\nQ 39.65625 40.375 33.015625 40.375 \r\nz\r\nM 52.59375 71.296875 \r\nL 52.59375 62.3125 \r\nQ 48.875 64.0625 45.09375 64.984375 \r\nQ 41.3125 65.921875 37.59375 65.921875 \r\nQ 27.828125 65.921875 22.671875 59.328125 \r\nQ 17.53125 52.734375 16.796875 39.40625 \r\nQ 19.671875 43.65625 24.015625 45.921875 \r\nQ 28.375 48.1875 33.59375 48.1875 \r\nQ 44.578125 48.1875 50.953125 41.515625 \r\nQ 57.328125 34.859375 57.328125 23.390625 \r\nQ 57.328125 12.15625 50.6875 5.359375 \r\nQ 44.046875 -1.421875 33.015625 -1.421875 \r\nQ 20.359375 -1.421875 13.671875 8.265625 \r\nQ 6.984375 17.96875 6.984375 36.375 \r\nQ 6.984375 53.65625 15.1875 63.9375 \r\nQ 23.390625 74.21875 37.203125 74.21875 \r\nQ 40.921875 74.21875 44.703125 73.484375 \r\nQ 48.484375 72.75 52.59375 71.296875 \r\nz\r\n\" id=\"DejaVuSans-54\"/>\r\n      </defs>\r\n      <g transform=\"translate(233.666051 239.238437)scale(0.1 -0.1)\">\r\n       <use xlink:href=\"#DejaVuSans-48\"/>\r\n       <use x=\"63.623047\" xlink:href=\"#DejaVuSans-46\"/>\r\n       <use x=\"95.410156\" xlink:href=\"#DejaVuSans-54\"/>\r\n      </g>\r\n     </g>\r\n    </g>\r\n    <g id=\"xtick_5\">\r\n     <g id=\"line2d_9\">\r\n      <path clip-path=\"url(#p4bc15ce474)\" d=\"M 302.490341 224.64 \r\nL 302.490341 7.2 \r\n\" style=\"fill:none;stroke:#b0b0b0;stroke-linecap:square;stroke-width:0.8;\"/>\r\n     </g>\r\n     <g id=\"line2d_10\">\r\n      <g>\r\n       <use style=\"stroke:#000000;stroke-width:0.8;\" x=\"302.490341\" xlink:href=\"#maf5f66bffd\" y=\"224.64\"/>\r\n      </g>\r\n     </g>\r\n     <g id=\"text_5\">\r\n      <!-- 0.8 -->\r\n      <defs>\r\n       <path d=\"M 31.78125 34.625 \r\nQ 24.75 34.625 20.71875 30.859375 \r\nQ 16.703125 27.09375 16.703125 20.515625 \r\nQ 16.703125 13.921875 20.71875 10.15625 \r\nQ 24.75 6.390625 31.78125 6.390625 \r\nQ 38.8125 6.390625 42.859375 10.171875 \r\nQ 46.921875 13.96875 46.921875 20.515625 \r\nQ 46.921875 27.09375 42.890625 30.859375 \r\nQ 38.875 34.625 31.78125 34.625 \r\nz\r\nM 21.921875 38.8125 \r\nQ 15.578125 40.375 12.03125 44.71875 \r\nQ 8.5 49.078125 8.5 55.328125 \r\nQ 8.5 64.0625 14.71875 69.140625 \r\nQ 20.953125 74.21875 31.78125 74.21875 \r\nQ 42.671875 74.21875 48.875 69.140625 \r\nQ 55.078125 64.0625 55.078125 55.328125 \r\nQ 55.078125 49.078125 51.53125 44.71875 \r\nQ 48 40.375 41.703125 38.8125 \r\nQ 48.828125 37.15625 52.796875 32.3125 \r\nQ 56.78125 27.484375 56.78125 20.515625 \r\nQ 56.78125 9.90625 50.3125 4.234375 \r\nQ 43.84375 -1.421875 31.78125 -1.421875 \r\nQ 19.734375 -1.421875 13.25 4.234375 \r\nQ 6.78125 9.90625 6.78125 20.515625 \r\nQ 6.78125 27.484375 10.78125 32.3125 \r\nQ 14.796875 37.15625 21.921875 38.8125 \r\nz\r\nM 18.3125 54.390625 \r\nQ 18.3125 48.734375 21.84375 45.5625 \r\nQ 25.390625 42.390625 31.78125 42.390625 \r\nQ 38.140625 42.390625 41.71875 45.5625 \r\nQ 45.3125 48.734375 45.3125 54.390625 \r\nQ 45.3125 60.0625 41.71875 63.234375 \r\nQ 38.140625 66.40625 31.78125 66.40625 \r\nQ 25.390625 66.40625 21.84375 63.234375 \r\nQ 18.3125 60.0625 18.3125 54.390625 \r\nz\r\n\" id=\"DejaVuSans-56\"/>\r\n      </defs>\r\n      <g transform=\"translate(294.538778 239.238437)scale(0.1 -0.1)\">\r\n       <use xlink:href=\"#DejaVuSans-48\"/>\r\n       <use x=\"63.623047\" xlink:href=\"#DejaVuSans-46\"/>\r\n       <use x=\"95.410156\" xlink:href=\"#DejaVuSans-56\"/>\r\n      </g>\r\n     </g>\r\n    </g>\r\n    <g id=\"xtick_6\">\r\n     <g id=\"line2d_11\">\r\n      <path clip-path=\"url(#p4bc15ce474)\" d=\"M 363.363068 224.64 \r\nL 363.363068 7.2 \r\n\" style=\"fill:none;stroke:#b0b0b0;stroke-linecap:square;stroke-width:0.8;\"/>\r\n     </g>\r\n     <g id=\"line2d_12\">\r\n      <g>\r\n       <use style=\"stroke:#000000;stroke-width:0.8;\" x=\"363.363068\" xlink:href=\"#maf5f66bffd\" y=\"224.64\"/>\r\n      </g>\r\n     </g>\r\n     <g id=\"text_6\">\r\n      <!-- 1.0 -->\r\n      <defs>\r\n       <path d=\"M 12.40625 8.296875 \r\nL 28.515625 8.296875 \r\nL 28.515625 63.921875 \r\nL 10.984375 60.40625 \r\nL 10.984375 69.390625 \r\nL 28.421875 72.90625 \r\nL 38.28125 72.90625 \r\nL 38.28125 8.296875 \r\nL 54.390625 8.296875 \r\nL 54.390625 0 \r\nL 12.40625 0 \r\nz\r\n\" id=\"DejaVuSans-49\"/>\r\n      </defs>\r\n      <g transform=\"translate(355.411506 239.238437)scale(0.1 -0.1)\">\r\n       <use xlink:href=\"#DejaVuSans-49\"/>\r\n       <use x=\"63.623047\" xlink:href=\"#DejaVuSans-46\"/>\r\n       <use x=\"95.410156\" xlink:href=\"#DejaVuSans-48\"/>\r\n      </g>\r\n     </g>\r\n    </g>\r\n    <g id=\"text_7\">\r\n     <!-- Taux de faux positif -->\r\n     <defs>\r\n      <path d=\"M -0.296875 72.90625 \r\nL 61.375 72.90625 \r\nL 61.375 64.59375 \r\nL 35.5 64.59375 \r\nL 35.5 0 \r\nL 25.59375 0 \r\nL 25.59375 64.59375 \r\nL -0.296875 64.59375 \r\nz\r\n\" id=\"DejaVuSans-84\"/>\r\n      <path d=\"M 34.28125 27.484375 \r\nQ 23.390625 27.484375 19.1875 25 \r\nQ 14.984375 22.515625 14.984375 16.5 \r\nQ 14.984375 11.71875 18.140625 8.90625 \r\nQ 21.296875 6.109375 26.703125 6.109375 \r\nQ 34.1875 6.109375 38.703125 11.40625 \r\nQ 43.21875 16.703125 43.21875 25.484375 \r\nL 43.21875 27.484375 \r\nz\r\nM 52.203125 31.203125 \r\nL 52.203125 0 \r\nL 43.21875 0 \r\nL 43.21875 8.296875 \r\nQ 40.140625 3.328125 35.546875 0.953125 \r\nQ 30.953125 -1.421875 24.3125 -1.421875 \r\nQ 15.921875 -1.421875 10.953125 3.296875 \r\nQ 6 8.015625 6 15.921875 \r\nQ 6 25.140625 12.171875 29.828125 \r\nQ 18.359375 34.515625 30.609375 34.515625 \r\nL 43.21875 34.515625 \r\nL 43.21875 35.40625 \r\nQ 43.21875 41.609375 39.140625 45 \r\nQ 35.0625 48.390625 27.6875 48.390625 \r\nQ 23 48.390625 18.546875 47.265625 \r\nQ 14.109375 46.140625 10.015625 43.890625 \r\nL 10.015625 52.203125 \r\nQ 14.9375 54.109375 19.578125 55.046875 \r\nQ 24.21875 56 28.609375 56 \r\nQ 40.484375 56 46.34375 49.84375 \r\nQ 52.203125 43.703125 52.203125 31.203125 \r\nz\r\n\" id=\"DejaVuSans-97\"/>\r\n      <path d=\"M 8.5 21.578125 \r\nL 8.5 54.6875 \r\nL 17.484375 54.6875 \r\nL 17.484375 21.921875 \r\nQ 17.484375 14.15625 20.5 10.265625 \r\nQ 23.53125 6.390625 29.59375 6.390625 \r\nQ 36.859375 6.390625 41.078125 11.03125 \r\nQ 45.3125 15.671875 45.3125 23.6875 \r\nL 45.3125 54.6875 \r\nL 54.296875 54.6875 \r\nL 54.296875 0 \r\nL 45.3125 0 \r\nL 45.3125 8.40625 \r\nQ 42.046875 3.421875 37.71875 1 \r\nQ 33.40625 -1.421875 27.6875 -1.421875 \r\nQ 18.265625 -1.421875 13.375 4.4375 \r\nQ 8.5 10.296875 8.5 21.578125 \r\nz\r\nM 31.109375 56 \r\nz\r\n\" id=\"DejaVuSans-117\"/>\r\n      <path d=\"M 54.890625 54.6875 \r\nL 35.109375 28.078125 \r\nL 55.90625 0 \r\nL 45.3125 0 \r\nL 29.390625 21.484375 \r\nL 13.484375 0 \r\nL 2.875 0 \r\nL 24.125 28.609375 \r\nL 4.6875 54.6875 \r\nL 15.28125 54.6875 \r\nL 29.78125 35.203125 \r\nL 44.28125 54.6875 \r\nz\r\n\" id=\"DejaVuSans-120\"/>\r\n      <path id=\"DejaVuSans-32\"/>\r\n      <path d=\"M 45.40625 46.390625 \r\nL 45.40625 75.984375 \r\nL 54.390625 75.984375 \r\nL 54.390625 0 \r\nL 45.40625 0 \r\nL 45.40625 8.203125 \r\nQ 42.578125 3.328125 38.25 0.953125 \r\nQ 33.9375 -1.421875 27.875 -1.421875 \r\nQ 17.96875 -1.421875 11.734375 6.484375 \r\nQ 5.515625 14.40625 5.515625 27.296875 \r\nQ 5.515625 40.1875 11.734375 48.09375 \r\nQ 17.96875 56 27.875 56 \r\nQ 33.9375 56 38.25 53.625 \r\nQ 42.578125 51.265625 45.40625 46.390625 \r\nz\r\nM 14.796875 27.296875 \r\nQ 14.796875 17.390625 18.875 11.75 \r\nQ 22.953125 6.109375 30.078125 6.109375 \r\nQ 37.203125 6.109375 41.296875 11.75 \r\nQ 45.40625 17.390625 45.40625 27.296875 \r\nQ 45.40625 37.203125 41.296875 42.84375 \r\nQ 37.203125 48.484375 30.078125 48.484375 \r\nQ 22.953125 48.484375 18.875 42.84375 \r\nQ 14.796875 37.203125 14.796875 27.296875 \r\nz\r\n\" id=\"DejaVuSans-100\"/>\r\n      <path d=\"M 56.203125 29.59375 \r\nL 56.203125 25.203125 \r\nL 14.890625 25.203125 \r\nQ 15.484375 15.921875 20.484375 11.0625 \r\nQ 25.484375 6.203125 34.421875 6.203125 \r\nQ 39.59375 6.203125 44.453125 7.46875 \r\nQ 49.3125 8.734375 54.109375 11.28125 \r\nL 54.109375 2.78125 \r\nQ 49.265625 0.734375 44.1875 -0.34375 \r\nQ 39.109375 -1.421875 33.890625 -1.421875 \r\nQ 20.796875 -1.421875 13.15625 6.1875 \r\nQ 5.515625 13.8125 5.515625 26.8125 \r\nQ 5.515625 40.234375 12.765625 48.109375 \r\nQ 20.015625 56 32.328125 56 \r\nQ 43.359375 56 49.78125 48.890625 \r\nQ 56.203125 41.796875 56.203125 29.59375 \r\nz\r\nM 47.21875 32.234375 \r\nQ 47.125 39.59375 43.09375 43.984375 \r\nQ 39.0625 48.390625 32.421875 48.390625 \r\nQ 24.90625 48.390625 20.390625 44.140625 \r\nQ 15.875 39.890625 15.1875 32.171875 \r\nz\r\n\" id=\"DejaVuSans-101\"/>\r\n      <path d=\"M 37.109375 75.984375 \r\nL 37.109375 68.5 \r\nL 28.515625 68.5 \r\nQ 23.6875 68.5 21.796875 66.546875 \r\nQ 19.921875 64.59375 19.921875 59.515625 \r\nL 19.921875 54.6875 \r\nL 34.71875 54.6875 \r\nL 34.71875 47.703125 \r\nL 19.921875 47.703125 \r\nL 19.921875 0 \r\nL 10.890625 0 \r\nL 10.890625 47.703125 \r\nL 2.296875 47.703125 \r\nL 2.296875 54.6875 \r\nL 10.890625 54.6875 \r\nL 10.890625 58.5 \r\nQ 10.890625 67.625 15.140625 71.796875 \r\nQ 19.390625 75.984375 28.609375 75.984375 \r\nz\r\n\" id=\"DejaVuSans-102\"/>\r\n      <path d=\"M 18.109375 8.203125 \r\nL 18.109375 -20.796875 \r\nL 9.078125 -20.796875 \r\nL 9.078125 54.6875 \r\nL 18.109375 54.6875 \r\nL 18.109375 46.390625 \r\nQ 20.953125 51.265625 25.265625 53.625 \r\nQ 29.59375 56 35.59375 56 \r\nQ 45.5625 56 51.78125 48.09375 \r\nQ 58.015625 40.1875 58.015625 27.296875 \r\nQ 58.015625 14.40625 51.78125 6.484375 \r\nQ 45.5625 -1.421875 35.59375 -1.421875 \r\nQ 29.59375 -1.421875 25.265625 0.953125 \r\nQ 20.953125 3.328125 18.109375 8.203125 \r\nz\r\nM 48.6875 27.296875 \r\nQ 48.6875 37.203125 44.609375 42.84375 \r\nQ 40.53125 48.484375 33.40625 48.484375 \r\nQ 26.265625 48.484375 22.1875 42.84375 \r\nQ 18.109375 37.203125 18.109375 27.296875 \r\nQ 18.109375 17.390625 22.1875 11.75 \r\nQ 26.265625 6.109375 33.40625 6.109375 \r\nQ 40.53125 6.109375 44.609375 11.75 \r\nQ 48.6875 17.390625 48.6875 27.296875 \r\nz\r\n\" id=\"DejaVuSans-112\"/>\r\n      <path d=\"M 30.609375 48.390625 \r\nQ 23.390625 48.390625 19.1875 42.75 \r\nQ 14.984375 37.109375 14.984375 27.296875 \r\nQ 14.984375 17.484375 19.15625 11.84375 \r\nQ 23.34375 6.203125 30.609375 6.203125 \r\nQ 37.796875 6.203125 41.984375 11.859375 \r\nQ 46.1875 17.53125 46.1875 27.296875 \r\nQ 46.1875 37.015625 41.984375 42.703125 \r\nQ 37.796875 48.390625 30.609375 48.390625 \r\nz\r\nM 30.609375 56 \r\nQ 42.328125 56 49.015625 48.375 \r\nQ 55.71875 40.765625 55.71875 27.296875 \r\nQ 55.71875 13.875 49.015625 6.21875 \r\nQ 42.328125 -1.421875 30.609375 -1.421875 \r\nQ 18.84375 -1.421875 12.171875 6.21875 \r\nQ 5.515625 13.875 5.515625 27.296875 \r\nQ 5.515625 40.765625 12.171875 48.375 \r\nQ 18.84375 56 30.609375 56 \r\nz\r\n\" id=\"DejaVuSans-111\"/>\r\n      <path d=\"M 44.28125 53.078125 \r\nL 44.28125 44.578125 \r\nQ 40.484375 46.53125 36.375 47.5 \r\nQ 32.28125 48.484375 27.875 48.484375 \r\nQ 21.1875 48.484375 17.84375 46.4375 \r\nQ 14.5 44.390625 14.5 40.28125 \r\nQ 14.5 37.15625 16.890625 35.375 \r\nQ 19.28125 33.59375 26.515625 31.984375 \r\nL 29.59375 31.296875 \r\nQ 39.15625 29.25 43.1875 25.515625 \r\nQ 47.21875 21.78125 47.21875 15.09375 \r\nQ 47.21875 7.46875 41.1875 3.015625 \r\nQ 35.15625 -1.421875 24.609375 -1.421875 \r\nQ 20.21875 -1.421875 15.453125 -0.5625 \r\nQ 10.6875 0.296875 5.421875 2 \r\nL 5.421875 11.28125 \r\nQ 10.40625 8.6875 15.234375 7.390625 \r\nQ 20.0625 6.109375 24.8125 6.109375 \r\nQ 31.15625 6.109375 34.5625 8.28125 \r\nQ 37.984375 10.453125 37.984375 14.40625 \r\nQ 37.984375 18.0625 35.515625 20.015625 \r\nQ 33.0625 21.96875 24.703125 23.78125 \r\nL 21.578125 24.515625 \r\nQ 13.234375 26.265625 9.515625 29.90625 \r\nQ 5.8125 33.546875 5.8125 39.890625 \r\nQ 5.8125 47.609375 11.28125 51.796875 \r\nQ 16.75 56 26.8125 56 \r\nQ 31.78125 56 36.171875 55.265625 \r\nQ 40.578125 54.546875 44.28125 53.078125 \r\nz\r\n\" id=\"DejaVuSans-115\"/>\r\n      <path d=\"M 9.421875 54.6875 \r\nL 18.40625 54.6875 \r\nL 18.40625 0 \r\nL 9.421875 0 \r\nz\r\nM 9.421875 75.984375 \r\nL 18.40625 75.984375 \r\nL 18.40625 64.59375 \r\nL 9.421875 64.59375 \r\nz\r\n\" id=\"DejaVuSans-105\"/>\r\n      <path d=\"M 18.3125 70.21875 \r\nL 18.3125 54.6875 \r\nL 36.8125 54.6875 \r\nL 36.8125 47.703125 \r\nL 18.3125 47.703125 \r\nL 18.3125 18.015625 \r\nQ 18.3125 11.328125 20.140625 9.421875 \r\nQ 21.96875 7.515625 27.59375 7.515625 \r\nL 36.8125 7.515625 \r\nL 36.8125 0 \r\nL 27.59375 0 \r\nQ 17.1875 0 13.234375 3.875 \r\nQ 9.28125 7.765625 9.28125 18.015625 \r\nL 9.28125 47.703125 \r\nL 2.6875 47.703125 \r\nL 2.6875 54.6875 \r\nL 9.28125 54.6875 \r\nL 9.28125 70.21875 \r\nz\r\n\" id=\"DejaVuSans-116\"/>\r\n     </defs>\r\n     <g transform=\"translate(162.453125 252.916562)scale(0.1 -0.1)\">\r\n      <use xlink:href=\"#DejaVuSans-84\"/>\r\n      <use x=\"44.583984\" xlink:href=\"#DejaVuSans-97\"/>\r\n      <use x=\"105.863281\" xlink:href=\"#DejaVuSans-117\"/>\r\n      <use x=\"169.242188\" xlink:href=\"#DejaVuSans-120\"/>\r\n      <use x=\"228.421875\" xlink:href=\"#DejaVuSans-32\"/>\r\n      <use x=\"260.208984\" xlink:href=\"#DejaVuSans-100\"/>\r\n      <use x=\"323.685547\" xlink:href=\"#DejaVuSans-101\"/>\r\n      <use x=\"385.208984\" xlink:href=\"#DejaVuSans-32\"/>\r\n      <use x=\"416.996094\" xlink:href=\"#DejaVuSans-102\"/>\r\n      <use x=\"452.201172\" xlink:href=\"#DejaVuSans-97\"/>\r\n      <use x=\"513.480469\" xlink:href=\"#DejaVuSans-117\"/>\r\n      <use x=\"576.859375\" xlink:href=\"#DejaVuSans-120\"/>\r\n      <use x=\"636.039062\" xlink:href=\"#DejaVuSans-32\"/>\r\n      <use x=\"667.826172\" xlink:href=\"#DejaVuSans-112\"/>\r\n      <use x=\"731.302734\" xlink:href=\"#DejaVuSans-111\"/>\r\n      <use x=\"792.484375\" xlink:href=\"#DejaVuSans-115\"/>\r\n      <use x=\"844.583984\" xlink:href=\"#DejaVuSans-105\"/>\r\n      <use x=\"872.367188\" xlink:href=\"#DejaVuSans-116\"/>\r\n      <use x=\"911.576172\" xlink:href=\"#DejaVuSans-105\"/>\r\n      <use x=\"939.359375\" xlink:href=\"#DejaVuSans-102\"/>\r\n     </g>\r\n    </g>\r\n   </g>\r\n   <g id=\"matplotlib.axis_2\">\r\n    <g id=\"ytick_1\">\r\n     <g id=\"line2d_13\">\r\n      <path clip-path=\"url(#p4bc15ce474)\" d=\"M 43.78125 214.756364 \r\nL 378.58125 214.756364 \r\n\" style=\"fill:none;stroke:#b0b0b0;stroke-linecap:square;stroke-width:0.8;\"/>\r\n     </g>\r\n     <g id=\"line2d_14\">\r\n      <defs>\r\n       <path d=\"M 0 0 \r\nL -3.5 0 \r\n\" id=\"mfde69f3030\" style=\"stroke:#000000;stroke-width:0.8;\"/>\r\n      </defs>\r\n      <g>\r\n       <use style=\"stroke:#000000;stroke-width:0.8;\" x=\"43.78125\" xlink:href=\"#mfde69f3030\" y=\"214.756364\"/>\r\n      </g>\r\n     </g>\r\n     <g id=\"text_8\">\r\n      <!-- 0.0 -->\r\n      <g transform=\"translate(20.878125 218.555582)scale(0.1 -0.1)\">\r\n       <use xlink:href=\"#DejaVuSans-48\"/>\r\n       <use x=\"63.623047\" xlink:href=\"#DejaVuSans-46\"/>\r\n       <use x=\"95.410156\" xlink:href=\"#DejaVuSans-48\"/>\r\n      </g>\r\n     </g>\r\n    </g>\r\n    <g id=\"ytick_2\">\r\n     <g id=\"line2d_15\">\r\n      <path clip-path=\"url(#p4bc15ce474)\" d=\"M 43.78125 175.221818 \r\nL 378.58125 175.221818 \r\n\" style=\"fill:none;stroke:#b0b0b0;stroke-linecap:square;stroke-width:0.8;\"/>\r\n     </g>\r\n     <g id=\"line2d_16\">\r\n      <g>\r\n       <use style=\"stroke:#000000;stroke-width:0.8;\" x=\"43.78125\" xlink:href=\"#mfde69f3030\" y=\"175.221818\"/>\r\n      </g>\r\n     </g>\r\n     <g id=\"text_9\">\r\n      <!-- 0.2 -->\r\n      <g transform=\"translate(20.878125 179.021037)scale(0.1 -0.1)\">\r\n       <use xlink:href=\"#DejaVuSans-48\"/>\r\n       <use x=\"63.623047\" xlink:href=\"#DejaVuSans-46\"/>\r\n       <use x=\"95.410156\" xlink:href=\"#DejaVuSans-50\"/>\r\n      </g>\r\n     </g>\r\n    </g>\r\n    <g id=\"ytick_3\">\r\n     <g id=\"line2d_17\">\r\n      <path clip-path=\"url(#p4bc15ce474)\" d=\"M 43.78125 135.687273 \r\nL 378.58125 135.687273 \r\n\" style=\"fill:none;stroke:#b0b0b0;stroke-linecap:square;stroke-width:0.8;\"/>\r\n     </g>\r\n     <g id=\"line2d_18\">\r\n      <g>\r\n       <use style=\"stroke:#000000;stroke-width:0.8;\" x=\"43.78125\" xlink:href=\"#mfde69f3030\" y=\"135.687273\"/>\r\n      </g>\r\n     </g>\r\n     <g id=\"text_10\">\r\n      <!-- 0.4 -->\r\n      <g transform=\"translate(20.878125 139.486491)scale(0.1 -0.1)\">\r\n       <use xlink:href=\"#DejaVuSans-48\"/>\r\n       <use x=\"63.623047\" xlink:href=\"#DejaVuSans-46\"/>\r\n       <use x=\"95.410156\" xlink:href=\"#DejaVuSans-52\"/>\r\n      </g>\r\n     </g>\r\n    </g>\r\n    <g id=\"ytick_4\">\r\n     <g id=\"line2d_19\">\r\n      <path clip-path=\"url(#p4bc15ce474)\" d=\"M 43.78125 96.152727 \r\nL 378.58125 96.152727 \r\n\" style=\"fill:none;stroke:#b0b0b0;stroke-linecap:square;stroke-width:0.8;\"/>\r\n     </g>\r\n     <g id=\"line2d_20\">\r\n      <g>\r\n       <use style=\"stroke:#000000;stroke-width:0.8;\" x=\"43.78125\" xlink:href=\"#mfde69f3030\" y=\"96.152727\"/>\r\n      </g>\r\n     </g>\r\n     <g id=\"text_11\">\r\n      <!-- 0.6 -->\r\n      <g transform=\"translate(20.878125 99.951946)scale(0.1 -0.1)\">\r\n       <use xlink:href=\"#DejaVuSans-48\"/>\r\n       <use x=\"63.623047\" xlink:href=\"#DejaVuSans-46\"/>\r\n       <use x=\"95.410156\" xlink:href=\"#DejaVuSans-54\"/>\r\n      </g>\r\n     </g>\r\n    </g>\r\n    <g id=\"ytick_5\">\r\n     <g id=\"line2d_21\">\r\n      <path clip-path=\"url(#p4bc15ce474)\" d=\"M 43.78125 56.618182 \r\nL 378.58125 56.618182 \r\n\" style=\"fill:none;stroke:#b0b0b0;stroke-linecap:square;stroke-width:0.8;\"/>\r\n     </g>\r\n     <g id=\"line2d_22\">\r\n      <g>\r\n       <use style=\"stroke:#000000;stroke-width:0.8;\" x=\"43.78125\" xlink:href=\"#mfde69f3030\" y=\"56.618182\"/>\r\n      </g>\r\n     </g>\r\n     <g id=\"text_12\">\r\n      <!-- 0.8 -->\r\n      <g transform=\"translate(20.878125 60.417401)scale(0.1 -0.1)\">\r\n       <use xlink:href=\"#DejaVuSans-48\"/>\r\n       <use x=\"63.623047\" xlink:href=\"#DejaVuSans-46\"/>\r\n       <use x=\"95.410156\" xlink:href=\"#DejaVuSans-56\"/>\r\n      </g>\r\n     </g>\r\n    </g>\r\n    <g id=\"ytick_6\">\r\n     <g id=\"line2d_23\">\r\n      <path clip-path=\"url(#p4bc15ce474)\" d=\"M 43.78125 17.083636 \r\nL 378.58125 17.083636 \r\n\" style=\"fill:none;stroke:#b0b0b0;stroke-linecap:square;stroke-width:0.8;\"/>\r\n     </g>\r\n     <g id=\"line2d_24\">\r\n      <g>\r\n       <use style=\"stroke:#000000;stroke-width:0.8;\" x=\"43.78125\" xlink:href=\"#mfde69f3030\" y=\"17.083636\"/>\r\n      </g>\r\n     </g>\r\n     <g id=\"text_13\">\r\n      <!-- 1.0 -->\r\n      <g transform=\"translate(20.878125 20.882855)scale(0.1 -0.1)\">\r\n       <use xlink:href=\"#DejaVuSans-49\"/>\r\n       <use x=\"63.623047\" xlink:href=\"#DejaVuSans-46\"/>\r\n       <use x=\"95.410156\" xlink:href=\"#DejaVuSans-48\"/>\r\n      </g>\r\n     </g>\r\n    </g>\r\n    <g id=\"text_14\">\r\n     <!-- Taux de vrai positif -->\r\n     <defs>\r\n      <path d=\"M 2.984375 54.6875 \r\nL 12.5 54.6875 \r\nL 29.59375 8.796875 \r\nL 46.6875 54.6875 \r\nL 56.203125 54.6875 \r\nL 35.6875 0 \r\nL 23.484375 0 \r\nz\r\n\" id=\"DejaVuSans-118\"/>\r\n      <path d=\"M 41.109375 46.296875 \r\nQ 39.59375 47.171875 37.8125 47.578125 \r\nQ 36.03125 48 33.890625 48 \r\nQ 26.265625 48 22.1875 43.046875 \r\nQ 18.109375 38.09375 18.109375 28.8125 \r\nL 18.109375 0 \r\nL 9.078125 0 \r\nL 9.078125 54.6875 \r\nL 18.109375 54.6875 \r\nL 18.109375 46.1875 \r\nQ 20.953125 51.171875 25.484375 53.578125 \r\nQ 30.03125 56 36.53125 56 \r\nQ 37.453125 56 38.578125 55.875 \r\nQ 39.703125 55.765625 41.0625 55.515625 \r\nz\r\n\" id=\"DejaVuSans-114\"/>\r\n     </defs>\r\n     <g transform=\"translate(14.798438 163.16375)rotate(-90)scale(0.1 -0.1)\">\r\n      <use xlink:href=\"#DejaVuSans-84\"/>\r\n      <use x=\"44.583984\" xlink:href=\"#DejaVuSans-97\"/>\r\n      <use x=\"105.863281\" xlink:href=\"#DejaVuSans-117\"/>\r\n      <use x=\"169.242188\" xlink:href=\"#DejaVuSans-120\"/>\r\n      <use x=\"228.421875\" xlink:href=\"#DejaVuSans-32\"/>\r\n      <use x=\"260.208984\" xlink:href=\"#DejaVuSans-100\"/>\r\n      <use x=\"323.685547\" xlink:href=\"#DejaVuSans-101\"/>\r\n      <use x=\"385.208984\" xlink:href=\"#DejaVuSans-32\"/>\r\n      <use x=\"416.996094\" xlink:href=\"#DejaVuSans-118\"/>\r\n      <use x=\"476.175781\" xlink:href=\"#DejaVuSans-114\"/>\r\n      <use x=\"517.289062\" xlink:href=\"#DejaVuSans-97\"/>\r\n      <use x=\"578.568359\" xlink:href=\"#DejaVuSans-105\"/>\r\n      <use x=\"606.351562\" xlink:href=\"#DejaVuSans-32\"/>\r\n      <use x=\"638.138672\" xlink:href=\"#DejaVuSans-112\"/>\r\n      <use x=\"701.615234\" xlink:href=\"#DejaVuSans-111\"/>\r\n      <use x=\"762.796875\" xlink:href=\"#DejaVuSans-115\"/>\r\n      <use x=\"814.896484\" xlink:href=\"#DejaVuSans-105\"/>\r\n      <use x=\"842.679688\" xlink:href=\"#DejaVuSans-116\"/>\r\n      <use x=\"881.888672\" xlink:href=\"#DejaVuSans-105\"/>\r\n      <use x=\"909.671875\" xlink:href=\"#DejaVuSans-102\"/>\r\n     </g>\r\n    </g>\r\n   </g>\r\n   <g id=\"line2d_25\">\r\n    <path clip-path=\"url(#p4bc15ce474)\" d=\"M 58.999432 214.756364 \r\nL 59.105387 195.722022 \r\nL 59.110963 195.722022 \r\nL 59.216918 176.651217 \r\nL 59.222495 176.651217 \r\nL 59.328449 161.810265 \r\nL 59.339603 161.773801 \r\nL 59.445557 151.381488 \r\nL 59.451134 151.381488 \r\nL 59.557089 143.140566 \r\nL 59.562665 143.140566 \r\nL 59.66862 137.051036 \r\nL 59.679773 136.941643 \r\nL 59.785728 131.909576 \r\nL 59.791305 131.909576 \r\nL 59.89726 125.200153 \r\nL 59.902836 125.200153 \r\nL 60.008791 120.386871 \r\nL 60.014368 120.386871 \r\nL 60.114746 117.105088 \r\nL 60.125899 117.105088 \r\nL 60.231854 113.385734 \r\nL 60.23743 113.385734 \r\nL 60.343385 109.155881 \r\nL 60.365692 109.082952 \r\nL 60.471646 106.822168 \r\nL 60.4828 106.822168 \r\nL 60.588754 104.26967 \r\nL 60.599908 104.160278 \r\nL 60.705862 101.534851 \r\nL 60.711439 101.534851 \r\nL 60.817394 98.763568 \r\nL 60.845277 98.654175 \r\nL 60.951231 96.976819 \r\nL 60.967961 96.867427 \r\nL 61.073916 95.627642 \r\nL 61.079493 95.627642 \r\nL 61.179871 93.913822 \r\nL 61.196601 93.804429 \r\nL 61.296979 91.58011 \r\nL 61.319285 91.507181 \r\nL 61.40851 90.158004 \r\nL 61.430817 90.158004 \r\nL 61.525618 88.407719 \r\nL 61.547924 88.298327 \r\nL 61.653879 86.256328 \r\nL 61.670609 86.1834 \r\nL 61.776564 85.198865 \r\nL 61.793294 85.089472 \r\nL 61.899248 83.630902 \r\nL 61.904825 83.630902 \r\nL 62.01078 82.062939 \r\nL 62.021933 82.026475 \r\nL 62.127888 80.823154 \r\nL 62.150194 80.823154 \r\nL 62.244996 79.83862 \r\nL 62.261726 79.83862 \r\nL 62.362104 78.854085 \r\nL 62.378833 78.854085 \r\nL 62.479212 77.650764 \r\nL 62.490365 77.650764 \r\nL 62.59632 76.520372 \r\nL 62.607473 76.447444 \r\nL 62.702275 75.426445 \r\nL 62.730157 75.317052 \r\nL 62.836112 74.660695 \r\nL 62.858419 74.587767 \r\nL 62.958797 74.004339 \r\nL 62.997833 73.93141 \r\nL 63.103788 73.019804 \r\nL 63.153977 72.910411 \r\nL 63.259932 72.254054 \r\nL 63.298968 72.144662 \r\nL 63.404922 71.123663 \r\nL 63.438382 71.050734 \r\nL 63.544337 70.102663 \r\nL 63.57222 70.102663 \r\nL 63.667021 69.263986 \r\nL 63.683751 69.263986 \r\nL 63.789706 68.060665 \r\nL 63.817589 67.987737 \r\nL 63.923543 67.258451 \r\nL 63.962579 67.185523 \r\nL 64.068534 66.456238 \r\nL 64.113147 66.346845 \r\nL 64.191219 65.654024 \r\nL 64.235831 65.61756 \r\nL 64.330633 65.10706 \r\nL 64.369669 65.034132 \r\nL 64.475624 64.450704 \r\nL 64.509083 64.341311 \r\nL 64.598309 63.210919 \r\nL 64.665227 63.101526 \r\nL 64.760029 62.481634 \r\nL 64.810218 62.372241 \r\nL 64.893867 61.898206 \r\nL 64.971939 61.788813 \r\nL 65.077894 61.168921 \r\nL 65.161542 61.095992 \r\nL 65.245191 60.621957 \r\nL 65.300956 60.512564 \r\nL 65.406911 60.147922 \r\nL 65.47383 60.038529 \r\nL 65.574208 59.455101 \r\nL 65.607668 59.382172 \r\nL 65.713623 58.835209 \r\nL 65.730352 58.835209 \r\nL 65.836307 58.361173 \r\nL 65.869767 58.25178 \r\nL 65.964568 57.668352 \r\nL 65.992451 57.631888 \r\nL 66.087253 57.340174 \r\nL 66.143019 57.267246 \r\nL 66.226667 56.829674 \r\nL 66.260126 56.756746 \r\nL 66.354928 56.392103 \r\nL 66.371658 56.392103 \r\nL 66.472036 55.735747 \r\nL 66.589144 55.626354 \r\nL 66.672793 55.225247 \r\nL 66.728558 55.152319 \r\nL 66.828937 54.313641 \r\nL 66.851243 54.240712 \r\nL 66.951621 53.985463 \r\nL 66.968351 53.912534 \r\nL 67.074306 53.36557 \r\nL 67.141225 53.256177 \r\nL 67.247179 52.964463 \r\nL 67.252756 52.964463 \r\nL 67.314098 52.599821 \r\nL 67.403323 52.490428 \r\nL 67.503702 51.834072 \r\nL 67.559467 51.724679 \r\nL 67.598503 51.578822 \r\nL 67.693305 51.505893 \r\nL 67.79926 51.250643 \r\nL 67.849449 51.250643 \r\nL 67.933098 50.740144 \r\nL 68.01117 50.630751 \r\nL 68.061359 50.521358 \r\nL 68.223079 50.411966 \r\nL 68.323458 50.19318 \r\nL 68.40153 50.083787 \r\nL 68.485178 49.755609 \r\nL 68.535367 49.646216 \r\nL 68.613439 49.500359 \r\nL 68.7417 49.390966 \r\nL 68.803043 49.135717 \r\nL 68.95361 49.062788 \r\nL 69.059565 48.698146 \r\nL 69.109754 48.588753 \r\nL 69.210132 48.22411 \r\nL 69.377429 48.114718 \r\nL 69.472231 47.895932 \r\nL 69.583762 47.786539 \r\nL 69.672988 47.567754 \r\nL 69.728753 47.531289 \r\nL 69.834708 46.838469 \r\nL 69.92951 46.729076 \r\nL 70.035465 46.473826 \r\nL 70.208338 46.364433 \r\nL 70.30314 45.963326 \r\nL 70.403518 45.853934 \r\nL 70.403518 45.744541 \r\nL 70.576392 45.635148 \r\nL 70.682347 45.270506 \r\nL 70.743689 45.161113 \r\nL 70.799455 45.05172 \r\nL 70.910986 44.942327 \r\nL 71.016941 44.832935 \r\nL 71.111743 44.723542 \r\nL 71.217698 44.541221 \r\nL 71.384995 44.431828 \r\nL 71.485373 44.140114 \r\nL 71.546715 44.030721 \r\nL 71.613634 43.775471 \r\nL 71.741895 43.666078 \r\nL 71.825544 43.520221 \r\nL 71.992841 43.410829 \r\nL 72.065336 43.264972 \r\nL 72.188021 43.155579 \r\nL 72.293976 42.973258 \r\nL 72.327435 42.936793 \r\nL 72.383201 42.754472 \r\nL 72.583957 42.645079 \r\nL 72.662029 42.426294 \r\nL 72.991047 42.316901 \r\nL 73.085849 42.243972 \r\nL 73.130461 42.13458 \r\nL 73.236416 41.952258 \r\nL 73.281029 41.915794 \r\nL 73.359101 41.62408 \r\nL 73.60447 41.551152 \r\nL 73.693695 41.441759 \r\nL 73.872145 41.332366 \r\nL 73.966947 41.150045 \r\nL 74.307118 41.040652 \r\nL 74.413072 40.858331 \r\nL 74.585946 40.785402 \r\nL 74.669595 40.566617 \r\nL 74.914964 40.457224 \r\nL 75.015342 40.238438 \r\nL 75.171486 40.129046 \r\nL 75.255135 40.019653 \r\nL 75.556269 39.91026 \r\nL 75.651071 39.764403 \r\nL 75.957782 39.65501 \r\nL 76.013548 39.582082 \r\nL 76.158539 39.509153 \r\nL 76.225458 39.290368 \r\nL 76.560052 39.180975 \r\nL 76.666007 38.925725 \r\nL 76.755232 38.852797 \r\nL 76.822151 38.743404 \r\nL 77.151169 38.634011 \r\nL 77.179051 38.561083 \r\nL 77.351925 38.45169 \r\nL 77.429997 38.159976 \r\nL 77.580564 38.050583 \r\nL 77.675366 37.94119 \r\nL 77.920735 37.831798 \r\nL 77.959771 37.758869 \r\nL 78.216293 37.649476 \r\nL 78.283212 37.576548 \r\nL 78.517428 37.467155 \r\nL 78.61223 37.321298 \r\nL 79.069509 37.211905 \r\nL 79.130851 37.066048 \r\nL 79.365067 36.956655 \r\nL 79.365067 36.920191 \r\nL 79.55467 36.810798 \r\nL 79.638319 36.664941 \r\nL 79.96176 36.555549 \r\nL 79.984066 36.48262 \r\nL 80.313084 36.373227 \r\nL 80.313084 36.336763 \r\nL 80.541723 36.22737 \r\nL 80.619795 36.081513 \r\nL 80.881894 36.008585 \r\nL 80.887471 35.899192 \r\nL 81.378209 35.789799 \r\nL 81.389362 35.680406 \r\nL 81.618001 35.607478 \r\nL 81.651461 35.498085 \r\nL 81.885677 35.388692 \r\nL 81.885677 35.352228 \r\nL 82.421028 35.242835 \r\nL 82.421028 35.206371 \r\nL 82.588325 35.096978 \r\nL 82.616208 35.02405 \r\nL 82.794658 34.987586 \r\nL 82.856 34.805264 \r\nL 83.413657 34.695872 \r\nL 83.413657 34.622943 \r\nL 83.804017 34.51355 \r\nL 83.854206 34.404158 \r\nL 84.071692 34.294765 \r\nL 84.071692 34.258301 \r\nL 84.38398 34.148908 \r\nL 84.456476 33.966587 \r\nL 84.556854 33.893658 \r\nL 84.556854 33.820729 \r\nL 84.740881 33.711337 \r\nL 84.768764 33.638408 \r\nL 85.209313 33.529015 \r\nL 85.209313 33.492551 \r\nL 85.616402 33.383158 \r\nL 85.683321 33.31023 \r\nL 86.246555 33.200837 \r\nL 86.330203 33.127909 \r\nL 86.675951 33.018516 \r\nL 86.72614 32.945587 \r\nL 87.188995 32.836195 \r\nL 87.188995 32.79973 \r\nL 87.512436 32.690338 \r\nL 87.584932 32.617409 \r\nL 87.941832 32.508016 \r\nL 87.969715 32.435088 \r\nL 88.332192 32.325695 \r\nL 88.332192 32.289231 \r\nL 88.516219 32.179838 \r\nL 88.605444 32.070445 \r\nL 89.598074 31.961052 \r\nL 89.692875 31.888124 \r\nL 90.049776 31.778731 \r\nL 90.127848 31.705803 \r\nL 91.003369 31.59641 \r\nL 91.025676 31.487017 \r\nL 91.482954 31.377624 \r\nL 91.52199 31.304696 \r\nL 91.795242 31.231767 \r\nL 91.795242 31.158839 \r\nL 92.057341 31.049446 \r\nL 92.057341 31.012982 \r\nL 92.960746 30.903589 \r\nL 92.966322 30.830661 \r\nL 93.345529 30.721268 \r\nL 93.445907 30.575411 \r\nL 93.724736 30.466018 \r\nL 93.747042 30.39309 \r\nL 94.176438 30.283697 \r\nL 94.176438 30.247232 \r\nL 94.43296 30.13784 \r\nL 94.522185 30.064911 \r\nL 95.03523 29.955518 \r\nL 95.079842 29.88259 \r\nL 95.78249 29.773197 \r\nL 95.81595 29.663804 \r\nL 96.524174 29.554412 \r\nL 96.552057 29.481483 \r\nL 97.092984 29.37209 \r\nL 97.171056 29.299162 \r\nL 97.488921 29.189769 \r\nL 97.55584 29.116841 \r\nL 98.436938 29.007448 \r\nL 98.436938 28.970984 \r\nL 99.819927 28.861591 \r\nL 99.909152 28.752198 \r\nL 100.912935 28.642805 \r\nL 100.918512 28.569877 \r\nL 102.139781 28.460484 \r\nL 102.139781 28.42402 \r\nL 103.216059 28.314627 \r\nL 103.216059 28.278163 \r\nL 104.431751 28.16877 \r\nL 104.520976 28.059377 \r\nL 105.134399 27.949984 \r\nL 105.151129 27.840592 \r\nL 105.502452 27.731199 \r\nL 105.502452 27.694735 \r\nL 106.606613 27.585342 \r\nL 106.606613 27.548878 \r\nL 107.125234 27.439485 \r\nL 107.125234 27.403021 \r\nL 109.127223 27.293628 \r\nL 109.160683 27.220699 \r\nL 110.772311 27.111307 \r\nL 110.833654 27.038378 \r\nL 112.523355 26.928985 \r\nL 112.523355 26.892521 \r\nL 114.201902 26.783128 \r\nL 114.201902 26.746664 \r\nL 115.144343 26.637271 \r\nL 115.144343 26.600807 \r\nL 117.79879 26.491414 \r\nL 117.79879 26.45495 \r\nL 119.494068 26.345557 \r\nL 119.494068 26.309093 \r\nL 120.386319 26.1997 \r\nL 120.386319 26.163236 \r\nL 121.830651 26.053843 \r\nL 121.925452 25.907986 \r\nL 123.453433 25.798593 \r\nL 123.453433 25.762129 \r\nL 124.078008 25.652736 \r\nL 124.078008 25.616272 \r\nL 125.940583 25.506879 \r\nL 125.940583 25.470415 \r\nL 126.955519 25.361022 \r\nL 126.955519 25.324558 \r\nL 127.697203 25.215165 \r\nL 127.697203 25.178701 \r\nL 128.868282 25.069308 \r\nL 128.868282 25.032844 \r\nL 130.134164 24.923451 \r\nL 130.134164 24.886987 \r\nL 131.980009 24.777594 \r\nL 131.980009 24.74113 \r\nL 133.167818 24.631737 \r\nL 133.234737 24.558809 \r\nL 134.734835 24.449416 \r\nL 134.734835 24.412952 \r\nL 136.207049 24.303559 \r\nL 136.207049 24.267095 \r\nL 138.069624 24.157702 \r\nL 138.069624 24.121238 \r\nL 140.997323 24.011845 \r\nL 140.997323 23.975381 \r\nL 142.809708 23.865988 \r\nL 142.915663 23.793059 \r\nL 143.70196 23.683667 \r\nL 143.70196 23.647202 \r\nL 148.057261 23.53781 \r\nL 148.113027 23.428417 \r\nL 152.457175 23.319024 \r\nL 152.457175 23.28256 \r\nL 155.306803 23.173167 \r\nL 155.312379 23.100238 \r\nL 157.520701 22.990846 \r\nL 157.598773 22.917917 \r\nL 159.093294 22.808524 \r\nL 159.093294 22.77206 \r\nL 161.546985 22.662667 \r\nL 161.546985 22.626203 \r\nL 164.474685 22.51681 \r\nL 164.474685 22.480346 \r\nL 168.601347 22.370953 \r\nL 168.601347 22.334489 \r\nL 170.564299 22.225096 \r\nL 170.670254 22.152168 \r\nL 172.956648 22.042775 \r\nL 172.956648 22.006311 \r\nL 174.473475 21.896918 \r\nL 174.473475 21.860454 \r\nL 175.510717 21.751061 \r\nL 175.510717 21.714597 \r\nL 180.802883 21.605204 \r\nL 180.802883 21.56874 \r\nL 183.725006 21.459347 \r\nL 183.725006 21.422883 \r\nL 187.043065 21.31349 \r\nL 187.043065 21.277026 \r\nL 188.420478 21.167633 \r\nL 188.420478 21.131169 \r\nL 192.162357 21.021776 \r\nL 192.262735 20.948847 \r\nL 195.920965 20.839455 \r\nL 195.920965 20.80299 \r\nL 200.761428 20.693598 \r\nL 200.761428 20.657133 \r\nL 208.239609 20.547741 \r\nL 208.239609 20.511276 \r\nL 214.039242 20.401884 \r\nL 214.039242 20.365419 \r\nL 215.461268 20.256027 \r\nL 215.461268 20.219562 \r\nL 228.142389 20.11017 \r\nL 228.142389 20.073705 \r\nL 236.674542 19.964313 \r\nL 236.674542 19.927848 \r\nL 243.801399 19.818456 \r\nL 243.801399 19.781991 \r\nL 251.212661 19.672598 \r\nL 251.212661 19.636134 \r\nL 259.075625 19.526741 \r\nL 259.075625 19.490277 \r\nL 270.223189 19.380884 \r\nL 270.223189 19.34442 \r\nL 278.437477 19.235027 \r\nL 278.437477 19.198563 \r\nL 282.235122 19.08917 \r\nL 282.235122 19.052706 \r\nL 287.064432 18.943313 \r\nL 287.064432 18.906849 \r\nL 296.550178 18.797456 \r\nL 296.550178 18.760992 \r\nL 299.394229 18.651599 \r\nL 299.394229 18.615135 \r\nL 309.883758 18.505742 \r\nL 309.928371 18.432814 \r\nL 315.220536 18.323421 \r\nL 315.220536 18.286957 \r\nL 322.352969 18.177564 \r\nL 322.352969 18.1411 \r\nL 328.10799 18.031707 \r\nL 328.10799 17.995243 \r\nL 334.348172 17.88585 \r\nL 334.348172 17.849386 \r\nL 345.835907 17.739993 \r\nL 345.835907 17.703529 \r\nL 350.966352 17.594136 \r\nL 350.983082 17.521207 \r\nL 354.568817 17.411815 \r\nL 354.568817 17.37535 \r\nL 359.297748 17.265958 \r\nL 359.297748 17.229493 \r\nL 363.117699 17.120101 \r\nL 363.117699 17.083636 \r\nL 363.363068 17.083636 \r\nL 363.363068 17.083636 \r\n\" style=\"fill:none;stroke:#1f77b4;stroke-linecap:square;stroke-width:1.5;\"/>\r\n   </g>\r\n   <g id=\"patch_3\">\r\n    <path d=\"M 43.78125 224.64 \r\nL 43.78125 7.2 \r\n\" style=\"fill:none;stroke:#000000;stroke-linecap:square;stroke-linejoin:miter;stroke-width:0.8;\"/>\r\n   </g>\r\n   <g id=\"patch_4\">\r\n    <path d=\"M 378.58125 224.64 \r\nL 378.58125 7.2 \r\n\" style=\"fill:none;stroke:#000000;stroke-linecap:square;stroke-linejoin:miter;stroke-width:0.8;\"/>\r\n   </g>\r\n   <g id=\"patch_5\">\r\n    <path d=\"M 43.78125 224.64 \r\nL 378.58125 224.64 \r\n\" style=\"fill:none;stroke:#000000;stroke-linecap:square;stroke-linejoin:miter;stroke-width:0.8;\"/>\r\n   </g>\r\n   <g id=\"patch_6\">\r\n    <path d=\"M 43.78125 7.2 \r\nL 378.58125 7.2 \r\n\" style=\"fill:none;stroke:#000000;stroke-linecap:square;stroke-linejoin:miter;stroke-width:0.8;\"/>\r\n   </g>\r\n  </g>\r\n </g>\r\n <defs>\r\n  <clipPath id=\"p4bc15ce474\">\r\n   <rect height=\"217.44\" width=\"334.8\" x=\"43.78125\" y=\"7.2\"/>\r\n  </clipPath>\r\n </defs>\r\n</svg>\r\n",
            "image/png": "[encoded data removed]"
          },
          "metadata": {
            "needs_background": "light"
          }
        }
      ]
    },
    {
      "cell_type": "code",
      "metadata": {
        "colab": {
          "base_uri": "https://localhost:8080/"
        },
        "id": "WrG1_ONoDezY",
        "outputId": "3d51dbf5-e10a-4342-ff12-64be12aa0da3"
      },
      "source": [
        "aire=roc_auc_score(y_train_5,y_pred)\n",
        "print(\"L'aire est de {}\".format(aire))"
      ],
      "execution_count": 22,
      "outputs": [
        {
          "output_type": "stream",
          "name": "stdout",
          "text": [
            "L'aire est de 0.9640922704884771\n"
          ]
        }
      ]
    },
    {
      "cell_type": "markdown",
      "metadata": {
        "id": "mhpOYwXaDezY"
      },
      "source": [
        "# Apprentissage d'un classifieur multi-classes\n",
        "## Apprentissage des données"
      ]
    },
    {
      "cell_type": "code",
      "metadata": {
        "colab": {
          "base_uri": "https://localhost:8080/"
        },
        "id": "iCuESBJrDezY",
        "outputId": "792f2955-1ec6-4f9d-eb49-64c6508aeae5"
      },
      "source": [
        "clf=SGDClassifier()\n",
        "clf.fit(x_train,y_train)"
      ],
      "execution_count": 23,
      "outputs": [
        {
          "output_type": "execute_result",
          "data": {
            "text/plain": [
              "SGDClassifier()"
            ]
          },
          "metadata": {},
          "execution_count": 23
        }
      ]
    },
    {
      "cell_type": "code",
      "metadata": {
        "colab": {
          "base_uri": "https://localhost:8080/"
        },
        "id": "n8tqzV1uDezY",
        "outputId": "73ecdd6a-7aa1-450c-d43f-4e19a3ba1c7b"
      },
      "source": [
        "print('Pour la valeur notre modele trouve :')\n",
        "print(clf.predict(x_test)[0])\n",
        "print(\"Il aurait du trouver :\")\n",
        "y_test[0]"
      ],
      "execution_count": 24,
      "outputs": [
        {
          "output_type": "stream",
          "name": "stdout",
          "text": [
            "Pour la valeur notre modele trouve :\n",
            "7\n",
            "Il aurait du trouver :\n"
          ]
        },
        {
          "output_type": "execute_result",
          "data": {
            "text/plain": [
              "7"
            ]
          },
          "metadata": {},
          "execution_count": 24
        }
      ]
    },
    {
      "cell_type": "code",
      "metadata": {
        "colab": {
          "base_uri": "https://localhost:8080/"
        },
        "id": "PUa3KJArDezZ",
        "outputId": "aff7a6d6-c66a-4663-fab2-6ab910408c6c"
      },
      "source": [
        "clf.classes_"
      ],
      "execution_count": 25,
      "outputs": [
        {
          "output_type": "execute_result",
          "data": {
            "text/plain": [
              "array([0, 1, 2, 3, 4, 5, 6, 7, 8, 9])"
            ]
          },
          "metadata": {},
          "execution_count": 25
        }
      ]
    },
    {
      "cell_type": "markdown",
      "metadata": {
        "id": "O9vij9XADezZ"
      },
      "source": [
        "On retrouve bien ici nos 10 classes "
      ]
    },
    {
      "cell_type": "markdown",
      "metadata": {
        "id": "FnvCQtd6DezZ"
      },
      "source": [
        "## Evaluation du moèle d'apprentissage"
      ]
    },
    {
      "cell_type": "code",
      "metadata": {
        "colab": {
          "base_uri": "https://localhost:8080/"
        },
        "id": "PSBU-2ASDezZ",
        "outputId": "647d683b-9ea6-42a8-abf5-806290c0691b"
      },
      "source": [
        "regScore=cross_val_score(clf,x_train,y_train,cv=3,scoring='accuracy')\n",
        "print(\"Valeur de l'accuracy pour chaque fold :\\n\")\n",
        "for i in range(len(regScore)):\n",
        "    print(\"Accuracy fold {} = {}\".format(i+1,regScore[i]))\n",
        "\n",
        "print(\"\\nValeur moyenne de l'accuracy :\")\n",
        "print(regScore.mean())"
      ],
      "execution_count": 26,
      "outputs": [
        {
          "output_type": "stream",
          "name": "stdout",
          "text": [
            "Valeur de l'accuracy pour chaque fold :\n\nAccuracy fold 1 = 0.8847\nAccuracy fold 2 = 0.84505\nAccuracy fold 3 = 0.86205\n\nValeur moyenne de l'accuracy :\n0.8639333333333333\n"
          ]
        }
      ]
    },
    {
      "cell_type": "markdown",
      "metadata": {
        "id": "Gr7zmq1fDeza"
      },
      "source": [
        "Scaling du jeu d'entrainement :"
      ]
    },
    {
      "cell_type": "code",
      "metadata": {
        "id": "8H7TgfnaDeza"
      },
      "source": [
        "scaler=StandardScaler()\n",
        "scaler.fit(x_train)\n",
        "x_train_scaled=scaler.transform(x_train)"
      ],
      "execution_count": 27,
      "outputs": []
    },
    {
      "cell_type": "code",
      "metadata": {
        "colab": {
          "base_uri": "https://localhost:8080/"
        },
        "id": "bL8SwMa3Deza",
        "outputId": "3ad4605e-031b-4102-e2be-c1a185767833"
      },
      "source": [
        "regScore=cross_val_score(clf,x_train_scaled,y_train,cv=3,scoring='accuracy')\n",
        "print(\"Valeur de l'accuracy pour chaque fold :\\n\")\n",
        "for i in range(len(regScore)):\n",
        "    print(\"Accuracy fold {} = {}\".format(i+1,regScore[i]))\n",
        "\n",
        "print(\"\\nValeur moyenne de l'accuracy :\")\n",
        "print(regScore.mean())"
      ],
      "execution_count": 28,
      "outputs": [
        {
          "output_type": "stream",
          "name": "stdout",
          "text": [
            "Valeur de l'accuracy pour chaque fold :\n\nAccuracy fold 1 = 0.90205\nAccuracy fold 2 = 0.89865\nAccuracy fold 3 = 0.898\n\nValeur moyenne de l'accuracy :\n0.8995666666666667\n"
          ]
        }
      ]
    },
    {
      "cell_type": "code",
      "metadata": {
        "id": "zO-WpzYFDeza"
      },
      "source": [
        "y_pred = cross_val_predict(clf,x_train,y_train_5,cv=3)"
      ],
      "execution_count": 29,
      "outputs": []
    },
    {
      "cell_type": "code",
      "metadata": {
        "colab": {
          "base_uri": "https://localhost:8080/"
        },
        "id": "F-EbqWQ0Dezb",
        "outputId": "0d39a4f7-200a-4e2e-94f6-8f6834cc1662"
      },
      "source": [
        "confusionMatrix=confusion_matrix(y_train,y_pred)\n",
        "confusionMatrix.ravel()\n",
        "\n"
      ],
      "execution_count": 30,
      "outputs": [
        {
          "output_type": "execute_result",
          "data": {
            "text/plain": [
              "array([5807,  116,    0,    0,    0,    0,    0,    0,    0,    0, 6713,\n",
              "         29,    0,    0,    0,    0,    0,    0,    0,    0, 5917,   41,\n",
              "          0,    0,    0,    0,    0,    0,    0,    0, 5993,  138,    0,\n",
              "          0,    0,    0,    0,    0,    0,    0, 5772,   70,    0,    0,\n",
              "          0,    0,    0,    0,    0,    0, 1417, 4004,    0,    0,    0,\n",
              "          0,    0,    0,    0,    0, 5710,  208,    0,    0,    0,    0,\n",
              "          0,    0,    0,    0, 6251,   14,    0,    0,    0,    0,    0,\n",
              "          0,    0,    0, 5676,  175,    0,    0,    0,    0,    0,    0,\n",
              "          0,    0, 5893,   56,    0,    0,    0,    0,    0,    0,    0,\n",
              "          0], dtype=int64)"
            ]
          },
          "metadata": {},
          "execution_count": 30
        }
      ]
    },
    {
      "cell_type": "code",
      "metadata": {
        "id": "p9CREPcEDezb"
      },
      "source": [],
      "execution_count": null,
      "outputs": []
    },
    {
      "cell_type": "code",
      "metadata": {
        "id": "6OADn8anEdX2"
      },
      "source": [
        "import matplotlib.pyplot as plt\r\n",
        "import tensorflow as tf\r\n",
        "import numpy as np\r\n",
        "\r\n",
        "\r\n",
        "\r\n",
        "targets_names = [0,1,2,3,4,5,6,7,8,9]\r\n",
        "\r\n",
        "\r\n",
        "images_train = x_train.astype('float')/255\r\n",
        "images_test = x_test.astype('float')/255\r\n"
      ],
      "execution_count": 31,
      "outputs": []
    },
    {
      "cell_type": "code",
      "metadata": {
        "id": "FEAeRt2VJAZ0"
      },
      "source": [
        "model = tf.keras.models.Sequential()\r\n",
        "model.add(tf.keras.layers.Flatten(input_shape=[28,28]))\r\n",
        "model.add(tf.keras.layers.Dense(256, activation=\"relu\"))\r\n",
        "model.add(tf.keras.layers.Dense(128, activation=\"relu\"))\r\n",
        "model.add(tf.keras.layers.Dense(10, activation=\"softmax\"))"
      ],
      "execution_count": 32,
      "outputs": []
    },
    {
      "cell_type": "code",
      "metadata": {
        "colab": {
          "base_uri": "https://localhost:8080/",
          "height": 163
        },
        "id": "QiI8O840J-wo",
        "outputId": "3eeff51e-7276-432a-98cd-65e86ef5ea8c"
      },
      "source": [
        "model.summary()"
      ],
      "execution_count": 33,
      "outputs": [
        {
          "output_type": "stream",
          "name": "stdout",
          "text": [
            "Model: \"sequential\"\n_________________________________________________________________\nLayer (type)                 Output Shape              Param #   \n=================================================================\nflatten (Flatten)            (None, 784)               0         \n_________________________________________________________________\ndense (Dense)                (None, 256)               200960    \n_________________________________________________________________\ndense_1 (Dense)              (None, 128)               32896     \n_________________________________________________________________\ndense_2 (Dense)              (None, 10)                1290      \n=================================================================\nTotal params: 235,146\nTrainable params: 235,146\nNon-trainable params: 0\n_________________________________________________________________\n"
          ]
        }
      ]
    },
    {
      "cell_type": "code",
      "metadata": {
        "id": "nnuGWIhnKEVr"
      },
      "source": [
        "model.compile(\r\n",
        "    loss=\"sparse_categorical_crossentropy\",\r\n",
        "    optimizer=\"adam\",\r\n",
        "    metrics=[\"accuracy\"]\r\n",
        ")"
      ],
      "execution_count": 34,
      "outputs": []
    },
    {
      "cell_type": "code",
      "metadata": {
        "colab": {
          "base_uri": "https://localhost:8080/"
        },
        "id": "Aj7s17t9KISJ",
        "outputId": "ab10ae33-d2a4-4904-c547-d3be0efb8ccc"
      },
      "source": [
        "history = model.fit(images_train,\r\n",
        "                    y_train,\r\n",
        "                    epochs=10,\r\n",
        "                    validation_split=0.2)"
      ],
      "execution_count": 35,
      "outputs": [
        {
          "output_type": "stream",
          "name": "stdout",
          "text": [
            "Epoch 1/10\n",
            "WARNING:tensorflow:Model was constructed with shape (None, 28, 28) for input KerasTensor(type_spec=TensorSpec(shape=(None, 28, 28), dtype=tf.float32, name='flatten_input'), name='flatten_input', description=\"created by layer 'flatten_input'\"), but it was called on an input with incompatible shape (32, 784).\n",
            "WARNING:tensorflow:Model was constructed with shape (None, 28, 28) for input KerasTensor(type_spec=TensorSpec(shape=(None, 28, 28), dtype=tf.float32, name='flatten_input'), name='flatten_input', description=\"created by layer 'flatten_input'\"), but it was called on an input with incompatible shape (32, 784).\n",
            "1494/1500 [============================>.] - ETA: 0s - loss: 0.3922 - accuracy: 0.8844WARNING:tensorflow:Model was constructed with shape (None, 28, 28) for input KerasTensor(type_spec=TensorSpec(shape=(None, 28, 28), dtype=tf.float32, name='flatten_input'), name='flatten_input', description=\"created by layer 'flatten_input'\"), but it was called on an input with incompatible shape (32, 784).\n",
            "1500/1500 [==============================] - 6s 3ms/step - loss: 0.3915 - accuracy: 0.8846 - val_loss: 0.1171 - val_accuracy: 0.9647\n",
            "Epoch 2/10\n",
            "1500/1500 [==============================] - 3s 2ms/step - loss: 0.0954 - accuracy: 0.9704 - val_loss: 0.1091 - val_accuracy: 0.9677\n",
            "Epoch 3/10\n",
            "1500/1500 [==============================] - 3s 2ms/step - loss: 0.0613 - accuracy: 0.9800 - val_loss: 0.0925 - val_accuracy: 0.9718\n",
            "Epoch 4/10\n",
            "1500/1500 [==============================] - 3s 2ms/step - loss: 0.0429 - accuracy: 0.9872 - val_loss: 0.0946 - val_accuracy: 0.9748\n",
            "Epoch 5/10\n",
            "1500/1500 [==============================] - 3s 2ms/step - loss: 0.0347 - accuracy: 0.9879 - val_loss: 0.1037 - val_accuracy: 0.9715\n",
            "Epoch 6/10\n",
            "1500/1500 [==============================] - 3s 2ms/step - loss: 0.0248 - accuracy: 0.9914 - val_loss: 0.0954 - val_accuracy: 0.9758\n",
            "Epoch 7/10\n",
            "1500/1500 [==============================] - 3s 2ms/step - loss: 0.0229 - accuracy: 0.9926 - val_loss: 0.0980 - val_accuracy: 0.9772\n",
            "Epoch 8/10\n",
            "1500/1500 [==============================] - 3s 2ms/step - loss: 0.0199 - accuracy: 0.9935 - val_loss: 0.1044 - val_accuracy: 0.9770\n",
            "Epoch 9/10\n",
            "1500/1500 [==============================] - 3s 2ms/step - loss: 0.0148 - accuracy: 0.9949 - val_loss: 0.1012 - val_accuracy: 0.9768\n",
            "Epoch 10/10\n",
            "1500/1500 [==============================] - 3s 2ms/step - loss: 0.0161 - accuracy: 0.9948 - val_loss: 0.1062 - val_accuracy: 0.9777\n"
          ]
        }
      ]
    },
    {
      "cell_type": "code",
      "metadata": {
        "colab": {
          "base_uri": "https://localhost:8080/"
        },
        "id": "5AKqhaQzKiBi",
        "outputId": "ebfa34ff-6e8e-47e4-b00a-e0b81986e625"
      },
      "source": [
        "loss, acc = model.evaluate(images_test, y_test)\r\n",
        "print(\"Test Loss\", loss)\r\n",
        "print(\"Test Accuracy\", acc)"
      ],
      "execution_count": 36,
      "outputs": [
        {
          "output_type": "stream",
          "name": "stdout",
          "text": [
            "WARNING:tensorflow:Model was constructed with shape (None, 28, 28) for input KerasTensor(type_spec=TensorSpec(shape=(None, 28, 28), dtype=tf.float32, name='flatten_input'), name='flatten_input', description=\"created by layer 'flatten_input'\"), but it was called on an input with incompatible shape (None, 784).\n",
            "313/313 [==============================] - 1s 2ms/step - loss: 0.0816 - accuracy: 0.9805\n",
            "Test Loss 0.08164186775684357\n",
            "Test Accuracy 0.9804999828338623\n"
          ]
        }
      ]
    },
    {
      "cell_type": "code",
      "metadata": {
        "colab": {
          "base_uri": "https://localhost:8080/",
          "height": 163
        },
        "id": "76CONRpYKtI6",
        "outputId": "9abb8d23-060b-4852-ffd2-e8ecfba18088"
      },
      "source": [
        "model.predict_classes(images_train)[0]"
      ],
      "execution_count": 37,
      "outputs": [
        {
          "output_type": "stream",
          "name": "stdout",
          "text": [
            "WARNING:tensorflow:Model was constructed with shape (None, 28, 28) for input KerasTensor(type_spec=TensorSpec(shape=(None, 28, 28), dtype=tf.float32, name='flatten_input'), name='flatten_input', description=\"created by layer 'flatten_input'\"), but it was called on an input with incompatible shape (32, 784).\n"
          ]
        },
        {
          "output_type": "execute_result",
          "data": {
            "text/plain": [
              "5"
            ]
          },
          "metadata": {},
          "execution_count": 37
        }
      ]
    },
    {
      "cell_type": "code",
      "metadata": {
        "colab": {
          "base_uri": "https://localhost:8080/",
          "height": 163
        },
        "id": "HE7FaoF-L2At",
        "outputId": "76c9837b-993d-4f67-dd86-a6d1205f4f0c"
      },
      "source": [
        "model = tf.keras.Sequential()\n",
        "\n",
        "model.add(tf.keras.layers.Conv2D(64, kernel_size=(3, 3),\n",
        "                 activation='relu',\n",
        "                 input_shape=(28, 28, 1)))\n",
        "\n",
        "model.add(tf.keras.layers.Conv2D(64, \n",
        "                 kernel_size=(3, 3), \n",
        "                 activation='relu'))\n",
        "\n",
        "model.add(tf.keras.layers.MaxPooling2D(pool_size=(2, 2)))\n",
        "model.add(tf.keras.layers.Dropout(0.3))\n",
        "\n",
        "model.add(tf.keras.layers.Conv2D(256, \n",
        "                 kernel_size=(3, 3), \n",
        "                 activation='relu'))\n",
        "\n",
        "model.add(tf.keras.layers.Conv2D(256, \n",
        "                 kernel_size=(3, 3), \n",
        "                 padding='same',\n",
        "                 activation='relu'))\n",
        "\n",
        "model.add(tf.keras.layers.MaxPooling2D(pool_size=(2, 2)))\n",
        "model.add(tf.keras.layers.Dropout(0.3))\n",
        "\n",
        "model.add(tf.keras.layers.Flatten())\n",
        "\n",
        "model.add(tf.keras.layers.Dense(2048, activation='relu'))\n",
        "model.add(tf.keras.layers.Dropout(0.3))\n",
        "model.add(tf.keras.layers.Dense(512, activation='relu'))\n",
        "\n",
        "model.add(tf.keras.layers.Dense(10, activation='softmax'))"
      ],
      "execution_count": 69,
      "outputs": []
    },
    {
      "cell_type": "code",
      "metadata": {
        "id": "cFZkfyHUL7qt"
      },
      "source": [
        "model.summary()"
      ],
      "execution_count": 70,
      "outputs": [
        {
          "output_type": "stream",
          "name": "stdout",
          "text": [
            "Model: \"sequential_9\"\n_________________________________________________________________\nLayer (type)                 Output Shape              Param #   \n=================================================================\nconv2d_22 (Conv2D)           (None, 26, 26, 64)        640       \n_________________________________________________________________\nconv2d_23 (Conv2D)           (None, 24, 24, 64)        36928     \n_________________________________________________________________\nmax_pooling2d_2 (MaxPooling2 (None, 12, 12, 64)        0         \n_________________________________________________________________\ndropout (Dropout)            (None, 12, 12, 64)        0         \n_________________________________________________________________\nconv2d_24 (Conv2D)           (None, 10, 10, 256)       147712    \n_________________________________________________________________\nconv2d_25 (Conv2D)           (None, 10, 10, 256)       590080    \n_________________________________________________________________\nmax_pooling2d_3 (MaxPooling2 (None, 5, 5, 256)         0         \n_________________________________________________________________\ndropout_1 (Dropout)          (None, 5, 5, 256)         0         \n_________________________________________________________________\nflatten_9 (Flatten)          (None, 6400)              0         \n_________________________________________________________________\ndense_20 (Dense)             (None, 2048)              13109248  \n_________________________________________________________________\ndropout_2 (Dropout)          (None, 2048)              0         \n_________________________________________________________________\ndense_21 (Dense)             (None, 512)               1049088   \n_________________________________________________________________\ndense_22 (Dense)             (None, 10)                5130      \n=================================================================\nTotal params: 14,938,826\nTrainable params: 14,938,826\nNon-trainable params: 0\n_________________________________________________________________\n"
          ]
        }
      ]
    },
    {
      "cell_type": "code",
      "execution_count": 59,
      "metadata": {},
      "outputs": [],
      "source": [
        "images_train = images_train.reshape(-1,28,28,1)\n",
        "images_test = images_test.reshape(-1,28,28,1)"
      ]
    },
    {
      "cell_type": "code",
      "execution_count": 71,
      "metadata": {},
      "outputs": [],
      "source": [
        "model.compile(\n",
        "    loss=\"sparse_categorical_crossentropy\",\n",
        "    optimizer=\"adam\",\n",
        "    metrics=[\"accuracy\"]\n",
        ")"
      ]
    }
  ]
}