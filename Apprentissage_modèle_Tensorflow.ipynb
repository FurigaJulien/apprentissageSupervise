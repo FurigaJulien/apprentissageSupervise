{
  "nbformat": 4,
  "nbformat_minor": 0,
  "metadata": {
    "language_info": {
      "codemirror_mode": {
        "name": "ipython",
        "version": 3
      },
      "file_extension": ".py",
      "mimetype": "text/x-python",
      "name": "python",
      "nbconvert_exporter": "python",
      "pygments_lexer": "ipython3",
      "version": "3.8.3-final"
    },
    "orig_nbformat": 2,
    "kernelspec": {
      "name": "python3",
      "display_name": "Python 3",
      "language": "python"
    },
    "colab": {
      "name": "Apprentissage modèle Tensorflow.ipynb",
      "provenance": [],
      "collapsed_sections": [],
      "toc_visible": true
    },
    "accelerator": "GPU"
  },
  "cells": [
    {
      "cell_type": "code",
      "metadata": {
        "id": "QaEetYw8DezH"
      },
      "source": [
        "import pandas as pd \n",
        "import matplotlib.pyplot as plt \n",
        "from sklearn.preprocessing import LabelEncoder,StandardScaler\n",
        "from sklearn.linear_model import SGDClassifier\n",
        "from sklearn.model_selection import train_test_split,cross_val_score, GridSearchCV,cross_val_predict\n",
        "\n",
        "from sklearn.metrics import mean_squared_error,r2_score,confusion_matrix,f1_score,precision_recall_curve,roc_curve,roc_auc_score\n",
        "import numpy as np\n",
        "from sklearn.base import BaseEstimator\n",
        "from sklearn.datasets import fetch_openml\n",
        "import cv2"
      ],
      "execution_count": 1,
      "outputs": []
    },
    {
      "cell_type": "markdown",
      "metadata": {
        "id": "eyGY3FBbDezO"
      },
      "source": [
        "# Preparation des données\n",
        "\n",
        "## Telechargement des données"
      ]
    },
    {
      "cell_type": "code",
      "metadata": {
        "colab": {
          "base_uri": "https://localhost:8080/"
        },
        "id": "AGE6vBCkDezO",
        "outputId": "e50466b6-0fcc-4119-e895-5e0e8b7805db"
      },
      "source": [
        "dataDict=fetch_openml('mnist_784', version=1)\n",
        "\n",
        "print(\"Affichage des cles du dictionnaire : \")\n",
        "for cle in dataDict.keys():\n",
        "    print(cle)"
      ],
      "execution_count": 2,
      "outputs": [
        {
          "output_type": "stream",
          "text": [
            "Affichage des cles du dictionnaire : \n",
            "data\n",
            "target\n",
            "frame\n",
            "feature_names\n",
            "target_names\n",
            "DESCR\n",
            "details\n",
            "categories\n",
            "url\n"
          ],
          "name": "stdout"
        }
      ]
    },
    {
      "cell_type": "markdown",
      "metadata": {
        "id": "ARXZkUAYDezQ"
      },
      "source": [
        "## Informations sur les données"
      ]
    },
    {
      "cell_type": "code",
      "metadata": {
        "colab": {
          "base_uri": "https://localhost:8080/"
        },
        "id": "83sy2RiTDezQ",
        "outputId": "dae78440-df4a-49f4-b797-92a93d641638"
      },
      "source": [
        "print(\"Il y a {} features pour {} échantillons\".format(dataDict[\"data\"].shape[1],dataDict[\"data\"].shape[0]))\n",
        "X=dataDict['data']\n",
        "print(\"Il y a {} targets\".format(np.unique(dataDict['target']).size))\n",
        "y=dataDict['target']\n",
        "y=y.astype('int')\n",
        "print(\"Les differentes valeurs sont : {}\".format(np.unique(y)))\n",
        "print(\"Description détaillée de la base de donnée :\")\n",
        "print(dataDict['DESCR'])"
      ],
      "execution_count": 3,
      "outputs": [
        {
          "output_type": "stream",
          "text": [
            "Il y a 784 features pour 70000 échantillons\n",
            "Il y a 10 targets\n",
            "Les differentes valeurs sont : [0 1 2 3 4 5 6 7 8 9]\n",
            "Description détaillée de la base de donnée :\n",
            "**Author**: Yann LeCun, Corinna Cortes, Christopher J.C. Burges  \n",
            "**Source**: [MNIST Website](http://yann.lecun.com/exdb/mnist/) - Date unknown  \n",
            "**Please cite**:  \n",
            "\n",
            "The MNIST database of handwritten digits with 784 features, raw data available at: http://yann.lecun.com/exdb/mnist/. It can be split in a training set of the first 60,000 examples, and a test set of 10,000 examples  \n",
            "\n",
            "It is a subset of a larger set available from NIST. The digits have been size-normalized and centered in a fixed-size image. It is a good database for people who want to try learning techniques and pattern recognition methods on real-world data while spending minimal efforts on preprocessing and formatting. The original black and white (bilevel) images from NIST were size normalized to fit in a 20x20 pixel box while preserving their aspect ratio. The resulting images contain grey levels as a result of the anti-aliasing technique used by the normalization algorithm. the images were centered in a 28x28 image by computing the center of mass of the pixels, and translating the image so as to position this point at the center of the 28x28 field.  \n",
            "\n",
            "With some classification methods (particularly template-based methods, such as SVM and K-nearest neighbors), the error rate improves when the digits are centered by bounding box rather than center of mass. If you do this kind of pre-processing, you should report it in your publications. The MNIST database was constructed from NIST's NIST originally designated SD-3 as their training set and SD-1 as their test set. However, SD-3 is much cleaner and easier to recognize than SD-1. The reason for this can be found on the fact that SD-3 was collected among Census Bureau employees, while SD-1 was collected among high-school students. Drawing sensible conclusions from learning experiments requires that the result be independent of the choice of training set and test among the complete set of samples. Therefore it was necessary to build a new database by mixing NIST's datasets.  \n",
            "\n",
            "The MNIST training set is composed of 30,000 patterns from SD-3 and 30,000 patterns from SD-1. Our test set was composed of 5,000 patterns from SD-3 and 5,000 patterns from SD-1. The 60,000 pattern training set contained examples from approximately 250 writers. We made sure that the sets of writers of the training set and test set were disjoint. SD-1 contains 58,527 digit images written by 500 different writers. In contrast to SD-3, where blocks of data from each writer appeared in sequence, the data in SD-1 is scrambled. Writer identities for SD-1 is available and we used this information to unscramble the writers. We then split SD-1 in two: characters written by the first 250 writers went into our new training set. The remaining 250 writers were placed in our test set. Thus we had two sets with nearly 30,000 examples each. The new training set was completed with enough examples from SD-3, starting at pattern # 0, to make a full set of 60,000 training patterns. Similarly, the new test set was completed with SD-3 examples starting at pattern # 35,000 to make a full set with 60,000 test patterns. Only a subset of 10,000 test images (5,000 from SD-1 and 5,000 from SD-3) is available on this site. The full 60,000 sample training set is available.\n",
            "\n",
            "Downloaded from openml.org.\n"
          ],
          "name": "stdout"
        }
      ]
    },
    {
      "cell_type": "markdown",
      "metadata": {
        "id": "cO1r5tFIDezS"
      },
      "source": [
        "Nos valeurs sont donc des Strings"
      ]
    },
    {
      "cell_type": "markdown",
      "metadata": {
        "id": "xey1Bh9pDezS"
      },
      "source": [
        "## Repartition des données :"
      ]
    },
    {
      "cell_type": "code",
      "metadata": {
        "colab": {
          "base_uri": "https://localhost:8080/"
        },
        "id": "JS7kKbA5DezT",
        "outputId": "1363f64f-d27f-4a10-b015-21f2f4e939af"
      },
      "source": [
        "x_train, x_test, y_train, y_test = train_test_split(X,y,test_size=1/7,shuffle=False)\n",
        "print(\"Il y a bien {} valeurs dans notre base d'apprentissage\".format(x_train.shape[0]))\n"
      ],
      "execution_count": 4,
      "outputs": [
        {
          "output_type": "stream",
          "text": [
            "Il y a bien 60000 valeurs dans notre base d'apprentissage\n"
          ],
          "name": "stdout"
        }
      ]
    },
    {
      "cell_type": "code",
      "metadata": {
        "id": "uHTm2IVuDezT"
      },
      "source": [
        ""
      ],
      "execution_count": 4,
      "outputs": []
    },
    {
      "cell_type": "markdown",
      "metadata": {
        "id": "kqpXpG1iDezU"
      },
      "source": [
        "Utilisation du SGDClassifier\n",
        "\n"
      ]
    },
    {
      "cell_type": "code",
      "metadata": {
        "id": "6OADn8anEdX2"
      },
      "source": [
        "import matplotlib.pyplot as plt\r\n",
        "import tensorflow as tf\r\n",
        "import numpy as np\r\n",
        "\r\n",
        "\r\n",
        "\r\n",
        "targets_names = [0,1,2,3,4,5,6,7,8,9]\r\n",
        "\r\n",
        "\r\n",
        "images_train = x_train.astype('float')/255\r\n",
        "images_test = x_test.astype('float')/255\r\n"
      ],
      "execution_count": 5,
      "outputs": []
    },
    {
      "cell_type": "code",
      "metadata": {
        "id": "HE7FaoF-L2At"
      },
      "source": [
        "model = tf.keras.Sequential()\n",
        "\n",
        "model.add(tf.keras.layers.Conv2D(64, kernel_size=(3, 3),\n",
        "                 activation='relu',\n",
        "                 input_shape=(28, 28, 1)))\n",
        "\n",
        "model.add(tf.keras.layers.Conv2D(64, \n",
        "                 kernel_size=(3, 3), \n",
        "                 activation='relu'))\n",
        "\n",
        "model.add(tf.keras.layers.MaxPooling2D(pool_size=(2, 2)))\n",
        "model.add(tf.keras.layers.Dropout(0.3))\n",
        "\n",
        "model.add(tf.keras.layers.Conv2D(256, \n",
        "                 kernel_size=(3, 3), \n",
        "                 activation='relu'))\n",
        "\n",
        "model.add(tf.keras.layers.Conv2D(256, \n",
        "                 kernel_size=(3, 3), \n",
        "                 padding='same',\n",
        "                 activation='relu'))\n",
        "\n",
        "model.add(tf.keras.layers.MaxPooling2D(pool_size=(2, 2)))\n",
        "model.add(tf.keras.layers.Dropout(0.3))\n",
        "\n",
        "model.add(tf.keras.layers.Flatten())\n",
        "\n",
        "model.add(tf.keras.layers.Dense(2048, activation='relu'))\n",
        "model.add(tf.keras.layers.Dropout(0.3))\n",
        "model.add(tf.keras.layers.Dense(512, activation='relu'))\n",
        "\n",
        "model.add(tf.keras.layers.Dense(10, activation='softmax'))"
      ],
      "execution_count": 6,
      "outputs": []
    },
    {
      "cell_type": "code",
      "metadata": {
        "id": "cFZkfyHUL7qt",
        "colab": {
          "base_uri": "https://localhost:8080/"
        },
        "outputId": "cef607c5-a1dc-41ad-80fd-c0ae74d7f015"
      },
      "source": [
        "model.summary()"
      ],
      "execution_count": 7,
      "outputs": [
        {
          "output_type": "stream",
          "text": [
            "Model: \"sequential\"\n",
            "_________________________________________________________________\n",
            "Layer (type)                 Output Shape              Param #   \n",
            "=================================================================\n",
            "conv2d (Conv2D)              (None, 26, 26, 64)        640       \n",
            "_________________________________________________________________\n",
            "conv2d_1 (Conv2D)            (None, 24, 24, 64)        36928     \n",
            "_________________________________________________________________\n",
            "max_pooling2d (MaxPooling2D) (None, 12, 12, 64)        0         \n",
            "_________________________________________________________________\n",
            "dropout (Dropout)            (None, 12, 12, 64)        0         \n",
            "_________________________________________________________________\n",
            "conv2d_2 (Conv2D)            (None, 10, 10, 256)       147712    \n",
            "_________________________________________________________________\n",
            "conv2d_3 (Conv2D)            (None, 10, 10, 256)       590080    \n",
            "_________________________________________________________________\n",
            "max_pooling2d_1 (MaxPooling2 (None, 5, 5, 256)         0         \n",
            "_________________________________________________________________\n",
            "dropout_1 (Dropout)          (None, 5, 5, 256)         0         \n",
            "_________________________________________________________________\n",
            "flatten (Flatten)            (None, 6400)              0         \n",
            "_________________________________________________________________\n",
            "dense (Dense)                (None, 2048)              13109248  \n",
            "_________________________________________________________________\n",
            "dropout_2 (Dropout)          (None, 2048)              0         \n",
            "_________________________________________________________________\n",
            "dense_1 (Dense)              (None, 512)               1049088   \n",
            "_________________________________________________________________\n",
            "dense_2 (Dense)              (None, 10)                5130      \n",
            "=================================================================\n",
            "Total params: 14,938,826\n",
            "Trainable params: 14,938,826\n",
            "Non-trainable params: 0\n",
            "_________________________________________________________________\n"
          ],
          "name": "stdout"
        }
      ]
    },
    {
      "cell_type": "code",
      "metadata": {
        "id": "cEr38i2HgC26"
      },
      "source": [
        "images_train = images_train.reshape(-1,28,28,1)\n",
        "images_test = images_test.reshape(-1,28,28,1)"
      ],
      "execution_count": 8,
      "outputs": []
    },
    {
      "cell_type": "code",
      "metadata": {
        "id": "f9MzkcMUgC26"
      },
      "source": [
        "model.compile(\n",
        "    loss=\"sparse_categorical_crossentropy\",\n",
        "    optimizer=\"adam\",\n",
        "    metrics=[\"accuracy\"]\n",
        ")"
      ],
      "execution_count": 9,
      "outputs": []
    },
    {
      "cell_type": "code",
      "metadata": {
        "id": "7u6wiGqgOfBh"
      },
      "source": [
        ""
      ],
      "execution_count": 9,
      "outputs": []
    },
    {
      "cell_type": "code",
      "metadata": {
        "colab": {
          "base_uri": "https://localhost:8080/"
        },
        "id": "mvtXqID5gpep",
        "outputId": "c427a3a9-7144-4d02-bf44-e61e9661ee25"
      },
      "source": [
        "history = model.fit(images_train,\r\n",
        "                    y_train,\r\n",
        "                    epochs=10,\r\n",
        "                    validation_split=0.2)"
      ],
      "execution_count": 10,
      "outputs": [
        {
          "output_type": "stream",
          "text": [
            "Epoch 1/10\n",
            "1500/1500 [==============================] - 22s 10ms/step - loss: 0.3079 - accuracy: 0.8986 - val_loss: 0.0807 - val_accuracy: 0.9767\n",
            "Epoch 2/10\n",
            "1500/1500 [==============================] - 14s 9ms/step - loss: 0.0636 - accuracy: 0.9802 - val_loss: 0.0426 - val_accuracy: 0.9872\n",
            "Epoch 3/10\n",
            "1500/1500 [==============================] - 14s 9ms/step - loss: 0.0495 - accuracy: 0.9861 - val_loss: 0.0390 - val_accuracy: 0.9898\n",
            "Epoch 4/10\n",
            "1500/1500 [==============================] - 14s 9ms/step - loss: 0.0424 - accuracy: 0.9874 - val_loss: 0.0408 - val_accuracy: 0.9889\n",
            "Epoch 5/10\n",
            "1500/1500 [==============================] - 14s 9ms/step - loss: 0.0352 - accuracy: 0.9899 - val_loss: 0.0329 - val_accuracy: 0.9904\n",
            "Epoch 6/10\n",
            "1500/1500 [==============================] - 14s 9ms/step - loss: 0.0308 - accuracy: 0.9905 - val_loss: 0.0244 - val_accuracy: 0.9936\n",
            "Epoch 7/10\n",
            "1500/1500 [==============================] - 14s 9ms/step - loss: 0.0257 - accuracy: 0.9926 - val_loss: 0.0325 - val_accuracy: 0.9918\n",
            "Epoch 8/10\n",
            "1500/1500 [==============================] - 14s 10ms/step - loss: 0.0255 - accuracy: 0.9926 - val_loss: 0.0426 - val_accuracy: 0.9896\n",
            "Epoch 9/10\n",
            "1500/1500 [==============================] - 14s 9ms/step - loss: 0.0254 - accuracy: 0.9928 - val_loss: 0.0327 - val_accuracy: 0.9925\n",
            "Epoch 10/10\n",
            "1500/1500 [==============================] - 14s 10ms/step - loss: 0.0181 - accuracy: 0.9950 - val_loss: 0.0328 - val_accuracy: 0.9923\n"
          ],
          "name": "stdout"
        }
      ]
    }
  ]
}